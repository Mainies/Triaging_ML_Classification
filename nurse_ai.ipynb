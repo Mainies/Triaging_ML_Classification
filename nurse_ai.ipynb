{
 "cells": [
  {
   "cell_type": "markdown",
   "metadata": {},
   "source": [
    "# ML Performance on Real Triaging Data\n",
    "\n",
    "The components of this notebook are a combination of two university tasks. \n",
    "\n",
    "The first task was to find two datasets that create a data story. The presentation delivered is available on request. \n",
    "The second task involved a bias examination of the dataset and evaluation on methodologies.\n",
    "\n",
    "This notebook will focus on the code to create the models required.\n",
    "\n",
    "Some skills demonstrated are Data Cleaning, Natural Langauge Processing and Model Training/Optimisation."
   ]
  },
  {
   "cell_type": "markdown",
   "metadata": {},
   "source": [
    "### Importing Required Libraries"
   ]
  },
  {
   "cell_type": "code",
   "execution_count": 1,
   "metadata": {},
   "outputs": [],
   "source": [
    "#Data Manipulation\n",
    "import pandas as pd\n",
    "import matplotlib.pyplot as plt\n",
    "import numpy as np\n",
    "from scipy import sparse\n",
    "from sklearn.preprocessing import StandardScaler\n",
    "from sklearn.preprocessing import LabelEncoder\n",
    "from sklearn.preprocessing import OrdinalEncoder\n",
    "import random\n",
    "#NLP for Chief Complaint\n",
    "from sklearn.feature_extraction.text import TfidfVectorizer\n",
    "import nltk\n",
    "#from nltk.tokenize import word_tokenize\n",
    "from nltk.stem import WordNetLemmatizer\n",
    "\n",
    "#MachineLearning\n",
    "from sklearn.linear_model import LogisticRegressionCV\n",
    "from sklearn.model_selection import train_test_split\n",
    "from sklearn.tree import DecisionTreeClassifier\n",
    "from sklearn.model_selection import GridSearchCV\n",
    "from sklearn.svm import SVC\n",
    "from sklearn.ensemble import RandomForestClassifier\n",
    "from sklearn.metrics import confusion_matrix, ConfusionMatrixDisplay, accuracy_score\n",
    "from sklearn.metrics import roc_auc_score, roc_curve\n",
    "from sklearn.naive_bayes import GaussianNB\n"
   ]
  },
  {
   "cell_type": "code",
   "execution_count": 2,
   "metadata": {},
   "outputs": [],
   "source": [
    "from random import seed\n",
    "# maintaining a controlled environment for testing\n",
    "random.seed(37)"
   ]
  },
  {
   "cell_type": "markdown",
   "metadata": {},
   "source": [
    "### Importing and Inspecting Data"
   ]
  },
  {
   "cell_type": "code",
   "execution_count": 3,
   "metadata": {},
   "outputs": [],
   "source": [
    "nurse_file = \"data.csv\"\n",
    "nurse_df = pd.read_csv(nurse_file, sep = \";\", encoding='latin-1')"
   ]
  },
  {
   "cell_type": "code",
   "execution_count": 4,
   "metadata": {},
   "outputs": [
    {
     "data": {
      "text/html": [
       "<div>\n",
       "<style scoped>\n",
       "    .dataframe tbody tr th:only-of-type {\n",
       "        vertical-align: middle;\n",
       "    }\n",
       "\n",
       "    .dataframe tbody tr th {\n",
       "        vertical-align: top;\n",
       "    }\n",
       "\n",
       "    .dataframe thead th {\n",
       "        text-align: right;\n",
       "    }\n",
       "</style>\n",
       "<table border=\"1\" class=\"dataframe\">\n",
       "  <thead>\n",
       "    <tr style=\"text-align: right;\">\n",
       "      <th></th>\n",
       "      <th>Group</th>\n",
       "      <th>Sex</th>\n",
       "      <th>Age</th>\n",
       "      <th>Patients number per hour</th>\n",
       "      <th>Arrival mode</th>\n",
       "      <th>Injury</th>\n",
       "      <th>Chief_complain</th>\n",
       "      <th>Mental</th>\n",
       "      <th>Pain</th>\n",
       "      <th>NRS_pain</th>\n",
       "      <th>...</th>\n",
       "      <th>BT</th>\n",
       "      <th>Saturation</th>\n",
       "      <th>KTAS_RN</th>\n",
       "      <th>Diagnosis in ED</th>\n",
       "      <th>Disposition</th>\n",
       "      <th>KTAS_expert</th>\n",
       "      <th>Error_group</th>\n",
       "      <th>Length of stay_min</th>\n",
       "      <th>KTAS duration_min</th>\n",
       "      <th>mistriage</th>\n",
       "    </tr>\n",
       "  </thead>\n",
       "  <tbody>\n",
       "    <tr>\n",
       "      <th>0</th>\n",
       "      <td>2</td>\n",
       "      <td>2</td>\n",
       "      <td>71</td>\n",
       "      <td>3</td>\n",
       "      <td>3</td>\n",
       "      <td>2</td>\n",
       "      <td>right ocular pain</td>\n",
       "      <td>1</td>\n",
       "      <td>1</td>\n",
       "      <td>2</td>\n",
       "      <td>...</td>\n",
       "      <td>36.6</td>\n",
       "      <td>100</td>\n",
       "      <td>2</td>\n",
       "      <td>Corneal abrasion</td>\n",
       "      <td>1</td>\n",
       "      <td>4</td>\n",
       "      <td>2</td>\n",
       "      <td>86</td>\n",
       "      <td>5,00</td>\n",
       "      <td>1</td>\n",
       "    </tr>\n",
       "    <tr>\n",
       "      <th>1</th>\n",
       "      <td>1</td>\n",
       "      <td>1</td>\n",
       "      <td>56</td>\n",
       "      <td>12</td>\n",
       "      <td>3</td>\n",
       "      <td>2</td>\n",
       "      <td>right forearm burn</td>\n",
       "      <td>1</td>\n",
       "      <td>1</td>\n",
       "      <td>2</td>\n",
       "      <td>...</td>\n",
       "      <td>36.5</td>\n",
       "      <td>NaN</td>\n",
       "      <td>4</td>\n",
       "      <td>Burn of hand, firts degree dorsum</td>\n",
       "      <td>1</td>\n",
       "      <td>5</td>\n",
       "      <td>4</td>\n",
       "      <td>64</td>\n",
       "      <td>3,95</td>\n",
       "      <td>1</td>\n",
       "    </tr>\n",
       "    <tr>\n",
       "      <th>2</th>\n",
       "      <td>2</td>\n",
       "      <td>1</td>\n",
       "      <td>68</td>\n",
       "      <td>8</td>\n",
       "      <td>2</td>\n",
       "      <td>2</td>\n",
       "      <td>arm pain, Lt</td>\n",
       "      <td>1</td>\n",
       "      <td>1</td>\n",
       "      <td>2</td>\n",
       "      <td>...</td>\n",
       "      <td>36.6</td>\n",
       "      <td>98</td>\n",
       "      <td>4</td>\n",
       "      <td>Fracture of surgical neck of humerus, closed</td>\n",
       "      <td>2</td>\n",
       "      <td>5</td>\n",
       "      <td>4</td>\n",
       "      <td>862</td>\n",
       "      <td>1,00</td>\n",
       "      <td>1</td>\n",
       "    </tr>\n",
       "    <tr>\n",
       "      <th>3</th>\n",
       "      <td>1</td>\n",
       "      <td>2</td>\n",
       "      <td>71</td>\n",
       "      <td>8</td>\n",
       "      <td>1</td>\n",
       "      <td>1</td>\n",
       "      <td>ascites tapping</td>\n",
       "      <td>1</td>\n",
       "      <td>1</td>\n",
       "      <td>3</td>\n",
       "      <td>...</td>\n",
       "      <td>36.5</td>\n",
       "      <td>NaN</td>\n",
       "      <td>4</td>\n",
       "      <td>Alcoholic liver cirrhosis with ascites</td>\n",
       "      <td>1</td>\n",
       "      <td>5</td>\n",
       "      <td>6</td>\n",
       "      <td>108</td>\n",
       "      <td>9,83</td>\n",
       "      <td>1</td>\n",
       "    </tr>\n",
       "    <tr>\n",
       "      <th>4</th>\n",
       "      <td>1</td>\n",
       "      <td>2</td>\n",
       "      <td>58</td>\n",
       "      <td>4</td>\n",
       "      <td>3</td>\n",
       "      <td>1</td>\n",
       "      <td>distension, abd</td>\n",
       "      <td>1</td>\n",
       "      <td>1</td>\n",
       "      <td>3</td>\n",
       "      <td>...</td>\n",
       "      <td>36.5</td>\n",
       "      <td>NaN</td>\n",
       "      <td>4</td>\n",
       "      <td>Ascites</td>\n",
       "      <td>1</td>\n",
       "      <td>5</td>\n",
       "      <td>8</td>\n",
       "      <td>109</td>\n",
       "      <td>6,60</td>\n",
       "      <td>1</td>\n",
       "    </tr>\n",
       "  </tbody>\n",
       "</table>\n",
       "<p>5 rows × 24 columns</p>\n",
       "</div>"
      ],
      "text/plain": [
       "   Group  Sex  Age  Patients number per hour  Arrival mode  Injury  \\\n",
       "0      2    2   71                         3             3       2   \n",
       "1      1    1   56                        12             3       2   \n",
       "2      2    1   68                         8             2       2   \n",
       "3      1    2   71                         8             1       1   \n",
       "4      1    2   58                         4             3       1   \n",
       "\n",
       "       Chief_complain  Mental  Pain NRS_pain  ...    BT Saturation KTAS_RN  \\\n",
       "0   right ocular pain       1     1        2  ...  36.6        100       2   \n",
       "1  right forearm burn       1     1        2  ...  36.5        NaN       4   \n",
       "2        arm pain, Lt       1     1        2  ...  36.6         98       4   \n",
       "3     ascites tapping       1     1        3  ...  36.5        NaN       4   \n",
       "4     distension, abd       1     1        3  ...  36.5        NaN       4   \n",
       "\n",
       "                                Diagnosis in ED Disposition KTAS_expert  \\\n",
       "0                              Corneal abrasion           1           4   \n",
       "1             Burn of hand, firts degree dorsum           1           5   \n",
       "2  Fracture of surgical neck of humerus, closed           2           5   \n",
       "3        Alcoholic liver cirrhosis with ascites           1           5   \n",
       "4                                       Ascites           1           5   \n",
       "\n",
       "   Error_group Length of stay_min  KTAS duration_min  mistriage  \n",
       "0            2                 86               5,00          1  \n",
       "1            4                 64               3,95          1  \n",
       "2            4                862               1,00          1  \n",
       "3            6                108               9,83          1  \n",
       "4            8                109               6,60          1  \n",
       "\n",
       "[5 rows x 24 columns]"
      ]
     },
     "execution_count": 4,
     "metadata": {},
     "output_type": "execute_result"
    }
   ],
   "source": [
    "nurse_df.head()"
   ]
  },
  {
   "cell_type": "code",
   "execution_count": 5,
   "metadata": {},
   "outputs": [
    {
     "data": {
      "text/plain": [
       "Index(['Group', 'Sex', 'Age', 'Patients number per hour', 'Arrival mode',\n",
       "       'Injury', 'Chief_complain', 'Mental', 'Pain', 'NRS_pain', 'SBP', 'DBP',\n",
       "       'HR', 'RR', 'BT', 'Saturation', 'KTAS_RN', 'Diagnosis in ED',\n",
       "       'Disposition', 'KTAS_expert', 'Error_group', 'Length of stay_min',\n",
       "       'KTAS duration_min', 'mistriage'],\n",
       "      dtype='object')"
      ]
     },
     "execution_count": 5,
     "metadata": {},
     "output_type": "execute_result"
    }
   ],
   "source": [
    "nurse_df.columns"
   ]
  },
  {
   "cell_type": "code",
   "execution_count": 6,
   "metadata": {},
   "outputs": [
    {
     "data": {
      "text/plain": [
       "Group                        int64\n",
       "Sex                          int64\n",
       "Age                          int64\n",
       "Patients number per hour     int64\n",
       "Arrival mode                 int64\n",
       "Injury                       int64\n",
       "Chief_complain              object\n",
       "Mental                       int64\n",
       "Pain                         int64\n",
       "NRS_pain                    object\n",
       "SBP                         object\n",
       "DBP                         object\n",
       "HR                          object\n",
       "RR                          object\n",
       "BT                          object\n",
       "Saturation                  object\n",
       "KTAS_RN                      int64\n",
       "Diagnosis in ED             object\n",
       "Disposition                  int64\n",
       "KTAS_expert                  int64\n",
       "Error_group                  int64\n",
       "Length of stay_min           int64\n",
       "KTAS duration_min           object\n",
       "mistriage                    int64\n",
       "dtype: object"
      ]
     },
     "execution_count": 6,
     "metadata": {},
     "output_type": "execute_result"
    }
   ],
   "source": [
    "nurse_df.dtypes\n",
    "# Checking for correct data types."
   ]
  },
  {
   "cell_type": "code",
   "execution_count": 7,
   "metadata": {},
   "outputs": [
    {
     "data": {
      "text/plain": [
       "(1267, 24)"
      ]
     },
     "execution_count": 7,
     "metadata": {},
     "output_type": "execute_result"
    }
   ],
   "source": [
    "nurse_df.shape"
   ]
  },
  {
   "cell_type": "markdown",
   "metadata": {},
   "source": [
    "Content - Description Available with Original Dataset\n",
    "\n",
    "https://journals.plos.org/plosone/article?id=10.1371/journal.pone.0216972\n",
    "\n",
    "\n",
    "Variables:\n",
    "- Sex: Sex of the patient\n",
    "- Age: Age of the patient\n",
    "- Arrival mode: Type of transportation to the hospital\n",
    "- Injury: Whether the patient is injured or not\n",
    "- Chief_complain: The patient's complaint\n",
    "- Mental: The mental state of the patient\n",
    "- Pain: Whether the patient has pain\n",
    "- NRS_pain: Nurse's assessment of pain for the patient\n",
    "- SBP: Systolic Blood Pressure.\n",
    "- DBP: Diastolic Blood Pressure.\n",
    "- HR: Heat Rate.\n",
    "- RR: Respiratory rate\n",
    "- BT: Body Temperature\n",
    "\n",
    "The technical document in the project of the data set has been reached. It was seen in this document that some numerical data were actually categorical. These values are as follows:\n",
    "\n",
    "- Reason Visit : Injury [1 = No, 2= Yes]\n",
    "- Gender : Sex [1 = Female, 2 = Male]\n",
    "- Pain : Pain [1 = Yes, 0 = No]\n",
    "- Mental : Mental status [1 = Alert, 2 = Verbal Response, 3 = Pain Response, 4 = Unresponse]\n",
    "- Type of ED : Group [1 = Local ED 3th Degree, 2 = Regional ED 4tg Degree]\n",
    "- Mode of Arrival : Arrival Mode [1 = Walking, 2 = Public Ambulance, 3 = Private Vehicle, 4 = Private Ambulance, 5,6,7 = Other]\n",
    "- Disposition : Disposition [1 = Dischange, 2 = Admission to ward, 3 = Admission to ICU, 4 = Disharge, 5 = Transfer, 6 = Death, 7 = Surgery]\n",
    "- KTAS : KTAS… [1,2,3 = Emergency, 4,5 = Non-Emergency]\n",
    "- Error Group: [1: Vital sign / 2: Physical exam / 3: Psychatric /4: Pain / 5: Mental / 6: Underlying disease / 7: Medical records of other ED / 8: On set / 9: Others] #Method in which the error lead to a mistriage"
   ]
  },
  {
   "cell_type": "code",
   "execution_count": 8,
   "metadata": {},
   "outputs": [],
   "source": [
    "Gender = ['Female', 'Male']\n",
    "Injury = [1, 2]"
   ]
  },
  {
   "cell_type": "code",
   "execution_count": 9,
   "metadata": {},
   "outputs": [],
   "source": [
    "nurse_df['Gender'] = nurse_df['Sex'].apply(lambda row: 1 if row == 2 else 0)\n",
    "nurse_df['Injury'] = nurse_df['Group'].apply(lambda row: 1 if row == 2 else 0)\n",
    "nurse_df['NRS_pain'] = nurse_df[\"NRS_pain\"].replace(\"#BO�!\",np.NaN)"
   ]
  },
  {
   "cell_type": "code",
   "execution_count": 10,
   "metadata": {},
   "outputs": [],
   "source": [
    "def numeric_conversion(column_name):\n",
    "    new_list = []\n",
    "    for item in nurse_df[column_name]:\n",
    "        try:\n",
    "            item = int(str(item))\n",
    "        except:\n",
    "            item = -1\n",
    "        new_list.append(item)\n",
    "    nurse_df[column_name] = new_list\n",
    "\n",
    "def float_conversion(column_name):\n",
    "    new_list = []\n",
    "    for item in nurse_df[column_name]:\n",
    "        try:\n",
    "            item = float(str(item))\n",
    "        except:\n",
    "            item = -1\n",
    "        new_list.append(item)\n",
    "    nurse_df[column_name] = new_list\n",
    "        "
   ]
  },
  {
   "cell_type": "code",
   "execution_count": 11,
   "metadata": {},
   "outputs": [],
   "source": [
    "wrong_dt_list = ['NRS_pain', 'SBP', 'DBP', 'HR', 'RR', 'Saturation']\n",
    "for item in wrong_dt_list:\n",
    "    numeric_conversion(item)\n",
    "\n",
    "float_conversion('BT')"
   ]
  },
  {
   "cell_type": "code",
   "execution_count": 12,
   "metadata": {},
   "outputs": [],
   "source": [
    "human_compare = nurse_df[['KTAS_RN', 'KTAS_expert']]"
   ]
  },
  {
   "cell_type": "code",
   "execution_count": 13,
   "metadata": {},
   "outputs": [
    {
     "data": {
      "text/html": [
       "<div>\n",
       "<style scoped>\n",
       "    .dataframe tbody tr th:only-of-type {\n",
       "        vertical-align: middle;\n",
       "    }\n",
       "\n",
       "    .dataframe tbody tr th {\n",
       "        vertical-align: top;\n",
       "    }\n",
       "\n",
       "    .dataframe thead th {\n",
       "        text-align: right;\n",
       "    }\n",
       "</style>\n",
       "<table border=\"1\" class=\"dataframe\">\n",
       "  <thead>\n",
       "    <tr style=\"text-align: right;\">\n",
       "      <th></th>\n",
       "      <th>Group</th>\n",
       "      <th>Sex</th>\n",
       "      <th>Age</th>\n",
       "      <th>Patients number per hour</th>\n",
       "      <th>Arrival mode</th>\n",
       "      <th>Injury</th>\n",
       "      <th>Chief_complain</th>\n",
       "      <th>Mental</th>\n",
       "      <th>Pain</th>\n",
       "      <th>NRS_pain</th>\n",
       "      <th>...</th>\n",
       "      <th>Saturation</th>\n",
       "      <th>KTAS_RN</th>\n",
       "      <th>Diagnosis in ED</th>\n",
       "      <th>Disposition</th>\n",
       "      <th>KTAS_expert</th>\n",
       "      <th>Error_group</th>\n",
       "      <th>Length of stay_min</th>\n",
       "      <th>KTAS duration_min</th>\n",
       "      <th>mistriage</th>\n",
       "      <th>Gender</th>\n",
       "    </tr>\n",
       "  </thead>\n",
       "  <tbody>\n",
       "    <tr>\n",
       "      <th>0</th>\n",
       "      <td>2</td>\n",
       "      <td>2</td>\n",
       "      <td>71</td>\n",
       "      <td>3</td>\n",
       "      <td>3</td>\n",
       "      <td>1</td>\n",
       "      <td>right ocular pain</td>\n",
       "      <td>1</td>\n",
       "      <td>1</td>\n",
       "      <td>2</td>\n",
       "      <td>...</td>\n",
       "      <td>100</td>\n",
       "      <td>2</td>\n",
       "      <td>Corneal abrasion</td>\n",
       "      <td>1</td>\n",
       "      <td>4</td>\n",
       "      <td>2</td>\n",
       "      <td>86</td>\n",
       "      <td>5,00</td>\n",
       "      <td>1</td>\n",
       "      <td>1</td>\n",
       "    </tr>\n",
       "    <tr>\n",
       "      <th>2</th>\n",
       "      <td>2</td>\n",
       "      <td>1</td>\n",
       "      <td>68</td>\n",
       "      <td>8</td>\n",
       "      <td>2</td>\n",
       "      <td>1</td>\n",
       "      <td>arm pain, Lt</td>\n",
       "      <td>1</td>\n",
       "      <td>1</td>\n",
       "      <td>2</td>\n",
       "      <td>...</td>\n",
       "      <td>98</td>\n",
       "      <td>4</td>\n",
       "      <td>Fracture of surgical neck of humerus, closed</td>\n",
       "      <td>2</td>\n",
       "      <td>5</td>\n",
       "      <td>4</td>\n",
       "      <td>862</td>\n",
       "      <td>1,00</td>\n",
       "      <td>1</td>\n",
       "      <td>0</td>\n",
       "    </tr>\n",
       "    <tr>\n",
       "      <th>5</th>\n",
       "      <td>2</td>\n",
       "      <td>1</td>\n",
       "      <td>54</td>\n",
       "      <td>6</td>\n",
       "      <td>4</td>\n",
       "      <td>1</td>\n",
       "      <td>fever</td>\n",
       "      <td>1</td>\n",
       "      <td>1</td>\n",
       "      <td>3</td>\n",
       "      <td>...</td>\n",
       "      <td>98</td>\n",
       "      <td>3</td>\n",
       "      <td>Fever, unspecified</td>\n",
       "      <td>2</td>\n",
       "      <td>4</td>\n",
       "      <td>1</td>\n",
       "      <td>9246</td>\n",
       "      <td>2,00</td>\n",
       "      <td>1</td>\n",
       "      <td>0</td>\n",
       "    </tr>\n",
       "    <tr>\n",
       "      <th>6</th>\n",
       "      <td>2</td>\n",
       "      <td>2</td>\n",
       "      <td>49</td>\n",
       "      <td>11</td>\n",
       "      <td>3</td>\n",
       "      <td>1</td>\n",
       "      <td>With chest discomfort</td>\n",
       "      <td>1</td>\n",
       "      <td>1</td>\n",
       "      <td>3</td>\n",
       "      <td>...</td>\n",
       "      <td>98</td>\n",
       "      <td>2</td>\n",
       "      <td>Angina pectoris, unspecified</td>\n",
       "      <td>1</td>\n",
       "      <td>3</td>\n",
       "      <td>2</td>\n",
       "      <td>400</td>\n",
       "      <td>3,00</td>\n",
       "      <td>1</td>\n",
       "      <td>1</td>\n",
       "    </tr>\n",
       "    <tr>\n",
       "      <th>9</th>\n",
       "      <td>2</td>\n",
       "      <td>1</td>\n",
       "      <td>38</td>\n",
       "      <td>6</td>\n",
       "      <td>3</td>\n",
       "      <td>1</td>\n",
       "      <td>Eczema, Eyelid</td>\n",
       "      <td>1</td>\n",
       "      <td>1</td>\n",
       "      <td>3</td>\n",
       "      <td>...</td>\n",
       "      <td>97</td>\n",
       "      <td>4</td>\n",
       "      <td>Ocular pain</td>\n",
       "      <td>1</td>\n",
       "      <td>5</td>\n",
       "      <td>4</td>\n",
       "      <td>185</td>\n",
       "      <td>4,00</td>\n",
       "      <td>1</td>\n",
       "      <td>0</td>\n",
       "    </tr>\n",
       "    <tr>\n",
       "      <th>...</th>\n",
       "      <td>...</td>\n",
       "      <td>...</td>\n",
       "      <td>...</td>\n",
       "      <td>...</td>\n",
       "      <td>...</td>\n",
       "      <td>...</td>\n",
       "      <td>...</td>\n",
       "      <td>...</td>\n",
       "      <td>...</td>\n",
       "      <td>...</td>\n",
       "      <td>...</td>\n",
       "      <td>...</td>\n",
       "      <td>...</td>\n",
       "      <td>...</td>\n",
       "      <td>...</td>\n",
       "      <td>...</td>\n",
       "      <td>...</td>\n",
       "      <td>...</td>\n",
       "      <td>...</td>\n",
       "      <td>...</td>\n",
       "      <td>...</td>\n",
       "    </tr>\n",
       "    <tr>\n",
       "      <th>1262</th>\n",
       "      <td>2</td>\n",
       "      <td>2</td>\n",
       "      <td>79</td>\n",
       "      <td>5</td>\n",
       "      <td>2</td>\n",
       "      <td>1</td>\n",
       "      <td>mental change</td>\n",
       "      <td>1</td>\n",
       "      <td>0</td>\n",
       "      <td>-1</td>\n",
       "      <td>...</td>\n",
       "      <td>95</td>\n",
       "      <td>2</td>\n",
       "      <td>Cerebral infarction due to unspecified occlusi...</td>\n",
       "      <td>2</td>\n",
       "      <td>2</td>\n",
       "      <td>0</td>\n",
       "      <td>1995</td>\n",
       "      <td>3,00</td>\n",
       "      <td>0</td>\n",
       "      <td>1</td>\n",
       "    </tr>\n",
       "    <tr>\n",
       "      <th>1263</th>\n",
       "      <td>2</td>\n",
       "      <td>2</td>\n",
       "      <td>81</td>\n",
       "      <td>2</td>\n",
       "      <td>3</td>\n",
       "      <td>1</td>\n",
       "      <td>dysuria</td>\n",
       "      <td>1</td>\n",
       "      <td>0</td>\n",
       "      <td>-1</td>\n",
       "      <td>...</td>\n",
       "      <td>97</td>\n",
       "      <td>4</td>\n",
       "      <td>Dysuria</td>\n",
       "      <td>1</td>\n",
       "      <td>4</td>\n",
       "      <td>0</td>\n",
       "      <td>1000</td>\n",
       "      <td>2,00</td>\n",
       "      <td>0</td>\n",
       "      <td>1</td>\n",
       "    </tr>\n",
       "    <tr>\n",
       "      <th>1264</th>\n",
       "      <td>2</td>\n",
       "      <td>2</td>\n",
       "      <td>81</td>\n",
       "      <td>17</td>\n",
       "      <td>2</td>\n",
       "      <td>1</td>\n",
       "      <td>dizziness</td>\n",
       "      <td>1</td>\n",
       "      <td>0</td>\n",
       "      <td>-1</td>\n",
       "      <td>...</td>\n",
       "      <td>99</td>\n",
       "      <td>3</td>\n",
       "      <td>Dizziness and giddiness</td>\n",
       "      <td>1</td>\n",
       "      <td>3</td>\n",
       "      <td>0</td>\n",
       "      <td>310</td>\n",
       "      <td>4,00</td>\n",
       "      <td>0</td>\n",
       "      <td>1</td>\n",
       "    </tr>\n",
       "    <tr>\n",
       "      <th>1265</th>\n",
       "      <td>2</td>\n",
       "      <td>1</td>\n",
       "      <td>81</td>\n",
       "      <td>2</td>\n",
       "      <td>2</td>\n",
       "      <td>1</td>\n",
       "      <td>Sensory, Decreased</td>\n",
       "      <td>1</td>\n",
       "      <td>0</td>\n",
       "      <td>-1</td>\n",
       "      <td>...</td>\n",
       "      <td>98</td>\n",
       "      <td>3</td>\n",
       "      <td>Cord compression, unspecified</td>\n",
       "      <td>7</td>\n",
       "      <td>3</td>\n",
       "      <td>0</td>\n",
       "      <td>475</td>\n",
       "      <td>5,00</td>\n",
       "      <td>0</td>\n",
       "      <td>0</td>\n",
       "    </tr>\n",
       "    <tr>\n",
       "      <th>1266</th>\n",
       "      <td>2</td>\n",
       "      <td>2</td>\n",
       "      <td>87</td>\n",
       "      <td>8</td>\n",
       "      <td>4</td>\n",
       "      <td>1</td>\n",
       "      <td>orthopnea</td>\n",
       "      <td>1</td>\n",
       "      <td>0</td>\n",
       "      <td>-1</td>\n",
       "      <td>...</td>\n",
       "      <td>98</td>\n",
       "      <td>3</td>\n",
       "      <td>Dyspnoea</td>\n",
       "      <td>2</td>\n",
       "      <td>3</td>\n",
       "      <td>0</td>\n",
       "      <td>887</td>\n",
       "      <td>2,00</td>\n",
       "      <td>0</td>\n",
       "      <td>1</td>\n",
       "    </tr>\n",
       "  </tbody>\n",
       "</table>\n",
       "<p>570 rows × 25 columns</p>\n",
       "</div>"
      ],
      "text/plain": [
       "      Group  Sex  Age  Patients number per hour  Arrival mode  Injury  \\\n",
       "0         2    2   71                         3             3       1   \n",
       "2         2    1   68                         8             2       1   \n",
       "5         2    1   54                         6             4       1   \n",
       "6         2    2   49                        11             3       1   \n",
       "9         2    1   38                         6             3       1   \n",
       "...     ...  ...  ...                       ...           ...     ...   \n",
       "1262      2    2   79                         5             2       1   \n",
       "1263      2    2   81                         2             3       1   \n",
       "1264      2    2   81                        17             2       1   \n",
       "1265      2    1   81                         2             2       1   \n",
       "1266      2    2   87                         8             4       1   \n",
       "\n",
       "             Chief_complain  Mental  Pain  NRS_pain  ...  Saturation  KTAS_RN  \\\n",
       "0         right ocular pain       1     1         2  ...         100        2   \n",
       "2              arm pain, Lt       1     1         2  ...          98        4   \n",
       "5                     fever       1     1         3  ...          98        3   \n",
       "6     With chest discomfort       1     1         3  ...          98        2   \n",
       "9            Eczema, Eyelid       1     1         3  ...          97        4   \n",
       "...                     ...     ...   ...       ...  ...         ...      ...   \n",
       "1262          mental change       1     0        -1  ...          95        2   \n",
       "1263                dysuria       1     0        -1  ...          97        4   \n",
       "1264              dizziness       1     0        -1  ...          99        3   \n",
       "1265     Sensory, Decreased       1     0        -1  ...          98        3   \n",
       "1266              orthopnea       1     0        -1  ...          98        3   \n",
       "\n",
       "                                        Diagnosis in ED  Disposition  \\\n",
       "0                                      Corneal abrasion            1   \n",
       "2          Fracture of surgical neck of humerus, closed            2   \n",
       "5                                    Fever, unspecified            2   \n",
       "6                          Angina pectoris, unspecified            1   \n",
       "9                                           Ocular pain            1   \n",
       "...                                                 ...          ...   \n",
       "1262  Cerebral infarction due to unspecified occlusi...            2   \n",
       "1263                                            Dysuria            1   \n",
       "1264                            Dizziness and giddiness            1   \n",
       "1265                      Cord compression, unspecified            7   \n",
       "1266                                           Dyspnoea            2   \n",
       "\n",
       "      KTAS_expert  Error_group  Length of stay_min KTAS duration_min  \\\n",
       "0               4            2                  86              5,00   \n",
       "2               5            4                 862              1,00   \n",
       "5               4            1                9246              2,00   \n",
       "6               3            2                 400              3,00   \n",
       "9               5            4                 185              4,00   \n",
       "...           ...          ...                 ...               ...   \n",
       "1262            2            0                1995              3,00   \n",
       "1263            4            0                1000              2,00   \n",
       "1264            3            0                 310              4,00   \n",
       "1265            3            0                 475              5,00   \n",
       "1266            3            0                 887              2,00   \n",
       "\n",
       "      mistriage  Gender  \n",
       "0             1       1  \n",
       "2             1       0  \n",
       "5             1       0  \n",
       "6             1       1  \n",
       "9             1       0  \n",
       "...         ...     ...  \n",
       "1262          0       1  \n",
       "1263          0       1  \n",
       "1264          0       1  \n",
       "1265          0       0  \n",
       "1266          0       1  \n",
       "\n",
       "[570 rows x 25 columns]"
      ]
     },
     "execution_count": 13,
     "metadata": {},
     "output_type": "execute_result"
    }
   ],
   "source": [
    "nurse_df[nurse_df['Saturation'] > 0]"
   ]
  },
  {
   "cell_type": "markdown",
   "metadata": {},
   "source": [
    "### Comparison to Humans\n",
    "\n",
    "This dataset was unique in that it held human predictions along with true variables. This allowed for a fascinating exploration into nursing performance."
   ]
  },
  {
   "cell_type": "code",
   "execution_count": 14,
   "metadata": {},
   "outputs": [
    {
     "data": {
      "text/html": [
       "<div>\n",
       "<style scoped>\n",
       "    .dataframe tbody tr th:only-of-type {\n",
       "        vertical-align: middle;\n",
       "    }\n",
       "\n",
       "    .dataframe tbody tr th {\n",
       "        vertical-align: top;\n",
       "    }\n",
       "\n",
       "    .dataframe thead th {\n",
       "        text-align: right;\n",
       "    }\n",
       "</style>\n",
       "<table border=\"1\" class=\"dataframe\">\n",
       "  <thead>\n",
       "    <tr style=\"text-align: right;\">\n",
       "      <th></th>\n",
       "      <th>KTAS_RN</th>\n",
       "      <th>KTAS_expert</th>\n",
       "    </tr>\n",
       "  </thead>\n",
       "  <tbody>\n",
       "    <tr>\n",
       "      <th>0</th>\n",
       "      <td>2</td>\n",
       "      <td>4</td>\n",
       "    </tr>\n",
       "    <tr>\n",
       "      <th>1</th>\n",
       "      <td>4</td>\n",
       "      <td>5</td>\n",
       "    </tr>\n",
       "    <tr>\n",
       "      <th>2</th>\n",
       "      <td>4</td>\n",
       "      <td>5</td>\n",
       "    </tr>\n",
       "    <tr>\n",
       "      <th>3</th>\n",
       "      <td>4</td>\n",
       "      <td>5</td>\n",
       "    </tr>\n",
       "    <tr>\n",
       "      <th>4</th>\n",
       "      <td>4</td>\n",
       "      <td>5</td>\n",
       "    </tr>\n",
       "  </tbody>\n",
       "</table>\n",
       "</div>"
      ],
      "text/plain": [
       "   KTAS_RN  KTAS_expert\n",
       "0        2            4\n",
       "1        4            5\n",
       "2        4            5\n",
       "3        4            5\n",
       "4        4            5"
      ]
     },
     "execution_count": 14,
     "metadata": {},
     "output_type": "execute_result"
    }
   ],
   "source": [
    "human_compare.head()"
   ]
  },
  {
   "cell_type": "code",
   "execution_count": 15,
   "metadata": {},
   "outputs": [
    {
     "data": {
      "text/plain": [
       "3    487\n",
       "4    459\n",
       "2    220\n",
       "5     75\n",
       "1     26\n",
       "Name: KTAS_expert, dtype: int64"
      ]
     },
     "execution_count": 15,
     "metadata": {},
     "output_type": "execute_result"
    }
   ],
   "source": [
    "human_compare['KTAS_expert'].value_counts()"
   ]
  },
  {
   "cell_type": "code",
   "execution_count": 16,
   "metadata": {},
   "outputs": [
    {
     "data": {
      "text/plain": [
       "KTAS_RN        int64\n",
       "KTAS_expert    int64\n",
       "dtype: object"
      ]
     },
     "execution_count": 16,
     "metadata": {},
     "output_type": "execute_result"
    }
   ],
   "source": [
    "human_compare.dtypes"
   ]
  },
  {
   "cell_type": "code",
   "execution_count": 17,
   "metadata": {},
   "outputs": [
    {
     "name": "stderr",
     "output_type": "stream",
     "text": [
      "/var/folders/13/lngr17tj6457_2v2xp487rc40000gn/T/ipykernel_37962/3489706699.py:1: SettingWithCopyWarning: \n",
      "A value is trying to be set on a copy of a slice from a DataFrame.\n",
      "Try using .loc[row_indexer,col_indexer] = value instead\n",
      "\n",
      "See the caveats in the documentation: https://pandas.pydata.org/pandas-docs/stable/user_guide/indexing.html#returning-a-view-versus-a-copy\n",
      "  human_compare['CAT_RN'] = human_compare.loc[:,'KTAS_RN'].apply(lambda x: 1 if x <= 3 else 0)\n",
      "/var/folders/13/lngr17tj6457_2v2xp487rc40000gn/T/ipykernel_37962/3489706699.py:2: SettingWithCopyWarning: \n",
      "A value is trying to be set on a copy of a slice from a DataFrame.\n",
      "Try using .loc[row_indexer,col_indexer] = value instead\n",
      "\n",
      "See the caveats in the documentation: https://pandas.pydata.org/pandas-docs/stable/user_guide/indexing.html#returning-a-view-versus-a-copy\n",
      "  human_compare['CAT_EXPERT'] = human_compare.loc[:,'KTAS_expert'].apply(lambda x: 1 if x<= 3 else 0)\n"
     ]
    }
   ],
   "source": [
    "human_compare['CAT_RN'] = human_compare.loc[:,'KTAS_RN'].apply(lambda x: 1 if x <= 3 else 0)\n",
    "human_compare['CAT_EXPERT'] = human_compare.loc[:,'KTAS_expert'].apply(lambda x: 1 if x<= 3 else 0)"
   ]
  },
  {
   "cell_type": "code",
   "execution_count": 18,
   "metadata": {},
   "outputs": [
    {
     "data": {
      "text/html": [
       "<div>\n",
       "<style scoped>\n",
       "    .dataframe tbody tr th:only-of-type {\n",
       "        vertical-align: middle;\n",
       "    }\n",
       "\n",
       "    .dataframe tbody tr th {\n",
       "        vertical-align: top;\n",
       "    }\n",
       "\n",
       "    .dataframe thead th {\n",
       "        text-align: right;\n",
       "    }\n",
       "</style>\n",
       "<table border=\"1\" class=\"dataframe\">\n",
       "  <thead>\n",
       "    <tr style=\"text-align: right;\">\n",
       "      <th></th>\n",
       "      <th>KTAS_RN</th>\n",
       "      <th>KTAS_expert</th>\n",
       "      <th>CAT_RN</th>\n",
       "      <th>CAT_EXPERT</th>\n",
       "    </tr>\n",
       "  </thead>\n",
       "  <tbody>\n",
       "    <tr>\n",
       "      <th>0</th>\n",
       "      <td>2</td>\n",
       "      <td>4</td>\n",
       "      <td>1</td>\n",
       "      <td>0</td>\n",
       "    </tr>\n",
       "    <tr>\n",
       "      <th>1</th>\n",
       "      <td>4</td>\n",
       "      <td>5</td>\n",
       "      <td>0</td>\n",
       "      <td>0</td>\n",
       "    </tr>\n",
       "    <tr>\n",
       "      <th>2</th>\n",
       "      <td>4</td>\n",
       "      <td>5</td>\n",
       "      <td>0</td>\n",
       "      <td>0</td>\n",
       "    </tr>\n",
       "    <tr>\n",
       "      <th>3</th>\n",
       "      <td>4</td>\n",
       "      <td>5</td>\n",
       "      <td>0</td>\n",
       "      <td>0</td>\n",
       "    </tr>\n",
       "    <tr>\n",
       "      <th>4</th>\n",
       "      <td>4</td>\n",
       "      <td>5</td>\n",
       "      <td>0</td>\n",
       "      <td>0</td>\n",
       "    </tr>\n",
       "    <tr>\n",
       "      <th>...</th>\n",
       "      <td>...</td>\n",
       "      <td>...</td>\n",
       "      <td>...</td>\n",
       "      <td>...</td>\n",
       "    </tr>\n",
       "    <tr>\n",
       "      <th>1262</th>\n",
       "      <td>2</td>\n",
       "      <td>2</td>\n",
       "      <td>1</td>\n",
       "      <td>1</td>\n",
       "    </tr>\n",
       "    <tr>\n",
       "      <th>1263</th>\n",
       "      <td>4</td>\n",
       "      <td>4</td>\n",
       "      <td>0</td>\n",
       "      <td>0</td>\n",
       "    </tr>\n",
       "    <tr>\n",
       "      <th>1264</th>\n",
       "      <td>3</td>\n",
       "      <td>3</td>\n",
       "      <td>1</td>\n",
       "      <td>1</td>\n",
       "    </tr>\n",
       "    <tr>\n",
       "      <th>1265</th>\n",
       "      <td>3</td>\n",
       "      <td>3</td>\n",
       "      <td>1</td>\n",
       "      <td>1</td>\n",
       "    </tr>\n",
       "    <tr>\n",
       "      <th>1266</th>\n",
       "      <td>3</td>\n",
       "      <td>3</td>\n",
       "      <td>1</td>\n",
       "      <td>1</td>\n",
       "    </tr>\n",
       "  </tbody>\n",
       "</table>\n",
       "<p>1267 rows × 4 columns</p>\n",
       "</div>"
      ],
      "text/plain": [
       "      KTAS_RN  KTAS_expert  CAT_RN  CAT_EXPERT\n",
       "0           2            4       1           0\n",
       "1           4            5       0           0\n",
       "2           4            5       0           0\n",
       "3           4            5       0           0\n",
       "4           4            5       0           0\n",
       "...       ...          ...     ...         ...\n",
       "1262        2            2       1           1\n",
       "1263        4            4       0           0\n",
       "1264        3            3       1           1\n",
       "1265        3            3       1           1\n",
       "1266        3            3       1           1\n",
       "\n",
       "[1267 rows x 4 columns]"
      ]
     },
     "execution_count": 18,
     "metadata": {},
     "output_type": "execute_result"
    }
   ],
   "source": [
    "human_compare"
   ]
  },
  {
   "cell_type": "markdown",
   "metadata": {},
   "source": [
    "### Feature Engineering/Selection\n",
    "\n",
    "The dataset needed to be split into predictors and outcomes. I have observed other Kaggle projects that have used the outcomes in the prediction which will have heavily biased the machine learning model and not produced any useful or meaningful model."
   ]
  },
  {
   "cell_type": "code",
   "execution_count": 19,
   "metadata": {},
   "outputs": [
    {
     "data": {
      "text/plain": [
       "Index(['Group', 'Sex', 'Age', 'Patients number per hour', 'Arrival mode',\n",
       "       'Injury', 'Chief_complain', 'Mental', 'Pain', 'NRS_pain', 'SBP', 'DBP',\n",
       "       'HR', 'RR', 'BT', 'Saturation', 'KTAS_RN', 'Diagnosis in ED',\n",
       "       'Disposition', 'KTAS_expert', 'Error_group', 'Length of stay_min',\n",
       "       'KTAS duration_min', 'mistriage', 'Gender'],\n",
       "      dtype='object')"
      ]
     },
     "execution_count": 19,
     "metadata": {},
     "output_type": "execute_result"
    }
   ],
   "source": [
    "nurse_df.columns"
   ]
  },
  {
   "cell_type": "code",
   "execution_count": 20,
   "metadata": {},
   "outputs": [],
   "source": [
    "features = ['Gender', 'Age', 'Arrival mode', 'NRS_pain', 'Injury', 'Chief_complain', 'Mental', 'Pain', 'SBP', 'DBP', 'HR', 'RR', 'BT', 'Saturation', 'KTAS_expert', 'Diagnosis in ED']"
   ]
  },
  {
   "cell_type": "code",
   "execution_count": 21,
   "metadata": {},
   "outputs": [],
   "source": [
    "train_df = nurse_df[features]"
   ]
  },
  {
   "cell_type": "code",
   "execution_count": 22,
   "metadata": {},
   "outputs": [
    {
     "data": {
      "text/html": [
       "<div>\n",
       "<style scoped>\n",
       "    .dataframe tbody tr th:only-of-type {\n",
       "        vertical-align: middle;\n",
       "    }\n",
       "\n",
       "    .dataframe tbody tr th {\n",
       "        vertical-align: top;\n",
       "    }\n",
       "\n",
       "    .dataframe thead th {\n",
       "        text-align: right;\n",
       "    }\n",
       "</style>\n",
       "<table border=\"1\" class=\"dataframe\">\n",
       "  <thead>\n",
       "    <tr style=\"text-align: right;\">\n",
       "      <th></th>\n",
       "      <th>Gender</th>\n",
       "      <th>Age</th>\n",
       "      <th>Arrival mode</th>\n",
       "      <th>NRS_pain</th>\n",
       "      <th>Injury</th>\n",
       "      <th>Chief_complain</th>\n",
       "      <th>Mental</th>\n",
       "      <th>Pain</th>\n",
       "      <th>SBP</th>\n",
       "      <th>DBP</th>\n",
       "      <th>HR</th>\n",
       "      <th>RR</th>\n",
       "      <th>BT</th>\n",
       "      <th>Saturation</th>\n",
       "      <th>KTAS_expert</th>\n",
       "      <th>Diagnosis in ED</th>\n",
       "    </tr>\n",
       "  </thead>\n",
       "  <tbody>\n",
       "    <tr>\n",
       "      <th>0</th>\n",
       "      <td>1</td>\n",
       "      <td>71</td>\n",
       "      <td>3</td>\n",
       "      <td>2</td>\n",
       "      <td>1</td>\n",
       "      <td>right ocular pain</td>\n",
       "      <td>1</td>\n",
       "      <td>1</td>\n",
       "      <td>160</td>\n",
       "      <td>100</td>\n",
       "      <td>84</td>\n",
       "      <td>18</td>\n",
       "      <td>36.6</td>\n",
       "      <td>100</td>\n",
       "      <td>4</td>\n",
       "      <td>Corneal abrasion</td>\n",
       "    </tr>\n",
       "    <tr>\n",
       "      <th>1</th>\n",
       "      <td>0</td>\n",
       "      <td>56</td>\n",
       "      <td>3</td>\n",
       "      <td>2</td>\n",
       "      <td>0</td>\n",
       "      <td>right forearm burn</td>\n",
       "      <td>1</td>\n",
       "      <td>1</td>\n",
       "      <td>137</td>\n",
       "      <td>75</td>\n",
       "      <td>60</td>\n",
       "      <td>20</td>\n",
       "      <td>36.5</td>\n",
       "      <td>-1</td>\n",
       "      <td>5</td>\n",
       "      <td>Burn of hand, firts degree dorsum</td>\n",
       "    </tr>\n",
       "    <tr>\n",
       "      <th>2</th>\n",
       "      <td>0</td>\n",
       "      <td>68</td>\n",
       "      <td>2</td>\n",
       "      <td>2</td>\n",
       "      <td>1</td>\n",
       "      <td>arm pain, Lt</td>\n",
       "      <td>1</td>\n",
       "      <td>1</td>\n",
       "      <td>130</td>\n",
       "      <td>80</td>\n",
       "      <td>102</td>\n",
       "      <td>20</td>\n",
       "      <td>36.6</td>\n",
       "      <td>98</td>\n",
       "      <td>5</td>\n",
       "      <td>Fracture of surgical neck of humerus, closed</td>\n",
       "    </tr>\n",
       "    <tr>\n",
       "      <th>3</th>\n",
       "      <td>1</td>\n",
       "      <td>71</td>\n",
       "      <td>1</td>\n",
       "      <td>3</td>\n",
       "      <td>0</td>\n",
       "      <td>ascites tapping</td>\n",
       "      <td>1</td>\n",
       "      <td>1</td>\n",
       "      <td>139</td>\n",
       "      <td>94</td>\n",
       "      <td>88</td>\n",
       "      <td>20</td>\n",
       "      <td>36.5</td>\n",
       "      <td>-1</td>\n",
       "      <td>5</td>\n",
       "      <td>Alcoholic liver cirrhosis with ascites</td>\n",
       "    </tr>\n",
       "    <tr>\n",
       "      <th>4</th>\n",
       "      <td>1</td>\n",
       "      <td>58</td>\n",
       "      <td>3</td>\n",
       "      <td>3</td>\n",
       "      <td>0</td>\n",
       "      <td>distension, abd</td>\n",
       "      <td>1</td>\n",
       "      <td>1</td>\n",
       "      <td>91</td>\n",
       "      <td>67</td>\n",
       "      <td>93</td>\n",
       "      <td>18</td>\n",
       "      <td>36.5</td>\n",
       "      <td>-1</td>\n",
       "      <td>5</td>\n",
       "      <td>Ascites</td>\n",
       "    </tr>\n",
       "  </tbody>\n",
       "</table>\n",
       "</div>"
      ],
      "text/plain": [
       "   Gender  Age  Arrival mode  NRS_pain  Injury      Chief_complain  Mental  \\\n",
       "0       1   71             3         2       1   right ocular pain       1   \n",
       "1       0   56             3         2       0  right forearm burn       1   \n",
       "2       0   68             2         2       1        arm pain, Lt       1   \n",
       "3       1   71             1         3       0     ascites tapping       1   \n",
       "4       1   58             3         3       0     distension, abd       1   \n",
       "\n",
       "   Pain  SBP  DBP   HR  RR    BT  Saturation  KTAS_expert  \\\n",
       "0     1  160  100   84  18  36.6         100            4   \n",
       "1     1  137   75   60  20  36.5          -1            5   \n",
       "2     1  130   80  102  20  36.6          98            5   \n",
       "3     1  139   94   88  20  36.5          -1            5   \n",
       "4     1   91   67   93  18  36.5          -1            5   \n",
       "\n",
       "                                Diagnosis in ED  \n",
       "0                              Corneal abrasion  \n",
       "1             Burn of hand, firts degree dorsum  \n",
       "2  Fracture of surgical neck of humerus, closed  \n",
       "3        Alcoholic liver cirrhosis with ascites  \n",
       "4                                       Ascites  "
      ]
     },
     "execution_count": 22,
     "metadata": {},
     "output_type": "execute_result"
    }
   ],
   "source": [
    "train_df.head()"
   ]
  },
  {
   "cell_type": "code",
   "execution_count": 23,
   "metadata": {},
   "outputs": [
    {
     "data": {
      "text/plain": [
       "Gender               int64\n",
       "Age                  int64\n",
       "Arrival mode         int64\n",
       "NRS_pain             int64\n",
       "Injury               int64\n",
       "Chief_complain      object\n",
       "Mental               int64\n",
       "Pain                 int64\n",
       "SBP                  int64\n",
       "DBP                  int64\n",
       "HR                   int64\n",
       "RR                   int64\n",
       "BT                 float64\n",
       "Saturation           int64\n",
       "KTAS_expert          int64\n",
       "Diagnosis in ED     object\n",
       "dtype: object"
      ]
     },
     "execution_count": 23,
     "metadata": {},
     "output_type": "execute_result"
    }
   ],
   "source": [
    "train_df.dtypes"
   ]
  },
  {
   "cell_type": "code",
   "execution_count": 24,
   "metadata": {},
   "outputs": [
    {
     "data": {
      "text/plain": [
       "Gender             False\n",
       "Age                False\n",
       "Arrival mode       False\n",
       "NRS_pain           False\n",
       "Injury             False\n",
       "Chief_complain     False\n",
       "Mental             False\n",
       "Pain               False\n",
       "SBP                False\n",
       "DBP                False\n",
       "HR                 False\n",
       "RR                 False\n",
       "BT                 False\n",
       "Saturation         False\n",
       "KTAS_expert        False\n",
       "Diagnosis in ED     True\n",
       "dtype: bool"
      ]
     },
     "execution_count": 24,
     "metadata": {},
     "output_type": "execute_result"
    }
   ],
   "source": [
    "train_df.isna().any()\n",
    "# Inspection for Null Values"
   ]
  },
  {
   "cell_type": "markdown",
   "metadata": {},
   "source": [
    "The dataset also needs to be inspected for outliers and null values. As can be seen below there are numerous values (i.e. -1) that need to be addressed. To correct this these will be imputed with either mean or median depending on a normal or skewed distribution respectively."
   ]
  },
  {
   "cell_type": "code",
   "execution_count": 25,
   "metadata": {},
   "outputs": [
    {
     "data": {
      "text/html": [
       "<div>\n",
       "<style scoped>\n",
       "    .dataframe tbody tr th:only-of-type {\n",
       "        vertical-align: middle;\n",
       "    }\n",
       "\n",
       "    .dataframe tbody tr th {\n",
       "        vertical-align: top;\n",
       "    }\n",
       "\n",
       "    .dataframe thead th {\n",
       "        text-align: right;\n",
       "    }\n",
       "</style>\n",
       "<table border=\"1\" class=\"dataframe\">\n",
       "  <thead>\n",
       "    <tr style=\"text-align: right;\">\n",
       "      <th></th>\n",
       "      <th>Gender</th>\n",
       "      <th>Age</th>\n",
       "      <th>Arrival mode</th>\n",
       "      <th>NRS_pain</th>\n",
       "      <th>Injury</th>\n",
       "      <th>Mental</th>\n",
       "      <th>Pain</th>\n",
       "      <th>SBP</th>\n",
       "      <th>DBP</th>\n",
       "      <th>HR</th>\n",
       "      <th>RR</th>\n",
       "      <th>BT</th>\n",
       "      <th>Saturation</th>\n",
       "      <th>KTAS_expert</th>\n",
       "    </tr>\n",
       "  </thead>\n",
       "  <tbody>\n",
       "    <tr>\n",
       "      <th>count</th>\n",
       "      <td>1267.000000</td>\n",
       "      <td>1267.000000</td>\n",
       "      <td>1267.000000</td>\n",
       "      <td>1267.000000</td>\n",
       "      <td>1267.000000</td>\n",
       "      <td>1267.000000</td>\n",
       "      <td>1267.000000</td>\n",
       "      <td>1267.000000</td>\n",
       "      <td>1267.000000</td>\n",
       "      <td>1267.000000</td>\n",
       "      <td>1267.000000</td>\n",
       "      <td>1267.000000</td>\n",
       "      <td>1267.000000</td>\n",
       "      <td>1267.000000</td>\n",
       "    </tr>\n",
       "    <tr>\n",
       "      <th>mean</th>\n",
       "      <td>0.521705</td>\n",
       "      <td>54.423836</td>\n",
       "      <td>2.820837</td>\n",
       "      <td>1.864246</td>\n",
       "      <td>0.456985</td>\n",
       "      <td>1.105762</td>\n",
       "      <td>0.563536</td>\n",
       "      <td>130.992107</td>\n",
       "      <td>77.902131</td>\n",
       "      <td>82.621942</td>\n",
       "      <td>19.150750</td>\n",
       "      <td>36.046725</td>\n",
       "      <td>43.099448</td>\n",
       "      <td>3.265983</td>\n",
       "    </tr>\n",
       "    <tr>\n",
       "      <th>std</th>\n",
       "      <td>0.499726</td>\n",
       "      <td>19.725033</td>\n",
       "      <td>0.807904</td>\n",
       "      <td>2.747777</td>\n",
       "      <td>0.498343</td>\n",
       "      <td>0.447768</td>\n",
       "      <td>0.496143</td>\n",
       "      <td>32.866837</td>\n",
       "      <td>19.338546</td>\n",
       "      <td>19.618597</td>\n",
       "      <td>3.343217</td>\n",
       "      <td>4.482012</td>\n",
       "      <td>48.871801</td>\n",
       "      <td>0.885803</td>\n",
       "    </tr>\n",
       "    <tr>\n",
       "      <th>min</th>\n",
       "      <td>0.000000</td>\n",
       "      <td>16.000000</td>\n",
       "      <td>1.000000</td>\n",
       "      <td>-1.000000</td>\n",
       "      <td>0.000000</td>\n",
       "      <td>1.000000</td>\n",
       "      <td>0.000000</td>\n",
       "      <td>-1.000000</td>\n",
       "      <td>-1.000000</td>\n",
       "      <td>-1.000000</td>\n",
       "      <td>-1.000000</td>\n",
       "      <td>-1.000000</td>\n",
       "      <td>-1.000000</td>\n",
       "      <td>1.000000</td>\n",
       "    </tr>\n",
       "    <tr>\n",
       "      <th>25%</th>\n",
       "      <td>0.000000</td>\n",
       "      <td>37.000000</td>\n",
       "      <td>2.000000</td>\n",
       "      <td>-1.000000</td>\n",
       "      <td>0.000000</td>\n",
       "      <td>1.000000</td>\n",
       "      <td>0.000000</td>\n",
       "      <td>110.000000</td>\n",
       "      <td>70.000000</td>\n",
       "      <td>72.000000</td>\n",
       "      <td>18.000000</td>\n",
       "      <td>36.200000</td>\n",
       "      <td>-1.000000</td>\n",
       "      <td>3.000000</td>\n",
       "    </tr>\n",
       "    <tr>\n",
       "      <th>50%</th>\n",
       "      <td>1.000000</td>\n",
       "      <td>57.000000</td>\n",
       "      <td>3.000000</td>\n",
       "      <td>3.000000</td>\n",
       "      <td>0.000000</td>\n",
       "      <td>1.000000</td>\n",
       "      <td>1.000000</td>\n",
       "      <td>130.000000</td>\n",
       "      <td>80.000000</td>\n",
       "      <td>81.000000</td>\n",
       "      <td>20.000000</td>\n",
       "      <td>36.500000</td>\n",
       "      <td>-1.000000</td>\n",
       "      <td>3.000000</td>\n",
       "    </tr>\n",
       "    <tr>\n",
       "      <th>75%</th>\n",
       "      <td>1.000000</td>\n",
       "      <td>71.000000</td>\n",
       "      <td>3.000000</td>\n",
       "      <td>4.000000</td>\n",
       "      <td>1.000000</td>\n",
       "      <td>1.000000</td>\n",
       "      <td>1.000000</td>\n",
       "      <td>150.000000</td>\n",
       "      <td>90.000000</td>\n",
       "      <td>96.000000</td>\n",
       "      <td>20.000000</td>\n",
       "      <td>36.800000</td>\n",
       "      <td>98.000000</td>\n",
       "      <td>4.000000</td>\n",
       "    </tr>\n",
       "    <tr>\n",
       "      <th>max</th>\n",
       "      <td>1.000000</td>\n",
       "      <td>96.000000</td>\n",
       "      <td>7.000000</td>\n",
       "      <td>10.000000</td>\n",
       "      <td>1.000000</td>\n",
       "      <td>4.000000</td>\n",
       "      <td>1.000000</td>\n",
       "      <td>275.000000</td>\n",
       "      <td>160.000000</td>\n",
       "      <td>148.000000</td>\n",
       "      <td>30.000000</td>\n",
       "      <td>41.000000</td>\n",
       "      <td>100.000000</td>\n",
       "      <td>5.000000</td>\n",
       "    </tr>\n",
       "  </tbody>\n",
       "</table>\n",
       "</div>"
      ],
      "text/plain": [
       "            Gender          Age  Arrival mode     NRS_pain       Injury  \\\n",
       "count  1267.000000  1267.000000   1267.000000  1267.000000  1267.000000   \n",
       "mean      0.521705    54.423836      2.820837     1.864246     0.456985   \n",
       "std       0.499726    19.725033      0.807904     2.747777     0.498343   \n",
       "min       0.000000    16.000000      1.000000    -1.000000     0.000000   \n",
       "25%       0.000000    37.000000      2.000000    -1.000000     0.000000   \n",
       "50%       1.000000    57.000000      3.000000     3.000000     0.000000   \n",
       "75%       1.000000    71.000000      3.000000     4.000000     1.000000   \n",
       "max       1.000000    96.000000      7.000000    10.000000     1.000000   \n",
       "\n",
       "            Mental         Pain          SBP          DBP           HR  \\\n",
       "count  1267.000000  1267.000000  1267.000000  1267.000000  1267.000000   \n",
       "mean      1.105762     0.563536   130.992107    77.902131    82.621942   \n",
       "std       0.447768     0.496143    32.866837    19.338546    19.618597   \n",
       "min       1.000000     0.000000    -1.000000    -1.000000    -1.000000   \n",
       "25%       1.000000     0.000000   110.000000    70.000000    72.000000   \n",
       "50%       1.000000     1.000000   130.000000    80.000000    81.000000   \n",
       "75%       1.000000     1.000000   150.000000    90.000000    96.000000   \n",
       "max       4.000000     1.000000   275.000000   160.000000   148.000000   \n",
       "\n",
       "                RR           BT   Saturation  KTAS_expert  \n",
       "count  1267.000000  1267.000000  1267.000000  1267.000000  \n",
       "mean     19.150750    36.046725    43.099448     3.265983  \n",
       "std       3.343217     4.482012    48.871801     0.885803  \n",
       "min      -1.000000    -1.000000    -1.000000     1.000000  \n",
       "25%      18.000000    36.200000    -1.000000     3.000000  \n",
       "50%      20.000000    36.500000    -1.000000     3.000000  \n",
       "75%      20.000000    36.800000    98.000000     4.000000  \n",
       "max      30.000000    41.000000   100.000000     5.000000  "
      ]
     },
     "execution_count": 25,
     "metadata": {},
     "output_type": "execute_result"
    }
   ],
   "source": [
    "train_df.describe()"
   ]
  },
  {
   "cell_type": "code",
   "execution_count": 26,
   "metadata": {},
   "outputs": [
    {
     "data": {
      "image/png": "[encoded data removed]",
      "text/plain": [
       "<Figure size 640x480 with 1 Axes>"
      ]
     },
     "metadata": {},
     "output_type": "display_data"
    },
    {
     "data": {
      "image/png": "[encoded data removed]",
      "text/plain": [
       "<Figure size 640x480 with 1 Axes>"
      ]
     },
     "metadata": {},
     "output_type": "display_data"
    },
    {
     "data": {
      "image/png": "[encoded data removed]",
      "text/plain": [
       "<Figure size 640x480 with 1 Axes>"
      ]
     },
     "metadata": {},
     "output_type": "display_data"
    },
    {
     "data": {
      "image/png": "[encoded data removed]",
      "text/plain": [
       "<Figure size 640x480 with 1 Axes>"
      ]
     },
     "metadata": {},
     "output_type": "display_data"
    },
    {
     "data": {
      "image/png": "[encoded data removed]",
      "text/plain": [
       "<Figure size 640x480 with 1 Axes>"
      ]
     },
     "metadata": {},
     "output_type": "display_data"
    },
    {
     "data": {
      "image/png": "[encoded data removed]",
      "text/plain": [
       "<Figure size 640x480 with 1 Axes>"
      ]
     },
     "metadata": {},
     "output_type": "display_data"
    },
    {
     "data": {
      "image/png": "[encoded data removed]",
      "text/plain": [
       "<Figure size 640x480 with 1 Axes>"
      ]
     },
     "metadata": {},
     "output_type": "display_data"
    },
    {
     "data": {
      "text/plain": [
       "<Figure size 640x480 with 0 Axes>"
      ]
     },
     "metadata": {},
     "output_type": "display_data"
    }
   ],
   "source": [
    "def distribution_plot(outlier_list):\n",
    "    for item in outlier_list:\n",
    "        plt.hist(train_df[item])\n",
    "        plt.title(str(item))\n",
    "        plt.show()\n",
    "        plt.clf()\n",
    "\n",
    "outliers = ['SBP', 'DBP', 'HR', 'RR', 'BT', 'Saturation', 'Age']\n",
    "distribution_plot(outliers)"
   ]
  },
  {
   "cell_type": "code",
   "execution_count": 27,
   "metadata": {},
   "outputs": [
    {
     "name": "stderr",
     "output_type": "stream",
     "text": [
      "/var/folders/13/lngr17tj6457_2v2xp487rc40000gn/T/ipykernel_37962/3228875152.py:3: SettingWithCopyWarning: \n",
      "A value is trying to be set on a copy of a slice from a DataFrame\n",
      "\n",
      "See the caveats in the documentation: https://pandas.pydata.org/pandas-docs/stable/user_guide/indexing.html#returning-a-view-versus-a-copy\n",
      "  train_df[item].replace(-1, train_df[train_df[item] >= 0][item].mean(), inplace = True)\n",
      "/var/folders/13/lngr17tj6457_2v2xp487rc40000gn/T/ipykernel_37962/3228875152.py:6: SettingWithCopyWarning: \n",
      "A value is trying to be set on a copy of a slice from a DataFrame\n",
      "\n",
      "See the caveats in the documentation: https://pandas.pydata.org/pandas-docs/stable/user_guide/indexing.html#returning-a-view-versus-a-copy\n",
      "  train_df['NRS_pain'].replace(-1, train_df[train_df['NRS_pain'] >= 0].NRS_pain.median(), inplace = True)\n"
     ]
    }
   ],
   "source": [
    "def neg_replacer(outlist):\n",
    "    for item in outlist:\n",
    "        train_df[item].replace(-1, train_df[train_df[item] >= 0][item].mean(), inplace = True)\n",
    "\n",
    "neg_replacer(outliers)\n",
    "train_df['NRS_pain'].replace(-1, train_df[train_df['NRS_pain'] >= 0].NRS_pain.median(), inplace = True)"
   ]
  },
  {
   "cell_type": "code",
   "execution_count": 28,
   "metadata": {},
   "outputs": [
    {
     "data": {
      "text/html": [
       "<div>\n",
       "<style scoped>\n",
       "    .dataframe tbody tr th:only-of-type {\n",
       "        vertical-align: middle;\n",
       "    }\n",
       "\n",
       "    .dataframe tbody tr th {\n",
       "        vertical-align: top;\n",
       "    }\n",
       "\n",
       "    .dataframe thead th {\n",
       "        text-align: right;\n",
       "    }\n",
       "</style>\n",
       "<table border=\"1\" class=\"dataframe\">\n",
       "  <thead>\n",
       "    <tr style=\"text-align: right;\">\n",
       "      <th></th>\n",
       "      <th>Gender</th>\n",
       "      <th>Age</th>\n",
       "      <th>Arrival mode</th>\n",
       "      <th>NRS_pain</th>\n",
       "      <th>Injury</th>\n",
       "      <th>Mental</th>\n",
       "      <th>Pain</th>\n",
       "      <th>SBP</th>\n",
       "      <th>DBP</th>\n",
       "      <th>HR</th>\n",
       "      <th>RR</th>\n",
       "      <th>BT</th>\n",
       "      <th>Saturation</th>\n",
       "      <th>KTAS_expert</th>\n",
       "    </tr>\n",
       "  </thead>\n",
       "  <tbody>\n",
       "    <tr>\n",
       "      <th>count</th>\n",
       "      <td>1267.000000</td>\n",
       "      <td>1267.000000</td>\n",
       "      <td>1267.000000</td>\n",
       "      <td>1267.000000</td>\n",
       "      <td>1267.000000</td>\n",
       "      <td>1267.000000</td>\n",
       "      <td>1267.000000</td>\n",
       "      <td>1267.000000</td>\n",
       "      <td>1267.000000</td>\n",
       "      <td>1267.000000</td>\n",
       "      <td>1267.000000</td>\n",
       "      <td>1267.000000</td>\n",
       "      <td>1267.000000</td>\n",
       "      <td>1267.000000</td>\n",
       "    </tr>\n",
       "    <tr>\n",
       "      <th>mean</th>\n",
       "      <td>0.521705</td>\n",
       "      <td>54.423836</td>\n",
       "      <td>2.820837</td>\n",
       "      <td>4.058406</td>\n",
       "      <td>0.456985</td>\n",
       "      <td>1.105762</td>\n",
       "      <td>0.563536</td>\n",
       "      <td>133.648953</td>\n",
       "      <td>79.815683</td>\n",
       "      <td>83.963111</td>\n",
       "      <td>19.506827</td>\n",
       "      <td>36.580624</td>\n",
       "      <td>97.024561</td>\n",
       "      <td>3.265983</td>\n",
       "    </tr>\n",
       "    <tr>\n",
       "      <th>std</th>\n",
       "      <td>0.499726</td>\n",
       "      <td>19.725033</td>\n",
       "      <td>0.807904</td>\n",
       "      <td>1.064165</td>\n",
       "      <td>0.498343</td>\n",
       "      <td>0.447768</td>\n",
       "      <td>0.496143</td>\n",
       "      <td>27.004987</td>\n",
       "      <td>14.929058</td>\n",
       "      <td>16.512102</td>\n",
       "      <td>1.999050</td>\n",
       "      <td>0.541815</td>\n",
       "      <td>2.916648</td>\n",
       "      <td>0.885803</td>\n",
       "    </tr>\n",
       "    <tr>\n",
       "      <th>min</th>\n",
       "      <td>0.000000</td>\n",
       "      <td>16.000000</td>\n",
       "      <td>1.000000</td>\n",
       "      <td>1.000000</td>\n",
       "      <td>0.000000</td>\n",
       "      <td>1.000000</td>\n",
       "      <td>0.000000</td>\n",
       "      <td>50.000000</td>\n",
       "      <td>31.000000</td>\n",
       "      <td>32.000000</td>\n",
       "      <td>14.000000</td>\n",
       "      <td>35.000000</td>\n",
       "      <td>20.000000</td>\n",
       "      <td>1.000000</td>\n",
       "    </tr>\n",
       "    <tr>\n",
       "      <th>25%</th>\n",
       "      <td>0.000000</td>\n",
       "      <td>37.000000</td>\n",
       "      <td>2.000000</td>\n",
       "      <td>3.000000</td>\n",
       "      <td>0.000000</td>\n",
       "      <td>1.000000</td>\n",
       "      <td>0.000000</td>\n",
       "      <td>115.000000</td>\n",
       "      <td>70.000000</td>\n",
       "      <td>72.000000</td>\n",
       "      <td>18.000000</td>\n",
       "      <td>36.200000</td>\n",
       "      <td>97.024561</td>\n",
       "      <td>3.000000</td>\n",
       "    </tr>\n",
       "    <tr>\n",
       "      <th>50%</th>\n",
       "      <td>1.000000</td>\n",
       "      <td>57.000000</td>\n",
       "      <td>3.000000</td>\n",
       "      <td>4.000000</td>\n",
       "      <td>0.000000</td>\n",
       "      <td>1.000000</td>\n",
       "      <td>1.000000</td>\n",
       "      <td>130.000000</td>\n",
       "      <td>80.000000</td>\n",
       "      <td>82.000000</td>\n",
       "      <td>20.000000</td>\n",
       "      <td>36.500000</td>\n",
       "      <td>97.024561</td>\n",
       "      <td>3.000000</td>\n",
       "    </tr>\n",
       "    <tr>\n",
       "      <th>75%</th>\n",
       "      <td>1.000000</td>\n",
       "      <td>71.000000</td>\n",
       "      <td>3.000000</td>\n",
       "      <td>4.000000</td>\n",
       "      <td>1.000000</td>\n",
       "      <td>1.000000</td>\n",
       "      <td>1.000000</td>\n",
       "      <td>150.000000</td>\n",
       "      <td>90.000000</td>\n",
       "      <td>96.000000</td>\n",
       "      <td>20.000000</td>\n",
       "      <td>36.800000</td>\n",
       "      <td>98.000000</td>\n",
       "      <td>4.000000</td>\n",
       "    </tr>\n",
       "    <tr>\n",
       "      <th>max</th>\n",
       "      <td>1.000000</td>\n",
       "      <td>96.000000</td>\n",
       "      <td>7.000000</td>\n",
       "      <td>10.000000</td>\n",
       "      <td>1.000000</td>\n",
       "      <td>4.000000</td>\n",
       "      <td>1.000000</td>\n",
       "      <td>275.000000</td>\n",
       "      <td>160.000000</td>\n",
       "      <td>148.000000</td>\n",
       "      <td>30.000000</td>\n",
       "      <td>41.000000</td>\n",
       "      <td>100.000000</td>\n",
       "      <td>5.000000</td>\n",
       "    </tr>\n",
       "  </tbody>\n",
       "</table>\n",
       "</div>"
      ],
      "text/plain": [
       "            Gender          Age  Arrival mode     NRS_pain       Injury  \\\n",
       "count  1267.000000  1267.000000   1267.000000  1267.000000  1267.000000   \n",
       "mean      0.521705    54.423836      2.820837     4.058406     0.456985   \n",
       "std       0.499726    19.725033      0.807904     1.064165     0.498343   \n",
       "min       0.000000    16.000000      1.000000     1.000000     0.000000   \n",
       "25%       0.000000    37.000000      2.000000     3.000000     0.000000   \n",
       "50%       1.000000    57.000000      3.000000     4.000000     0.000000   \n",
       "75%       1.000000    71.000000      3.000000     4.000000     1.000000   \n",
       "max       1.000000    96.000000      7.000000    10.000000     1.000000   \n",
       "\n",
       "            Mental         Pain          SBP          DBP           HR  \\\n",
       "count  1267.000000  1267.000000  1267.000000  1267.000000  1267.000000   \n",
       "mean      1.105762     0.563536   133.648953    79.815683    83.963111   \n",
       "std       0.447768     0.496143    27.004987    14.929058    16.512102   \n",
       "min       1.000000     0.000000    50.000000    31.000000    32.000000   \n",
       "25%       1.000000     0.000000   115.000000    70.000000    72.000000   \n",
       "50%       1.000000     1.000000   130.000000    80.000000    82.000000   \n",
       "75%       1.000000     1.000000   150.000000    90.000000    96.000000   \n",
       "max       4.000000     1.000000   275.000000   160.000000   148.000000   \n",
       "\n",
       "                RR           BT   Saturation  KTAS_expert  \n",
       "count  1267.000000  1267.000000  1267.000000  1267.000000  \n",
       "mean     19.506827    36.580624    97.024561     3.265983  \n",
       "std       1.999050     0.541815     2.916648     0.885803  \n",
       "min      14.000000    35.000000    20.000000     1.000000  \n",
       "25%      18.000000    36.200000    97.024561     3.000000  \n",
       "50%      20.000000    36.500000    97.024561     3.000000  \n",
       "75%      20.000000    36.800000    98.000000     4.000000  \n",
       "max      30.000000    41.000000   100.000000     5.000000  "
      ]
     },
     "execution_count": 28,
     "metadata": {},
     "output_type": "execute_result"
    }
   ],
   "source": [
    "train_df.describe()"
   ]
  },
  {
   "cell_type": "code",
   "execution_count": 29,
   "metadata": {},
   "outputs": [
    {
     "data": {
      "text/html": [
       "<div>\n",
       "<style scoped>\n",
       "    .dataframe tbody tr th:only-of-type {\n",
       "        vertical-align: middle;\n",
       "    }\n",
       "\n",
       "    .dataframe tbody tr th {\n",
       "        vertical-align: top;\n",
       "    }\n",
       "\n",
       "    .dataframe thead th {\n",
       "        text-align: right;\n",
       "    }\n",
       "</style>\n",
       "<table border=\"1\" class=\"dataframe\">\n",
       "  <thead>\n",
       "    <tr style=\"text-align: right;\">\n",
       "      <th></th>\n",
       "      <th>KTAS_RN</th>\n",
       "      <th>KTAS_expert</th>\n",
       "      <th>CAT_RN</th>\n",
       "      <th>CAT_EXPERT</th>\n",
       "    </tr>\n",
       "  </thead>\n",
       "  <tbody>\n",
       "    <tr>\n",
       "      <th>0</th>\n",
       "      <td>2</td>\n",
       "      <td>4</td>\n",
       "      <td>1</td>\n",
       "      <td>0</td>\n",
       "    </tr>\n",
       "    <tr>\n",
       "      <th>1</th>\n",
       "      <td>4</td>\n",
       "      <td>5</td>\n",
       "      <td>0</td>\n",
       "      <td>0</td>\n",
       "    </tr>\n",
       "    <tr>\n",
       "      <th>2</th>\n",
       "      <td>4</td>\n",
       "      <td>5</td>\n",
       "      <td>0</td>\n",
       "      <td>0</td>\n",
       "    </tr>\n",
       "    <tr>\n",
       "      <th>3</th>\n",
       "      <td>4</td>\n",
       "      <td>5</td>\n",
       "      <td>0</td>\n",
       "      <td>0</td>\n",
       "    </tr>\n",
       "    <tr>\n",
       "      <th>4</th>\n",
       "      <td>4</td>\n",
       "      <td>5</td>\n",
       "      <td>0</td>\n",
       "      <td>0</td>\n",
       "    </tr>\n",
       "  </tbody>\n",
       "</table>\n",
       "</div>"
      ],
      "text/plain": [
       "   KTAS_RN  KTAS_expert  CAT_RN  CAT_EXPERT\n",
       "0        2            4       1           0\n",
       "1        4            5       0           0\n",
       "2        4            5       0           0\n",
       "3        4            5       0           0\n",
       "4        4            5       0           0"
      ]
     },
     "execution_count": 29,
     "metadata": {},
     "output_type": "execute_result"
    }
   ],
   "source": [
    "human_compare.head()"
   ]
  },
  {
   "cell_type": "code",
   "execution_count": 30,
   "metadata": {},
   "outputs": [
    {
     "data": {
      "text/plain": [
       "Gender               int64\n",
       "Age                  int64\n",
       "Arrival mode         int64\n",
       "NRS_pain             int64\n",
       "Injury               int64\n",
       "Chief_complain      object\n",
       "Mental               int64\n",
       "Pain                 int64\n",
       "SBP                float64\n",
       "DBP                float64\n",
       "HR                 float64\n",
       "RR                 float64\n",
       "BT                 float64\n",
       "Saturation         float64\n",
       "KTAS_expert          int64\n",
       "Diagnosis in ED     object\n",
       "dtype: object"
      ]
     },
     "execution_count": 30,
     "metadata": {},
     "output_type": "execute_result"
    }
   ],
   "source": [
    "train_df.dtypes"
   ]
  },
  {
   "cell_type": "markdown",
   "metadata": {},
   "source": [
    "### NLP\n",
    "\n",
    "Another key component for the diagnosis is the ED diagnosis and ED presentation. As mentioned previously, a big challenge with this dataset is the combination of Korean, English and inconsistent data."
   ]
  },
  {
   "cell_type": "code",
   "execution_count": 31,
   "metadata": {},
   "outputs": [],
   "source": [
    "def preprocessing(text):\n",
    "    text = text.lower()\n",
    "    tokenwords = nltk.word_tokenize(text)\n",
    "    stop_words = set(nltk.corpus.stopwords.words('english'))\n",
    "    lemming = WordNetLemmatizer()\n",
    "    words = [lemming.lemmatize(word) for word in tokenwords if word.lower() not in stop_words]\n",
    "    preprocessed_text = ' '.join(words)\n",
    "    return preprocessed_text\n"
   ]
  },
  {
   "cell_type": "code",
   "execution_count": 32,
   "metadata": {},
   "outputs": [
    {
     "name": "stderr",
     "output_type": "stream",
     "text": [
      "[nltk_data] Downloading package wordnet to /Users/sam/nltk_data...\n",
      "[nltk_data]   Package wordnet is already up-to-date!\n"
     ]
    },
    {
     "data": {
      "text/plain": [
       "True"
      ]
     },
     "execution_count": 32,
     "metadata": {},
     "output_type": "execute_result"
    }
   ],
   "source": [
    "nltk.download('wordnet')\n"
   ]
  },
  {
   "cell_type": "code",
   "execution_count": 33,
   "metadata": {},
   "outputs": [
    {
     "name": "stderr",
     "output_type": "stream",
     "text": [
      "/var/folders/13/lngr17tj6457_2v2xp487rc40000gn/T/ipykernel_37962/3911833675.py:1: SettingWithCopyWarning: \n",
      "A value is trying to be set on a copy of a slice from a DataFrame.\n",
      "Try using .loc[row_indexer,col_indexer] = value instead\n",
      "\n",
      "See the caveats in the documentation: https://pandas.pydata.org/pandas-docs/stable/user_guide/indexing.html#returning-a-view-versus-a-copy\n",
      "  train_df['Chief_complain'] = train_df['Chief_complain'].apply(preprocessing)\n"
     ]
    }
   ],
   "source": [
    "train_df['Chief_complain'] = train_df['Chief_complain'].apply(preprocessing)"
   ]
  },
  {
   "cell_type": "code",
   "execution_count": 34,
   "metadata": {},
   "outputs": [
    {
     "data": {
      "text/plain": [
       "0       None\n",
       "1       None\n",
       "2       None\n",
       "3       None\n",
       "4       None\n",
       "        ... \n",
       "1262    None\n",
       "1263    None\n",
       "1264    None\n",
       "1265    None\n",
       "1266    None\n",
       "Name: Diagnosis in ED, Length: 1267, dtype: object"
      ]
     },
     "execution_count": 34,
     "metadata": {},
     "output_type": "execute_result"
    }
   ],
   "source": [
    "nullvalues = []\n",
    "\n",
    "nullvalues = []\n",
    "\n",
    "def append_to_nullvalues(x):\n",
    "    if type(x) == float:\n",
    "        nullvalues.append(x)\n",
    "\n",
    "train_df['Diagnosis in ED'].apply(append_to_nullvalues)"
   ]
  },
  {
   "cell_type": "code",
   "execution_count": 35,
   "metadata": {},
   "outputs": [
    {
     "name": "stdout",
     "output_type": "stream",
     "text": [
      "[nan, nan]\n"
     ]
    }
   ],
   "source": [
    "print(nullvalues)"
   ]
  },
  {
   "cell_type": "code",
   "execution_count": 36,
   "metadata": {},
   "outputs": [
    {
     "name": "stderr",
     "output_type": "stream",
     "text": [
      "/var/folders/13/lngr17tj6457_2v2xp487rc40000gn/T/ipykernel_37962/2311991692.py:1: SettingWithCopyWarning: \n",
      "A value is trying to be set on a copy of a slice from a DataFrame.\n",
      "Try using .loc[row_indexer,col_indexer] = value instead\n",
      "\n",
      "See the caveats in the documentation: https://pandas.pydata.org/pandas-docs/stable/user_guide/indexing.html#returning-a-view-versus-a-copy\n",
      "  train_df['Diagnosis in ED'] = train_df['Diagnosis in ED'].replace(np.NaN, \"Unknown\")\n"
     ]
    }
   ],
   "source": [
    "train_df['Diagnosis in ED'] = train_df['Diagnosis in ED'].replace(np.NaN, \"Unknown\")"
   ]
  },
  {
   "cell_type": "code",
   "execution_count": 37,
   "metadata": {},
   "outputs": [
    {
     "name": "stderr",
     "output_type": "stream",
     "text": [
      "/var/folders/13/lngr17tj6457_2v2xp487rc40000gn/T/ipykernel_37962/815294157.py:1: SettingWithCopyWarning: \n",
      "A value is trying to be set on a copy of a slice from a DataFrame.\n",
      "Try using .loc[row_indexer,col_indexer] = value instead\n",
      "\n",
      "See the caveats in the documentation: https://pandas.pydata.org/pandas-docs/stable/user_guide/indexing.html#returning-a-view-versus-a-copy\n",
      "  train_df['Diagnosis in ED'] = train_df['Diagnosis in ED'].apply(preprocessing)\n"
     ]
    }
   ],
   "source": [
    "train_df['Diagnosis in ED'] = train_df['Diagnosis in ED'].apply(preprocessing)"
   ]
  },
  {
   "cell_type": "code",
   "execution_count": 38,
   "metadata": {},
   "outputs": [
    {
     "name": "stdout",
     "output_type": "stream",
     "text": [
      "1267\n",
      "1267\n"
     ]
    }
   ],
   "source": [
    "target = train_df['KTAS_expert'].values\n",
    "print(len(target))\n",
    "target_c = human_compare['CAT_EXPERT']\n",
    "print(len(target_c))"
   ]
  },
  {
   "cell_type": "code",
   "execution_count": 39,
   "metadata": {},
   "outputs": [
    {
     "data": {
      "text/plain": [
       "0       0\n",
       "1       0\n",
       "2       0\n",
       "3       0\n",
       "4       0\n",
       "       ..\n",
       "1262    1\n",
       "1263    0\n",
       "1264    1\n",
       "1265    1\n",
       "1266    1\n",
       "Name: CAT_EXPERT, Length: 1267, dtype: int64"
      ]
     },
     "execution_count": 39,
     "metadata": {},
     "output_type": "execute_result"
    }
   ],
   "source": [
    "target_c"
   ]
  },
  {
   "cell_type": "markdown",
   "metadata": {},
   "source": [
    "# FAIRNESS ATTRIBUTES\n",
    "\n",
    "Gender and Age are potentially protected attributes to investigate."
   ]
  },
  {
   "cell_type": "code",
   "execution_count": 40,
   "metadata": {},
   "outputs": [
    {
     "name": "stderr",
     "output_type": "stream",
     "text": [
      "WARNING:root:No module named 'tempeh': LawSchoolGPADataset will be unavailable. To install, run:\n",
      "pip install 'aif360[LawSchoolGPA]'\n",
      "WARNING:root:No module named 'fairlearn': ExponentiatedGradientReduction will be unavailable. To install, run:\n",
      "pip install 'aif360[Reductions]'\n",
      "WARNING:root:No module named 'fairlearn': GridSearchReduction will be unavailable. To install, run:\n",
      "pip install 'aif360[Reductions]'\n",
      "WARNING:root:No module named 'fairlearn': GridSearchReduction will be unavailable. To install, run:\n",
      "pip install 'aif360[Reductions]'\n"
     ]
    }
   ],
   "source": [
    "import aif360\n",
    "from aif360.datasets import StandardDataset\n",
    "from aif360.metrics import BinaryLabelDatasetMetric"
   ]
  },
  {
   "cell_type": "code",
   "execution_count": 41,
   "metadata": {},
   "outputs": [
    {
     "name": "stderr",
     "output_type": "stream",
     "text": [
      "/var/folders/13/lngr17tj6457_2v2xp487rc40000gn/T/ipykernel_37962/2497585496.py:3: SettingWithCopyWarning: \n",
      "A value is trying to be set on a copy of a slice from a DataFrame.\n",
      "Try using .loc[row_indexer,col_indexer] = value instead\n",
      "\n",
      "See the caveats in the documentation: https://pandas.pydata.org/pandas-docs/stable/user_guide/indexing.html#returning-a-view-versus-a-copy\n",
      "  fairness_df['Emergency'] = target_c\n"
     ]
    }
   ],
   "source": [
    "# Load your dataset\n",
    "fairness_df = train_df\n",
    "fairness_df['Emergency'] = target_c\n",
    "fairness_df = fairness_df.drop(labels = ['Diagnosis in ED', 'Chief_complain', 'KTAS_expert'], axis=1)\n",
    "\n",
    "# Define the protected attribute and its privileged class\n",
    "protected_attribute_name = 'Gender'\n",
    "privileged_classes = [1]  # Specify the privileged class\n",
    "\n",
    "dataset = StandardDataset(\n",
    "    fairness_df,\n",
    "    label_name='Emergency',\n",
    "    protected_attribute_names=[protected_attribute_name],  # Use a list for protected_attribute_names\n",
    "    privileged_classes=[privileged_classes],\n",
    "    favorable_classes=[1]  # Corrected parameter name\n",
    ")"
   ]
  },
  {
   "cell_type": "code",
   "execution_count": 42,
   "metadata": {},
   "outputs": [
    {
     "name": "stdout",
     "output_type": "stream",
     "text": [
      "Disparate Impact: 1.036\n",
      "Stastistical Parity: 0.02\n"
     ]
    }
   ],
   "source": [
    "# Create a metric object\n",
    "metric = BinaryLabelDatasetMetric(dataset, privileged_groups=[{protected_attribute_name: 1}], unprivileged_groups=[{protected_attribute_name: 0}])\n",
    "\n",
    "# Compute disparate impact\n",
    "disparate_impact = metric.disparate_impact()\n",
    "parity_difference = metric.statistical_parity_difference()\n",
    "print(\"Disparate Impact:\", round(disparate_impact, 3))\n",
    "print(\"Stastistical Parity:\", round(parity_difference, 3))\n"
   ]
  },
  {
   "cell_type": "markdown",
   "metadata": {},
   "source": []
  },
  {
   "cell_type": "code",
   "execution_count": 43,
   "metadata": {},
   "outputs": [
    {
     "name": "stdout",
     "output_type": "stream",
     "text": [
      "Bias for Age Cut-offs of 20\n",
      "Disparate Impact: 1.587\n",
      "Stastistical Parity: 0.217\n",
      "Bias for Age Cut-offs of 30\n",
      "Disparate Impact: 1.49\n",
      "Stastistical Parity: 0.201\n",
      "Bias for Age Cut-offs of 40\n",
      "Disparate Impact: 1.446\n",
      "Stastistical Parity: 0.195\n",
      "Bias for Age Cut-offs of 50\n",
      "Disparate Impact: 1.428\n",
      "Stastistical Parity: 0.197\n",
      "Bias for Age Cut-offs of 60\n",
      "Disparate Impact: 1.357\n",
      "Stastistical Parity: 0.18\n",
      "Bias for Age Cut-offs of 70\n",
      "Disparate Impact: 1.231\n",
      "Stastistical Parity: 0.126\n",
      "Bias for Age Cut-offs of 80\n",
      "Disparate Impact: 1.285\n",
      "Stastistical Parity: 0.161\n"
     ]
    },
    {
     "name": "stderr",
     "output_type": "stream",
     "text": [
      "/var/folders/13/lngr17tj6457_2v2xp487rc40000gn/T/ipykernel_37962/3975190382.py:6: SettingWithCopyWarning: \n",
      "A value is trying to be set on a copy of a slice from a DataFrame.\n",
      "Try using .loc[row_indexer,col_indexer] = value instead\n",
      "\n",
      "See the caveats in the documentation: https://pandas.pydata.org/pandas-docs/stable/user_guide/indexing.html#returning-a-view-versus-a-copy\n",
      "  fairness_df['Emergency'] = target_c\n",
      "/var/folders/13/lngr17tj6457_2v2xp487rc40000gn/T/ipykernel_37962/3975190382.py:7: SettingWithCopyWarning: \n",
      "A value is trying to be set on a copy of a slice from a DataFrame.\n",
      "Try using .loc[row_indexer,col_indexer] = value instead\n",
      "\n",
      "See the caveats in the documentation: https://pandas.pydata.org/pandas-docs/stable/user_guide/indexing.html#returning-a-view-versus-a-copy\n",
      "  fairness_df['Age_Bin'] = fairness_df['Age'].apply(lambda row: 1 if row <= i else 0)\n",
      "/var/folders/13/lngr17tj6457_2v2xp487rc40000gn/T/ipykernel_37962/3975190382.py:6: SettingWithCopyWarning: \n",
      "A value is trying to be set on a copy of a slice from a DataFrame.\n",
      "Try using .loc[row_indexer,col_indexer] = value instead\n",
      "\n",
      "See the caveats in the documentation: https://pandas.pydata.org/pandas-docs/stable/user_guide/indexing.html#returning-a-view-versus-a-copy\n",
      "  fairness_df['Emergency'] = target_c\n",
      "/var/folders/13/lngr17tj6457_2v2xp487rc40000gn/T/ipykernel_37962/3975190382.py:7: SettingWithCopyWarning: \n",
      "A value is trying to be set on a copy of a slice from a DataFrame.\n",
      "Try using .loc[row_indexer,col_indexer] = value instead\n",
      "\n",
      "See the caveats in the documentation: https://pandas.pydata.org/pandas-docs/stable/user_guide/indexing.html#returning-a-view-versus-a-copy\n",
      "  fairness_df['Age_Bin'] = fairness_df['Age'].apply(lambda row: 1 if row <= i else 0)\n",
      "/var/folders/13/lngr17tj6457_2v2xp487rc40000gn/T/ipykernel_37962/3975190382.py:6: SettingWithCopyWarning: \n",
      "A value is trying to be set on a copy of a slice from a DataFrame.\n",
      "Try using .loc[row_indexer,col_indexer] = value instead\n",
      "\n",
      "See the caveats in the documentation: https://pandas.pydata.org/pandas-docs/stable/user_guide/indexing.html#returning-a-view-versus-a-copy\n",
      "  fairness_df['Emergency'] = target_c\n",
      "/var/folders/13/lngr17tj6457_2v2xp487rc40000gn/T/ipykernel_37962/3975190382.py:7: SettingWithCopyWarning: \n",
      "A value is trying to be set on a copy of a slice from a DataFrame.\n",
      "Try using .loc[row_indexer,col_indexer] = value instead\n",
      "\n",
      "See the caveats in the documentation: https://pandas.pydata.org/pandas-docs/stable/user_guide/indexing.html#returning-a-view-versus-a-copy\n",
      "  fairness_df['Age_Bin'] = fairness_df['Age'].apply(lambda row: 1 if row <= i else 0)\n",
      "/var/folders/13/lngr17tj6457_2v2xp487rc40000gn/T/ipykernel_37962/3975190382.py:6: SettingWithCopyWarning: \n",
      "A value is trying to be set on a copy of a slice from a DataFrame.\n",
      "Try using .loc[row_indexer,col_indexer] = value instead\n",
      "\n",
      "See the caveats in the documentation: https://pandas.pydata.org/pandas-docs/stable/user_guide/indexing.html#returning-a-view-versus-a-copy\n",
      "  fairness_df['Emergency'] = target_c\n",
      "/var/folders/13/lngr17tj6457_2v2xp487rc40000gn/T/ipykernel_37962/3975190382.py:7: SettingWithCopyWarning: \n",
      "A value is trying to be set on a copy of a slice from a DataFrame.\n",
      "Try using .loc[row_indexer,col_indexer] = value instead\n",
      "\n",
      "See the caveats in the documentation: https://pandas.pydata.org/pandas-docs/stable/user_guide/indexing.html#returning-a-view-versus-a-copy\n",
      "  fairness_df['Age_Bin'] = fairness_df['Age'].apply(lambda row: 1 if row <= i else 0)\n",
      "/var/folders/13/lngr17tj6457_2v2xp487rc40000gn/T/ipykernel_37962/3975190382.py:6: SettingWithCopyWarning: \n",
      "A value is trying to be set on a copy of a slice from a DataFrame.\n",
      "Try using .loc[row_indexer,col_indexer] = value instead\n",
      "\n",
      "See the caveats in the documentation: https://pandas.pydata.org/pandas-docs/stable/user_guide/indexing.html#returning-a-view-versus-a-copy\n",
      "  fairness_df['Emergency'] = target_c\n",
      "/var/folders/13/lngr17tj6457_2v2xp487rc40000gn/T/ipykernel_37962/3975190382.py:7: SettingWithCopyWarning: \n",
      "A value is trying to be set on a copy of a slice from a DataFrame.\n",
      "Try using .loc[row_indexer,col_indexer] = value instead\n",
      "\n",
      "See the caveats in the documentation: https://pandas.pydata.org/pandas-docs/stable/user_guide/indexing.html#returning-a-view-versus-a-copy\n",
      "  fairness_df['Age_Bin'] = fairness_df['Age'].apply(lambda row: 1 if row <= i else 0)\n",
      "/var/folders/13/lngr17tj6457_2v2xp487rc40000gn/T/ipykernel_37962/3975190382.py:6: SettingWithCopyWarning: \n",
      "A value is trying to be set on a copy of a slice from a DataFrame.\n",
      "Try using .loc[row_indexer,col_indexer] = value instead\n",
      "\n",
      "See the caveats in the documentation: https://pandas.pydata.org/pandas-docs/stable/user_guide/indexing.html#returning-a-view-versus-a-copy\n",
      "  fairness_df['Emergency'] = target_c\n",
      "/var/folders/13/lngr17tj6457_2v2xp487rc40000gn/T/ipykernel_37962/3975190382.py:7: SettingWithCopyWarning: \n",
      "A value is trying to be set on a copy of a slice from a DataFrame.\n",
      "Try using .loc[row_indexer,col_indexer] = value instead\n",
      "\n",
      "See the caveats in the documentation: https://pandas.pydata.org/pandas-docs/stable/user_guide/indexing.html#returning-a-view-versus-a-copy\n",
      "  fairness_df['Age_Bin'] = fairness_df['Age'].apply(lambda row: 1 if row <= i else 0)\n",
      "/var/folders/13/lngr17tj6457_2v2xp487rc40000gn/T/ipykernel_37962/3975190382.py:6: SettingWithCopyWarning: \n",
      "A value is trying to be set on a copy of a slice from a DataFrame.\n",
      "Try using .loc[row_indexer,col_indexer] = value instead\n",
      "\n",
      "See the caveats in the documentation: https://pandas.pydata.org/pandas-docs/stable/user_guide/indexing.html#returning-a-view-versus-a-copy\n",
      "  fairness_df['Emergency'] = target_c\n",
      "/var/folders/13/lngr17tj6457_2v2xp487rc40000gn/T/ipykernel_37962/3975190382.py:7: SettingWithCopyWarning: \n",
      "A value is trying to be set on a copy of a slice from a DataFrame.\n",
      "Try using .loc[row_indexer,col_indexer] = value instead\n",
      "\n",
      "See the caveats in the documentation: https://pandas.pydata.org/pandas-docs/stable/user_guide/indexing.html#returning-a-view-versus-a-copy\n",
      "  fairness_df['Age_Bin'] = fairness_df['Age'].apply(lambda row: 1 if row <= i else 0)\n"
     ]
    }
   ],
   "source": [
    "age_bias_impact = []\n",
    "age_bias_stats = []\n",
    "for i in [20, 30, 40, 50, 60, 70, 80]:\n",
    "    # Load your dataset\n",
    "    fairness_df = train_df\n",
    "    fairness_df['Emergency'] = target_c\n",
    "    fairness_df['Age_Bin'] = fairness_df['Age'].apply(lambda row: 1 if row <= i else 0)\n",
    "    fairness_df = fairness_df.drop(labels = ['Diagnosis in ED', 'Chief_complain', 'KTAS_expert', 'Age'], axis=1)\n",
    "\n",
    "# Define the protected attribute and its privileged class\n",
    "    protected_attribute_name = 'Age_Bin'\n",
    "    privileged_classes = [1]  # Specify the privileged class\n",
    "\n",
    "    dataset = StandardDataset(\n",
    "        fairness_df,\n",
    "        label_name='Emergency',\n",
    "        protected_attribute_names=[protected_attribute_name],  # Use a list for protected_attribute_names\n",
    "        privileged_classes=[privileged_classes],\n",
    "        favorable_classes=[1]  # Corrected parameter name\n",
    "    )\n",
    "    # Create a metric object\n",
    "    metric = BinaryLabelDatasetMetric(dataset, privileged_groups=[{protected_attribute_name: 1}], unprivileged_groups=[{protected_attribute_name: 0}])\n",
    "\n",
    "    # Compute disparate impact\n",
    "    disparate_impact = metric.disparate_impact()\n",
    "    parity_difference = metric.statistical_parity_difference()\n",
    "    age_bias_impact.append(disparate_impact)\n",
    "    age_bias_stats.append(parity_difference)\n",
    "    print(f'Bias for Age Cut-offs of {i}')\n",
    "    print(\"Disparate Impact:\", round(disparate_impact, 3))\n",
    "    print(\"Stastistical Parity:\", round(parity_difference, 3))  "
   ]
  },
  {
   "cell_type": "code",
   "execution_count": 44,
   "metadata": {},
   "outputs": [
    {
     "data": {
      "text/plain": [
       "<function matplotlib.pyplot.clf()>"
      ]
     },
     "execution_count": 44,
     "metadata": {},
     "output_type": "execute_result"
    },
    {
     "data": {
      "image/png": "[encoded data removed]",
      "text/plain": [
       "<Figure size 640x480 with 1 Axes>"
      ]
     },
     "metadata": {},
     "output_type": "display_data"
    }
   ],
   "source": [
    "plt.plot([20, 30, 40, 50, 60, 70, 80], age_bias_stats)\n",
    "plt.title('Statistical Parity Amongst Different Age Cut-Offs')\n",
    "plt.xlabel('Age')\n",
    "plt.ylabel('Statistical Parity')\n",
    "plt.clf"
   ]
  },
  {
   "cell_type": "code",
   "execution_count": 45,
   "metadata": {},
   "outputs": [
    {
     "data": {
      "text/plain": [
       "<function matplotlib.pyplot.clf()>"
      ]
     },
     "execution_count": 45,
     "metadata": {},
     "output_type": "execute_result"
    },
    {
     "data": {
      "image/png": "[encoded data removed]",
      "text/plain": [
       "<Figure size 640x480 with 1 Axes>"
      ]
     },
     "metadata": {},
     "output_type": "display_data"
    }
   ],
   "source": [
    "plt.plot([20, 30, 40, 50, 60, 70, 80], age_bias_impact)\n",
    "plt.title('Disparate Impact Amongst Different Age Cut-Offs')\n",
    "plt.xlabel('Age')\n",
    "plt.ylabel('Disparate Impact')\n",
    "plt.clf"
   ]
  },
  {
   "cell_type": "code",
   "execution_count": 46,
   "metadata": {},
   "outputs": [
    {
     "name": "stdout",
     "output_type": "stream",
     "text": [
      "Bias for Nurses in Gender\n",
      "Disparate Impact: 1.285\n",
      "Stastistical Parity: 0.161\n"
     ]
    },
    {
     "name": "stderr",
     "output_type": "stream",
     "text": [
      "/var/folders/13/lngr17tj6457_2v2xp487rc40000gn/T/ipykernel_37962/964175210.py:3: SettingWithCopyWarning: \n",
      "A value is trying to be set on a copy of a slice from a DataFrame.\n",
      "Try using .loc[row_indexer,col_indexer] = value instead\n",
      "\n",
      "See the caveats in the documentation: https://pandas.pydata.org/pandas-docs/stable/user_guide/indexing.html#returning-a-view-versus-a-copy\n",
      "  fairness_df['Emergency'] = human_compare['CAT_RN']\n"
     ]
    }
   ],
   "source": [
    "# Load your dataset\n",
    "fairness_df = train_df\n",
    "fairness_df['Emergency'] = human_compare['CAT_RN']\n",
    "fairness_df = fairness_df.drop(labels = ['Diagnosis in ED', 'Chief_complain'], axis=1)\n",
    "\n",
    "# Define the protected attribute and its privileged class\n",
    "protected_attribute_name = 'Gender'\n",
    "privileged_classes = [1]  # Specify the privileged class\n",
    "\n",
    "dataset = StandardDataset(\n",
    "    fairness_df,\n",
    "    label_name='Emergency',\n",
    "    protected_attribute_names=[protected_attribute_name],  # Use a list for protected_attribute_names\n",
    "    privileged_classes=[privileged_classes],\n",
    "    favorable_classes=[1]  # Corrected parameter name\n",
    ")\n",
    "\n",
    "# Create a metric object\n",
    "metric = BinaryLabelDatasetMetric(dataset, privileged_groups=[{protected_attribute_name: 1}], unprivileged_groups=[{protected_attribute_name: 0}])\n",
    "# Compute disparate impact\n",
    "nurse_disparate_impact = metric.disparate_impact()\n",
    "nurse_parity_difference = metric.statistical_parity_difference()\n",
    "print(f'Bias for Nurses in Gender')\n",
    "print(\"Disparate Impact:\", round(disparate_impact, 3))\n",
    "print(\"Stastistical Parity:\", round(parity_difference, 3)) "
   ]
  },
  {
   "cell_type": "code",
   "execution_count": 47,
   "metadata": {},
   "outputs": [
    {
     "name": "stdout",
     "output_type": "stream",
     "text": [
      "Bias for Age Cut-offs of 20\n",
      "Disparate Impact: 1.561\n",
      "Stastistical Parity: 0.195\n",
      "Bias for Age Cut-offs of 30\n",
      "Disparate Impact: 1.687\n",
      "Stastistical Parity: 0.234\n",
      "Bias for Age Cut-offs of 40\n",
      "Disparate Impact: 1.506\n",
      "Stastistical Parity: 0.199\n",
      "Bias for Age Cut-offs of 50\n",
      "Disparate Impact: 1.434\n",
      "Stastistical Parity: 0.185\n",
      "Bias for Age Cut-offs of 60\n",
      "Disparate Impact: 1.362\n",
      "Stastistical Parity: 0.169\n",
      "Bias for Age Cut-offs of 70\n",
      "Disparate Impact: 1.216\n",
      "Stastistical Parity: 0.11\n",
      "Bias for Age Cut-offs of 80\n",
      "Disparate Impact: 1.27\n",
      "Stastistical Parity: 0.142\n"
     ]
    },
    {
     "name": "stderr",
     "output_type": "stream",
     "text": [
      "/var/folders/13/lngr17tj6457_2v2xp487rc40000gn/T/ipykernel_37962/707613325.py:6: SettingWithCopyWarning: \n",
      "A value is trying to be set on a copy of a slice from a DataFrame.\n",
      "Try using .loc[row_indexer,col_indexer] = value instead\n",
      "\n",
      "See the caveats in the documentation: https://pandas.pydata.org/pandas-docs/stable/user_guide/indexing.html#returning-a-view-versus-a-copy\n",
      "  fairness_df['Emergency'] = human_compare['CAT_RN']\n",
      "/var/folders/13/lngr17tj6457_2v2xp487rc40000gn/T/ipykernel_37962/707613325.py:7: SettingWithCopyWarning: \n",
      "A value is trying to be set on a copy of a slice from a DataFrame.\n",
      "Try using .loc[row_indexer,col_indexer] = value instead\n",
      "\n",
      "See the caveats in the documentation: https://pandas.pydata.org/pandas-docs/stable/user_guide/indexing.html#returning-a-view-versus-a-copy\n",
      "  fairness_df['Age_Bin'] = fairness_df['Age'].apply(lambda row: 1 if row <= i else 0)\n",
      "/var/folders/13/lngr17tj6457_2v2xp487rc40000gn/T/ipykernel_37962/707613325.py:6: SettingWithCopyWarning: \n",
      "A value is trying to be set on a copy of a slice from a DataFrame.\n",
      "Try using .loc[row_indexer,col_indexer] = value instead\n",
      "\n",
      "See the caveats in the documentation: https://pandas.pydata.org/pandas-docs/stable/user_guide/indexing.html#returning-a-view-versus-a-copy\n",
      "  fairness_df['Emergency'] = human_compare['CAT_RN']\n",
      "/var/folders/13/lngr17tj6457_2v2xp487rc40000gn/T/ipykernel_37962/707613325.py:7: SettingWithCopyWarning: \n",
      "A value is trying to be set on a copy of a slice from a DataFrame.\n",
      "Try using .loc[row_indexer,col_indexer] = value instead\n",
      "\n",
      "See the caveats in the documentation: https://pandas.pydata.org/pandas-docs/stable/user_guide/indexing.html#returning-a-view-versus-a-copy\n",
      "  fairness_df['Age_Bin'] = fairness_df['Age'].apply(lambda row: 1 if row <= i else 0)\n",
      "/var/folders/13/lngr17tj6457_2v2xp487rc40000gn/T/ipykernel_37962/707613325.py:6: SettingWithCopyWarning: \n",
      "A value is trying to be set on a copy of a slice from a DataFrame.\n",
      "Try using .loc[row_indexer,col_indexer] = value instead\n",
      "\n",
      "See the caveats in the documentation: https://pandas.pydata.org/pandas-docs/stable/user_guide/indexing.html#returning-a-view-versus-a-copy\n",
      "  fairness_df['Emergency'] = human_compare['CAT_RN']\n",
      "/var/folders/13/lngr17tj6457_2v2xp487rc40000gn/T/ipykernel_37962/707613325.py:7: SettingWithCopyWarning: \n",
      "A value is trying to be set on a copy of a slice from a DataFrame.\n",
      "Try using .loc[row_indexer,col_indexer] = value instead\n",
      "\n",
      "See the caveats in the documentation: https://pandas.pydata.org/pandas-docs/stable/user_guide/indexing.html#returning-a-view-versus-a-copy\n",
      "  fairness_df['Age_Bin'] = fairness_df['Age'].apply(lambda row: 1 if row <= i else 0)\n",
      "/var/folders/13/lngr17tj6457_2v2xp487rc40000gn/T/ipykernel_37962/707613325.py:6: SettingWithCopyWarning: \n",
      "A value is trying to be set on a copy of a slice from a DataFrame.\n",
      "Try using .loc[row_indexer,col_indexer] = value instead\n",
      "\n",
      "See the caveats in the documentation: https://pandas.pydata.org/pandas-docs/stable/user_guide/indexing.html#returning-a-view-versus-a-copy\n",
      "  fairness_df['Emergency'] = human_compare['CAT_RN']\n",
      "/var/folders/13/lngr17tj6457_2v2xp487rc40000gn/T/ipykernel_37962/707613325.py:7: SettingWithCopyWarning: \n",
      "A value is trying to be set on a copy of a slice from a DataFrame.\n",
      "Try using .loc[row_indexer,col_indexer] = value instead\n",
      "\n",
      "See the caveats in the documentation: https://pandas.pydata.org/pandas-docs/stable/user_guide/indexing.html#returning-a-view-versus-a-copy\n",
      "  fairness_df['Age_Bin'] = fairness_df['Age'].apply(lambda row: 1 if row <= i else 0)\n",
      "/var/folders/13/lngr17tj6457_2v2xp487rc40000gn/T/ipykernel_37962/707613325.py:6: SettingWithCopyWarning: \n",
      "A value is trying to be set on a copy of a slice from a DataFrame.\n",
      "Try using .loc[row_indexer,col_indexer] = value instead\n",
      "\n",
      "See the caveats in the documentation: https://pandas.pydata.org/pandas-docs/stable/user_guide/indexing.html#returning-a-view-versus-a-copy\n",
      "  fairness_df['Emergency'] = human_compare['CAT_RN']\n",
      "/var/folders/13/lngr17tj6457_2v2xp487rc40000gn/T/ipykernel_37962/707613325.py:7: SettingWithCopyWarning: \n",
      "A value is trying to be set on a copy of a slice from a DataFrame.\n",
      "Try using .loc[row_indexer,col_indexer] = value instead\n",
      "\n",
      "See the caveats in the documentation: https://pandas.pydata.org/pandas-docs/stable/user_guide/indexing.html#returning-a-view-versus-a-copy\n",
      "  fairness_df['Age_Bin'] = fairness_df['Age'].apply(lambda row: 1 if row <= i else 0)\n",
      "/var/folders/13/lngr17tj6457_2v2xp487rc40000gn/T/ipykernel_37962/707613325.py:6: SettingWithCopyWarning: \n",
      "A value is trying to be set on a copy of a slice from a DataFrame.\n",
      "Try using .loc[row_indexer,col_indexer] = value instead\n",
      "\n",
      "See the caveats in the documentation: https://pandas.pydata.org/pandas-docs/stable/user_guide/indexing.html#returning-a-view-versus-a-copy\n",
      "  fairness_df['Emergency'] = human_compare['CAT_RN']\n",
      "/var/folders/13/lngr17tj6457_2v2xp487rc40000gn/T/ipykernel_37962/707613325.py:7: SettingWithCopyWarning: \n",
      "A value is trying to be set on a copy of a slice from a DataFrame.\n",
      "Try using .loc[row_indexer,col_indexer] = value instead\n",
      "\n",
      "See the caveats in the documentation: https://pandas.pydata.org/pandas-docs/stable/user_guide/indexing.html#returning-a-view-versus-a-copy\n",
      "  fairness_df['Age_Bin'] = fairness_df['Age'].apply(lambda row: 1 if row <= i else 0)\n",
      "/var/folders/13/lngr17tj6457_2v2xp487rc40000gn/T/ipykernel_37962/707613325.py:6: SettingWithCopyWarning: \n",
      "A value is trying to be set on a copy of a slice from a DataFrame.\n",
      "Try using .loc[row_indexer,col_indexer] = value instead\n",
      "\n",
      "See the caveats in the documentation: https://pandas.pydata.org/pandas-docs/stable/user_guide/indexing.html#returning-a-view-versus-a-copy\n",
      "  fairness_df['Emergency'] = human_compare['CAT_RN']\n",
      "/var/folders/13/lngr17tj6457_2v2xp487rc40000gn/T/ipykernel_37962/707613325.py:7: SettingWithCopyWarning: \n",
      "A value is trying to be set on a copy of a slice from a DataFrame.\n",
      "Try using .loc[row_indexer,col_indexer] = value instead\n",
      "\n",
      "See the caveats in the documentation: https://pandas.pydata.org/pandas-docs/stable/user_guide/indexing.html#returning-a-view-versus-a-copy\n",
      "  fairness_df['Age_Bin'] = fairness_df['Age'].apply(lambda row: 1 if row <= i else 0)\n"
     ]
    }
   ],
   "source": [
    "nurse_age_bias_impact = []\n",
    "nurse_age_bias_stats = []\n",
    "for i in [20, 30, 40, 50, 60, 70, 80]:\n",
    "    # Load your dataset\n",
    "    fairness_df = train_df\n",
    "    fairness_df['Emergency'] = human_compare['CAT_RN']\n",
    "    fairness_df['Age_Bin'] = fairness_df['Age'].apply(lambda row: 1 if row <= i else 0)\n",
    "    fairness_df = fairness_df.drop(labels = ['Diagnosis in ED', 'Chief_complain', 'KTAS_expert', 'Age'], axis=1)\n",
    "\n",
    "# Define the protected attribute and its privileged class\n",
    "    protected_attribute_name = 'Age_Bin'\n",
    "    privileged_classes = [1]  # Specify the privileged class\n",
    "\n",
    "    dataset = StandardDataset(\n",
    "        fairness_df,\n",
    "        label_name='Emergency',\n",
    "        protected_attribute_names=[protected_attribute_name],  # Use a list for protected_attribute_names\n",
    "        privileged_classes=[privileged_classes],\n",
    "        favorable_classes=[1]  # Corrected parameter name\n",
    "    )\n",
    "    # Create a metric object\n",
    "    metric = BinaryLabelDatasetMetric(dataset, privileged_groups=[{protected_attribute_name: 1}], unprivileged_groups=[{protected_attribute_name: 0}])\n",
    "\n",
    "    # Compute disparate impact\n",
    "    disparate_impact = metric.disparate_impact()\n",
    "    parity_difference = metric.statistical_parity_difference()\n",
    "    nurse_age_bias_impact.append(disparate_impact)\n",
    "    nurse_age_bias_stats.append(parity_difference)\n",
    "    print(f'Bias for Age Cut-offs of {i}')\n",
    "    print(\"Disparate Impact:\", round(disparate_impact, 3))\n",
    "    print(\"Stastistical Parity:\", round(parity_difference, 3))  \n",
    "    "
   ]
  },
  {
   "cell_type": "code",
   "execution_count": 48,
   "metadata": {},
   "outputs": [
    {
     "data": {
      "text/plain": [
       "<function matplotlib.pyplot.clf()>"
      ]
     },
     "execution_count": 48,
     "metadata": {},
     "output_type": "execute_result"
    },
    {
     "data": {
      "image/png": "[encoded data removed]",
      "text/plain": [
       "<Figure size 640x480 with 1 Axes>"
      ]
     },
     "metadata": {},
     "output_type": "display_data"
    }
   ],
   "source": [
    "plt.plot([20, 30, 40, 50, 60, 70, 80], age_bias_impact[:7], label = 'True Label')\n",
    "plt.plot([20, 30, 40, 50, 60, 70, 80], nurse_age_bias_impact, label = \"Nursing Staff\")\n",
    "plt.title('Disparate Impact Amongst Different Age Cut-Offs')\n",
    "plt.xlabel('Age')\n",
    "plt.ylabel('Disparate Impact')\n",
    "plt.legend(loc = 1)\n",
    "plt.clf"
   ]
  },
  {
   "cell_type": "code",
   "execution_count": 49,
   "metadata": {},
   "outputs": [
    {
     "name": "stdout",
     "output_type": "stream",
     "text": [
      "[0.21683936901328205, 0.20132065926458448, 0.1952246582632533, 0.1970756598544306, 0.17962673766672632, 0.12589030531234402, 0.1613480697384807]\n",
      "[0.19517145604102126, 0.23437708017147274, 0.19880136880341093, 0.1848136348330614, 0.16856199278052275, 0.10955859002858048, 0.141837899543379]\n"
     ]
    }
   ],
   "source": [
    "print(age_bias_stats)\n",
    "print(nurse_age_bias_stats)"
   ]
  },
  {
   "cell_type": "code",
   "execution_count": 50,
   "metadata": {},
   "outputs": [
    {
     "data": {
      "text/plain": [
       "<function matplotlib.pyplot.clf()>"
      ]
     },
     "execution_count": 50,
     "metadata": {},
     "output_type": "execute_result"
    },
    {
     "data": {
      "image/png": "[encoded data removed]",
      "text/plain": [
       "<Figure size 640x480 with 1 Axes>"
      ]
     },
     "metadata": {},
     "output_type": "display_data"
    }
   ],
   "source": [
    "plt.plot([20, 30, 40, 50, 60, 70, 80], age_bias_stats[0:7], label = 'True Value')\n",
    "plt.plot([20, 30, 40, 50, 60, 70, 80], nurse_age_bias_stats, label = 'Nursing Staff')\n",
    "plt.title('Statistical Parity Amongst Different Age Cut-Offs')\n",
    "plt.xlabel('Age')\n",
    "plt.ylabel('Statistical Parity')\n",
    "plt.legend()\n",
    "plt.clf"
   ]
  },
  {
   "cell_type": "markdown",
   "metadata": {},
   "source": [
    "# Preprocessing For Modelling Continued."
   ]
  },
  {
   "cell_type": "code",
   "execution_count": 51,
   "metadata": {},
   "outputs": [],
   "source": [
    "train_df = train_df.drop(labels = [\"KTAS_expert\"], axis=1)"
   ]
  },
  {
   "cell_type": "code",
   "execution_count": 52,
   "metadata": {},
   "outputs": [
    {
     "name": "stdout",
     "output_type": "stream",
     "text": [
      "Chief_complain is not a num type\n",
      "Diagnosis in ED is not a num type\n"
     ]
    }
   ],
   "source": [
    "scaler = StandardScaler()\n",
    "\n",
    "for item in train_df.columns:\n",
    "        try:\n",
    "            scaler = StandardScaler()\n",
    "            new_list = list(train_df[item])\n",
    "            new_list = np.array(new_list)\n",
    "            new_list = new_list.reshape(-1, 1)\n",
    "            scaler.fit(new_list)\n",
    "            train_df[item] = scaler.transform(new_list)\n",
    "        except:\n",
    "            print(str(item) + \" is not a num type\")\n"
   ]
  },
  {
   "cell_type": "code",
   "execution_count": 53,
   "metadata": {},
   "outputs": [
    {
     "data": {
      "text/plain": [
       "Gender             float64\n",
       "Age                float64\n",
       "Arrival mode       float64\n",
       "NRS_pain           float64\n",
       "Injury             float64\n",
       "Chief_complain      object\n",
       "Mental             float64\n",
       "Pain               float64\n",
       "SBP                float64\n",
       "DBP                float64\n",
       "HR                 float64\n",
       "RR                 float64\n",
       "BT                 float64\n",
       "Saturation         float64\n",
       "Diagnosis in ED     object\n",
       "Emergency          float64\n",
       "Age_Bin            float64\n",
       "dtype: object"
      ]
     },
     "execution_count": 53,
     "metadata": {},
     "output_type": "execute_result"
    }
   ],
   "source": [
    "train_df.dtypes"
   ]
  },
  {
   "cell_type": "code",
   "execution_count": 54,
   "metadata": {},
   "outputs": [],
   "source": [
    "vector = TfidfVectorizer()\n",
    "vectorlist = vector.fit_transform(train_df['Chief_complain'])\n",
    "vector2 = TfidfVectorizer()\n",
    "vectorlist2 = vector2.fit_transform(train_df['Diagnosis in ED'])"
   ]
  },
  {
   "cell_type": "code",
   "execution_count": 55,
   "metadata": {},
   "outputs": [
    {
     "data": {
      "text/plain": [
       "<1267x305 sparse matrix of type '<class 'numpy.float64'>'\n",
       "\twith 2431 stored elements in Compressed Sparse Row format>"
      ]
     },
     "execution_count": 55,
     "metadata": {},
     "output_type": "execute_result"
    }
   ],
   "source": [
    "vectorlist"
   ]
  },
  {
   "cell_type": "code",
   "execution_count": 56,
   "metadata": {},
   "outputs": [],
   "source": [
    "testdf = train_df.drop(labels= [\"Chief_complain\", \"Diagnosis in ED\"], axis = 1)\n",
    "training_data = sparse.hstack((vectorlist, testdf))\n",
    "training_data = sparse.hstack((vectorlist2, training_data))"
   ]
  },
  {
   "cell_type": "code",
   "execution_count": 57,
   "metadata": {},
   "outputs": [],
   "source": [
    "# Learning Curve\n",
    "testdf.shape\n",
    "resampling = [10, 50, 100, 250, 500, 750, 1000]"
   ]
  },
  {
   "cell_type": "markdown",
   "metadata": {},
   "source": [
    "Train/Test Split"
   ]
  },
  {
   "cell_type": "code",
   "execution_count": 58,
   "metadata": {},
   "outputs": [
    {
     "name": "stdout",
     "output_type": "stream",
     "text": [
      "sample size 0.008\n"
     ]
    },
    {
     "name": "stdout",
     "output_type": "stream",
     "text": [
      "sample size 0.039\n",
      "sample size 0.079\n",
      "sample size 0.197\n",
      "sample size 0.395\n",
      "sample size 0.592\n",
      "sample size 0.789\n",
      "[0.3327743910087554, 0.3294192318306114, 0.38865106244198594, 0.43957050751360977, 0.442309525601465, 0.5370898156809197, 0.5413867475190572]\n",
      "[0.746692733789508, 0.8023460410557185, 0.8877810361681329, 0.9093841642228739, 0.9309872922776149, 0.9130335614206582, 0.9245356793743891]\n",
      "[0.2088888888888889, 0.33754797922781665, 0.3549785504628584, 0.3727563282406362, 0.4017485763026517, 0.4840001863618933, 0.5087251054557445]\n",
      "[0.7292929292929293, 0.8740306288693385, 0.9047572499185403, 0.9130335614206582, 0.9180840664711633, 0.9231345715216683, 0.9249592701205605]\n"
     ]
    }
   ],
   "source": [
    "from sklearn.metrics import balanced_accuracy_score\n",
    "f_training_acc = []\n",
    "f_training_bin_acc = []\n",
    "SVM_train = []\n",
    "SVM_train_bin_acc = []\n",
    "for i in resampling:\n",
    "    i /= 1267\n",
    "    X_train, X_test, y_train, y_test = train_test_split(training_data, target, train_size =i, test_size = 0.2, random_state=3)\n",
    "    X_train_c, X_test_c, y_train_c, y_test_c = train_test_split(training_data, target_c, train_size=i, test_size = 0.2, random_state=3)\n",
    "    forest = RandomForestClassifier(random_state=3)\n",
    "    forest2 = RandomForestClassifier(random_state=3)\n",
    "    print(f'sample size {i:.3f}')\n",
    "    forest = RandomForestClassifier()\n",
    "    forest.fit(X_train, y_train)\n",
    "    forest_prediction = forest.predict(X_test)\n",
    "    forest_c = RandomForestClassifier()\n",
    "    forest_c.fit(X_train_c, y_train_c)\n",
    "    forest_prediction_c = forest_c.predict(X_test_c)\n",
    "    forest_score = balanced_accuracy_score(y_test, forest_prediction)\n",
    "    forest_score_c = balanced_accuracy_score(y_test_c, forest_prediction_c)\n",
    "    f_training_acc.append(forest_score)\n",
    "    f_training_bin_acc.append(forest_score_c)\n",
    "    vector = SVC()\n",
    "    vector.fit(X_train, y_train)\n",
    "    SVMprediction = vector.predict(X_test)\n",
    "    vector_c = SVC()\n",
    "    vector_c.fit(X_train_c, y_train_c)\n",
    "    SVMprediction_c = vector_c.predict(X_test_c)\n",
    "    SVMscore = balanced_accuracy_score(y_test, SVMprediction)\n",
    "    SVMscore_c = balanced_accuracy_score(y_test_c, SVMprediction_c)\n",
    "    SVM_train.append(SVMscore)\n",
    "    SVM_train_bin_acc.append(SVMscore_c)\n",
    "\n",
    "\n",
    "print(f_training_acc)\n",
    "print(f_training_bin_acc)\n",
    "print(SVM_train)\n",
    "print(SVM_train_bin_acc)"
   ]
  },
  {
   "cell_type": "code",
   "execution_count": 59,
   "metadata": {},
   "outputs": [
    {
     "data": {
      "text/plain": [
       "Text(0.5, 0, 'Sample Size')"
      ]
     },
     "execution_count": 59,
     "metadata": {},
     "output_type": "execute_result"
    },
    {
     "data": {
      "image/png": "[encoded data removed]",
      "text/plain": [
       "<Figure size 640x480 with 2 Axes>"
      ]
     },
     "metadata": {},
     "output_type": "display_data"
    }
   ],
   "source": [
    "# make training plot\n",
    "\"\"\"ax = plt.subplot(2, 1, 2)\n",
    "ax1 = plt.subplot(1, 1, 1)\n",
    "plt.subplot()\n",
    "plt.plot(resampling, f_training_acc)\n",
    "plt.plot(resampling, SVM_train)\n",
    "ax2 = plt.subplot(2, 1, 2)\n",
    "plt.plot(resampling, f_training_bin_acc)\n",
    "plt.plot(resampling, SVM_train_bin_acc)\n",
    "plt.show()\n",
    "plt.clf()\n",
    "\"\"\"\n",
    "\n",
    "fig, (ax1, ax2) = plt.subplots(1, 2)\n",
    "fig.suptitle('Sample Size Training Curve for Nursing Dataset')\n",
    "ax1.plot(resampling, f_training_acc)\n",
    "ax1.plot(resampling, SVM_train)\n",
    "ax1.set_ylim(0.1, 0.9)\n",
    "ax1.set_title('Multiclass Triage')\n",
    "ax1.set_ylabel('Balanced Accuracy Score')\n",
    "ax1.set_xlabel('Sample Size')\n",
    "ax2.plot(resampling, f_training_bin_acc, label = 'Random Forest')\n",
    "ax2.plot(resampling, SVM_train_bin_acc, label = 'SVM')\n",
    "ax2.set_ylim(0.1, 1.0)\n",
    "ax2.set_title('Binary Triage')\n",
    "ax2.legend(loc = 4)\n",
    "ax2.set_xlabel('Sample Size')"
   ]
  },
  {
   "cell_type": "markdown",
   "metadata": {},
   "source": [
    "Model Testing Number"
   ]
  },
  {
   "cell_type": "markdown",
   "metadata": {},
   "source": [
    "Logistic Regression"
   ]
  },
  {
   "cell_type": "markdown",
   "metadata": {},
   "source": [
    "Random Forest Hyper Parameter Tuning"
   ]
  },
  {
   "cell_type": "code",
   "execution_count": 60,
   "metadata": {},
   "outputs": [
    {
     "data": {
      "text/html": [
       "<style>#sk-container-id-1 {color: black;background-color: white;}#sk-container-id-1 pre{padding: 0;}#sk-container-id-1 div.sk-toggleable {background-color: white;}#sk-container-id-1 label.sk-toggleable__label {cursor: pointer;display: block;width: 100%;margin-bottom: 0;padding: 0.3em;box-sizing: border-box;text-align: center;}#sk-container-id-1 label.sk-toggleable__label-arrow:before {content: \"▸\";float: left;margin-right: 0.25em;color: #696969;}#sk-container-id-1 label.sk-toggleable__label-arrow:hover:before {color: black;}#sk-container-id-1 div.sk-estimator:hover label.sk-toggleable__label-arrow:before {color: black;}#sk-container-id-1 div.sk-toggleable__content {max-height: 0;max-width: 0;overflow: hidden;text-align: left;background-color: #f0f8ff;}#sk-container-id-1 div.sk-toggleable__content pre {margin: 0.2em;color: black;border-radius: 0.25em;background-color: #f0f8ff;}#sk-container-id-1 input.sk-toggleable__control:checked~div.sk-toggleable__content {max-height: 200px;max-width: 100%;overflow: auto;}#sk-container-id-1 input.sk-toggleable__control:checked~label.sk-toggleable__label-arrow:before {content: \"▾\";}#sk-container-id-1 div.sk-estimator input.sk-toggleable__control:checked~label.sk-toggleable__label {background-color: #d4ebff;}#sk-container-id-1 div.sk-label input.sk-toggleable__control:checked~label.sk-toggleable__label {background-color: #d4ebff;}#sk-container-id-1 input.sk-hidden--visually {border: 0;clip: rect(1px 1px 1px 1px);clip: rect(1px, 1px, 1px, 1px);height: 1px;margin: -1px;overflow: hidden;padding: 0;position: absolute;width: 1px;}#sk-container-id-1 div.sk-estimator {font-family: monospace;background-color: #f0f8ff;border: 1px dotted black;border-radius: 0.25em;box-sizing: border-box;margin-bottom: 0.5em;}#sk-container-id-1 div.sk-estimator:hover {background-color: #d4ebff;}#sk-container-id-1 div.sk-parallel-item::after {content: \"\";width: 100%;border-bottom: 1px solid gray;flex-grow: 1;}#sk-container-id-1 div.sk-label:hover label.sk-toggleable__label {background-color: #d4ebff;}#sk-container-id-1 div.sk-serial::before {content: \"\";position: absolute;border-left: 1px solid gray;box-sizing: border-box;top: 0;bottom: 0;left: 50%;z-index: 0;}#sk-container-id-1 div.sk-serial {display: flex;flex-direction: column;align-items: center;background-color: white;padding-right: 0.2em;padding-left: 0.2em;position: relative;}#sk-container-id-1 div.sk-item {position: relative;z-index: 1;}#sk-container-id-1 div.sk-parallel {display: flex;align-items: stretch;justify-content: center;background-color: white;position: relative;}#sk-container-id-1 div.sk-item::before, #sk-container-id-1 div.sk-parallel-item::before {content: \"\";position: absolute;border-left: 1px solid gray;box-sizing: border-box;top: 0;bottom: 0;left: 50%;z-index: -1;}#sk-container-id-1 div.sk-parallel-item {display: flex;flex-direction: column;z-index: 1;position: relative;background-color: white;}#sk-container-id-1 div.sk-parallel-item:first-child::after {align-self: flex-end;width: 50%;}#sk-container-id-1 div.sk-parallel-item:last-child::after {align-self: flex-start;width: 50%;}#sk-container-id-1 div.sk-parallel-item:only-child::after {width: 0;}#sk-container-id-1 div.sk-dashed-wrapped {border: 1px dashed gray;margin: 0 0.4em 0.5em 0.4em;box-sizing: border-box;padding-bottom: 0.4em;background-color: white;}#sk-container-id-1 div.sk-label label {font-family: monospace;font-weight: bold;display: inline-block;line-height: 1.2em;}#sk-container-id-1 div.sk-label-container {text-align: center;}#sk-container-id-1 div.sk-container {/* jupyter's `normalize.less` sets `[hidden] { display: none; }` but bootstrap.min.css set `[hidden] { display: none !important; }` so we also need the `!important` here to be able to override the default hidden behavior on the sphinx rendered scikit-learn.org. See: https://github.com/scikit-learn/scikit-learn/issues/21755 */display: inline-block !important;position: relative;}#sk-container-id-1 div.sk-text-repr-fallback {display: none;}</style><div id=\"sk-container-id-1\" class=\"sk-top-container\"><div class=\"sk-text-repr-fallback\"><pre>GridSearchCV(estimator=RandomForestClassifier(random_state=3),\n",
       "             param_grid={&#x27;min_samples_leaf&#x27;: [1, 2, 3, 4, 5, 6],\n",
       "                         &#x27;min_samples_split&#x27;: [2, 3, 4, 5],\n",
       "                         &#x27;n_estimators&#x27;: [2, 5, 10, 20, 50, 100, 500]},\n",
       "             scoring=&#x27;roc_auc&#x27;)</pre><b>In a Jupyter environment, please rerun this cell to show the HTML representation or trust the notebook. <br />On GitHub, the HTML representation is unable to render, please try loading this page with nbviewer.org.</b></div><div class=\"sk-container\" hidden><div class=\"sk-item sk-dashed-wrapped\"><div class=\"sk-label-container\"><div class=\"sk-label sk-toggleable\"><input class=\"sk-toggleable__control sk-hidden--visually\" id=\"sk-estimator-id-1\" type=\"checkbox\" ><label for=\"sk-estimator-id-1\" class=\"sk-toggleable__label sk-toggleable__label-arrow\">GridSearchCV</label><div class=\"sk-toggleable__content\"><pre>GridSearchCV(estimator=RandomForestClassifier(random_state=3),\n",
       "             param_grid={&#x27;min_samples_leaf&#x27;: [1, 2, 3, 4, 5, 6],\n",
       "                         &#x27;min_samples_split&#x27;: [2, 3, 4, 5],\n",
       "                         &#x27;n_estimators&#x27;: [2, 5, 10, 20, 50, 100, 500]},\n",
       "             scoring=&#x27;roc_auc&#x27;)</pre></div></div></div><div class=\"sk-parallel\"><div class=\"sk-parallel-item\"><div class=\"sk-item\"><div class=\"sk-label-container\"><div class=\"sk-label sk-toggleable\"><input class=\"sk-toggleable__control sk-hidden--visually\" id=\"sk-estimator-id-2\" type=\"checkbox\" ><label for=\"sk-estimator-id-2\" class=\"sk-toggleable__label sk-toggleable__label-arrow\">estimator: RandomForestClassifier</label><div class=\"sk-toggleable__content\"><pre>RandomForestClassifier(random_state=3)</pre></div></div></div><div class=\"sk-serial\"><div class=\"sk-item\"><div class=\"sk-estimator sk-toggleable\"><input class=\"sk-toggleable__control sk-hidden--visually\" id=\"sk-estimator-id-3\" type=\"checkbox\" ><label for=\"sk-estimator-id-3\" class=\"sk-toggleable__label sk-toggleable__label-arrow\">RandomForestClassifier</label><div class=\"sk-toggleable__content\"><pre>RandomForestClassifier(random_state=3)</pre></div></div></div></div></div></div></div></div></div></div>"
      ],
      "text/plain": [
       "GridSearchCV(estimator=RandomForestClassifier(random_state=3),\n",
       "             param_grid={'min_samples_leaf': [1, 2, 3, 4, 5, 6],\n",
       "                         'min_samples_split': [2, 3, 4, 5],\n",
       "                         'n_estimators': [2, 5, 10, 20, 50, 100, 500]},\n",
       "             scoring='roc_auc')"
      ]
     },
     "execution_count": 60,
     "metadata": {},
     "output_type": "execute_result"
    }
   ],
   "source": [
    "paramgrid = {'n_estimators': [2, 5, 10, 20, 50, 100, 500], 'min_samples_split':[2, 3, 4, 5], 'min_samples_leaf':[1, 2, 3, 4, 5, 6]}\n",
    "forest = RandomForestClassifier(random_state=3)\n",
    "forest_grid = GridSearchCV(estimator=forest, param_grid=paramgrid, refit = True)\n",
    "forest_grid.fit(X_train, y_train)\n",
    "forest2 = RandomForestClassifier(random_state=3)\n",
    "forest_grid2 = GridSearchCV(estimator=forest2, param_grid=paramgrid, refit=True, scoring = 'roc_auc')\n",
    "forest_grid2.fit(X_train_c, y_train_c)"
   ]
  },
  {
   "cell_type": "code",
   "execution_count": 61,
   "metadata": {},
   "outputs": [
    {
     "name": "stdout",
     "output_type": "stream",
     "text": [
      "{'min_samples_leaf': 1, 'min_samples_split': 5, 'n_estimators': 100}\n",
      "{'min_samples_leaf': 1, 'min_samples_split': 3, 'n_estimators': 500}\n"
     ]
    }
   ],
   "source": [
    "print(forest_grid.best_params_)\n",
    "print(forest_grid2.best_params_)"
   ]
  },
  {
   "cell_type": "code",
   "execution_count": 62,
   "metadata": {},
   "outputs": [
    {
     "name": "stdout",
     "output_type": "stream",
     "text": [
      "0.5460083074397818\n",
      "0.9281850765721733\n"
     ]
    }
   ],
   "source": [
    "forest = RandomForestClassifier(min_samples_leaf = 1, min_samples_split = 3, n_estimators = 500, random_state=3)\n",
    "forest.fit(X_train, y_train)\n",
    "forest_prediction = forest.predict(X_test)\n",
    "\n",
    "forest_c = RandomForestClassifier(min_samples_leaf= 1, min_samples_split=5, n_estimators=500, random_state=3)\n",
    "forest_c.fit(X_train_c, y_train_c)\n",
    "forest_prediction_c = forest_c.predict(X_test_c)\n",
    "\n",
    "from sklearn.metrics import balanced_accuracy_score\n",
    "forest_score = balanced_accuracy_score(y_test, forest_prediction)\n",
    "forest_score_c = balanced_accuracy_score(y_test_c, forest_prediction_c)\n",
    "\n",
    "\n",
    "print(forest_score)\n",
    "print(forest_score_c)"
   ]
  },
  {
   "cell_type": "code",
   "execution_count": 63,
   "metadata": {},
   "outputs": [],
   "source": [
    "SVMparam = {'C': [0.1, 1, 10, 100, 1000],\n",
    "            'gamma': [1, 0.1, 0.01, 0.001, 0.0001],\n",
    "            'kernel': ['rbf', 'linear', 'poly']}\n",
    "SVC_ = SVC(random_state=3)\n",
    "grid = GridSearchCV(SVC_, SVMparam, refit=True, verbose=3)\n",
    "grid2 = GridSearchCV(SVC_, SVMparam, refit=True, verbose=3, scoring = 'roc_auc')"
   ]
  },
  {
   "cell_type": "code",
   "execution_count": 64,
   "metadata": {},
   "outputs": [
    {
     "name": "stdout",
     "output_type": "stream",
     "text": [
      "Fitting 5 folds for each of 75 candidates, totalling 375 fits\n",
      "[CV 1/5] END ........C=0.1, gamma=1, kernel=rbf;, score=0.385 total time=   0.1s\n",
      "[CV 2/5] END ........C=0.1, gamma=1, kernel=rbf;, score=0.385 total time=   0.1s\n",
      "[CV 3/5] END ........C=0.1, gamma=1, kernel=rbf;, score=0.380 total time=   0.1s\n",
      "[CV 4/5] END ........C=0.1, gamma=1, kernel=rbf;, score=0.380 total time=   0.1s\n",
      "[CV 5/5] END ........C=0.1, gamma=1, kernel=rbf;, score=0.382 total time=   0.1s\n",
      "[CV 1/5] END .....C=0.1, gamma=1, kernel=linear;, score=0.745 total time=   0.0s\n",
      "[CV 2/5] END .....C=0.1, gamma=1, kernel=linear;, score=0.695 total time=   0.1s\n",
      "[CV 3/5] END .....C=0.1, gamma=1, kernel=linear;, score=0.765 total time=   0.1s\n",
      "[CV 4/5] END .....C=0.1, gamma=1, kernel=linear;, score=0.740 total time=   0.1s\n",
      "[CV 5/5] END .....C=0.1, gamma=1, kernel=linear;, score=0.734 total time=   0.0s\n",
      "[CV 1/5] END .......C=0.1, gamma=1, kernel=poly;, score=0.730 total time=   0.1s\n",
      "[CV 2/5] END .......C=0.1, gamma=1, kernel=poly;, score=0.640 total time=   0.1s\n",
      "[CV 3/5] END .......C=0.1, gamma=1, kernel=poly;, score=0.665 total time=   0.1s\n",
      "[CV 4/5] END .......C=0.1, gamma=1, kernel=poly;, score=0.730 total time=   0.1s\n",
      "[CV 5/5] END .......C=0.1, gamma=1, kernel=poly;, score=0.704 total time=   0.1s\n",
      "[CV 1/5] END ......C=0.1, gamma=0.1, kernel=rbf;, score=0.635 total time=   0.1s\n",
      "[CV 2/5] END ......C=0.1, gamma=0.1, kernel=rbf;, score=0.640 total time=   0.1s\n",
      "[CV 3/5] END ......C=0.1, gamma=0.1, kernel=rbf;, score=0.680 total time=   0.1s\n",
      "[CV 4/5] END ......C=0.1, gamma=0.1, kernel=rbf;, score=0.655 total time=   0.1s\n",
      "[CV 5/5] END ......C=0.1, gamma=0.1, kernel=rbf;, score=0.633 total time=   0.1s\n",
      "[CV 1/5] END ...C=0.1, gamma=0.1, kernel=linear;, score=0.745 total time=   0.0s\n",
      "[CV 2/5] END ...C=0.1, gamma=0.1, kernel=linear;, score=0.695 total time=   0.0s\n",
      "[CV 3/5] END ...C=0.1, gamma=0.1, kernel=linear;, score=0.765 total time=   0.0s\n",
      "[CV 4/5] END ...C=0.1, gamma=0.1, kernel=linear;, score=0.740 total time=   0.1s\n",
      "[CV 5/5] END ...C=0.1, gamma=0.1, kernel=linear;, score=0.734 total time=   0.0s\n",
      "[CV 1/5] END .....C=0.1, gamma=0.1, kernel=poly;, score=0.700 total time=   0.1s\n",
      "[CV 2/5] END .....C=0.1, gamma=0.1, kernel=poly;, score=0.675 total time=   0.1s\n",
      "[CV 3/5] END .....C=0.1, gamma=0.1, kernel=poly;, score=0.705 total time=   0.1s\n",
      "[CV 4/5] END .....C=0.1, gamma=0.1, kernel=poly;, score=0.720 total time=   0.0s\n",
      "[CV 5/5] END .....C=0.1, gamma=0.1, kernel=poly;, score=0.688 total time=   0.0s\n",
      "[CV 1/5] END .....C=0.1, gamma=0.01, kernel=rbf;, score=0.675 total time=   0.0s\n",
      "[CV 2/5] END .....C=0.1, gamma=0.01, kernel=rbf;, score=0.660 total time=   0.0s\n",
      "[CV 3/5] END .....C=0.1, gamma=0.01, kernel=rbf;, score=0.685 total time=   0.0s\n",
      "[CV 4/5] END .....C=0.1, gamma=0.01, kernel=rbf;, score=0.670 total time=   0.0s\n",
      "[CV 5/5] END .....C=0.1, gamma=0.01, kernel=rbf;, score=0.673 total time=   0.0s\n",
      "[CV 1/5] END ..C=0.1, gamma=0.01, kernel=linear;, score=0.745 total time=   0.0s\n",
      "[CV 2/5] END ..C=0.1, gamma=0.01, kernel=linear;, score=0.695 total time=   0.0s\n",
      "[CV 3/5] END ..C=0.1, gamma=0.01, kernel=linear;, score=0.765 total time=   0.0s\n",
      "[CV 4/5] END ..C=0.1, gamma=0.01, kernel=linear;, score=0.740 total time=   0.0s\n",
      "[CV 5/5] END ..C=0.1, gamma=0.01, kernel=linear;, score=0.734 total time=   0.0s\n",
      "[CV 1/5] END ....C=0.1, gamma=0.01, kernel=poly;, score=0.385 total time=   0.0s\n",
      "[CV 2/5] END ....C=0.1, gamma=0.01, kernel=poly;, score=0.380 total time=   0.0s\n",
      "[CV 3/5] END ....C=0.1, gamma=0.01, kernel=poly;, score=0.380 total time=   0.1s\n",
      "[CV 4/5] END ....C=0.1, gamma=0.01, kernel=poly;, score=0.380 total time=   0.1s\n",
      "[CV 5/5] END ....C=0.1, gamma=0.01, kernel=poly;, score=0.382 total time=   0.1s\n",
      "[CV 1/5] END ....C=0.1, gamma=0.001, kernel=rbf;, score=0.385 total time=   0.1s\n",
      "[CV 2/5] END ....C=0.1, gamma=0.001, kernel=rbf;, score=0.385 total time=   0.1s\n",
      "[CV 3/5] END ....C=0.1, gamma=0.001, kernel=rbf;, score=0.380 total time=   0.1s\n",
      "[CV 4/5] END ....C=0.1, gamma=0.001, kernel=rbf;, score=0.380 total time=   0.0s\n",
      "[CV 5/5] END ....C=0.1, gamma=0.001, kernel=rbf;, score=0.382 total time=   0.0s\n",
      "[CV 1/5] END .C=0.1, gamma=0.001, kernel=linear;, score=0.745 total time=   0.0s\n",
      "[CV 2/5] END .C=0.1, gamma=0.001, kernel=linear;, score=0.695 total time=   0.0s\n",
      "[CV 3/5] END .C=0.1, gamma=0.001, kernel=linear;, score=0.765 total time=   0.0s\n",
      "[CV 4/5] END .C=0.1, gamma=0.001, kernel=linear;, score=0.740 total time=   0.0s\n",
      "[CV 5/5] END .C=0.1, gamma=0.001, kernel=linear;, score=0.734 total time=   0.0s\n",
      "[CV 1/5] END ...C=0.1, gamma=0.001, kernel=poly;, score=0.385 total time=   0.0s\n",
      "[CV 2/5] END ...C=0.1, gamma=0.001, kernel=poly;, score=0.385 total time=   0.0s\n",
      "[CV 3/5] END ...C=0.1, gamma=0.001, kernel=poly;, score=0.380 total time=   0.0s\n",
      "[CV 4/5] END ...C=0.1, gamma=0.001, kernel=poly;, score=0.380 total time=   0.0s\n",
      "[CV 5/5] END ...C=0.1, gamma=0.001, kernel=poly;, score=0.382 total time=   0.0s\n",
      "[CV 1/5] END ...C=0.1, gamma=0.0001, kernel=rbf;, score=0.385 total time=   0.0s\n",
      "[CV 2/5] END ...C=0.1, gamma=0.0001, kernel=rbf;, score=0.385 total time=   0.1s\n",
      "[CV 3/5] END ...C=0.1, gamma=0.0001, kernel=rbf;, score=0.380 total time=   0.1s\n",
      "[CV 4/5] END ...C=0.1, gamma=0.0001, kernel=rbf;, score=0.380 total time=   0.1s\n",
      "[CV 5/5] END ...C=0.1, gamma=0.0001, kernel=rbf;, score=0.382 total time=   0.1s\n",
      "[CV 1/5] END C=0.1, gamma=0.0001, kernel=linear;, score=0.745 total time=   0.0s\n",
      "[CV 2/5] END C=0.1, gamma=0.0001, kernel=linear;, score=0.695 total time=   0.0s\n",
      "[CV 3/5] END C=0.1, gamma=0.0001, kernel=linear;, score=0.765 total time=   0.0s\n",
      "[CV 4/5] END C=0.1, gamma=0.0001, kernel=linear;, score=0.740 total time=   0.0s\n",
      "[CV 5/5] END C=0.1, gamma=0.0001, kernel=linear;, score=0.734 total time=   0.0s\n",
      "[CV 1/5] END ..C=0.1, gamma=0.0001, kernel=poly;, score=0.385 total time=   0.0s\n",
      "[CV 2/5] END ..C=0.1, gamma=0.0001, kernel=poly;, score=0.385 total time=   0.0s\n",
      "[CV 3/5] END ..C=0.1, gamma=0.0001, kernel=poly;, score=0.380 total time=   0.0s\n",
      "[CV 4/5] END ..C=0.1, gamma=0.0001, kernel=poly;, score=0.380 total time=   0.0s\n",
      "[CV 5/5] END ..C=0.1, gamma=0.0001, kernel=poly;, score=0.382 total time=   0.0s\n",
      "[CV 1/5] END ..........C=1, gamma=1, kernel=rbf;, score=0.445 total time=   0.1s\n",
      "[CV 2/5] END ..........C=1, gamma=1, kernel=rbf;, score=0.420 total time=   0.1s\n",
      "[CV 3/5] END ..........C=1, gamma=1, kernel=rbf;, score=0.420 total time=   0.1s\n",
      "[CV 4/5] END ..........C=1, gamma=1, kernel=rbf;, score=0.470 total time=   0.1s\n",
      "[CV 5/5] END ..........C=1, gamma=1, kernel=rbf;, score=0.432 total time=   0.1s\n",
      "[CV 1/5] END .......C=1, gamma=1, kernel=linear;, score=0.710 total time=   0.1s\n",
      "[CV 2/5] END .......C=1, gamma=1, kernel=linear;, score=0.680 total time=   0.0s\n",
      "[CV 3/5] END .......C=1, gamma=1, kernel=linear;, score=0.740 total time=   0.0s\n",
      "[CV 4/5] END .......C=1, gamma=1, kernel=linear;, score=0.740 total time=   0.0s\n",
      "[CV 5/5] END .......C=1, gamma=1, kernel=linear;, score=0.729 total time=   0.0s\n",
      "[CV 1/5] END .........C=1, gamma=1, kernel=poly;, score=0.730 total time=   0.1s\n",
      "[CV 2/5] END .........C=1, gamma=1, kernel=poly;, score=0.640 total time=   0.1s\n",
      "[CV 3/5] END .........C=1, gamma=1, kernel=poly;, score=0.665 total time=   0.1s\n",
      "[CV 4/5] END .........C=1, gamma=1, kernel=poly;, score=0.730 total time=   0.1s\n",
      "[CV 5/5] END .........C=1, gamma=1, kernel=poly;, score=0.704 total time=   0.1s\n",
      "[CV 1/5] END ........C=1, gamma=0.1, kernel=rbf;, score=0.720 total time=   0.1s\n",
      "[CV 2/5] END ........C=1, gamma=0.1, kernel=rbf;, score=0.695 total time=   0.1s\n",
      "[CV 3/5] END ........C=1, gamma=0.1, kernel=rbf;, score=0.730 total time=   0.1s\n",
      "[CV 4/5] END ........C=1, gamma=0.1, kernel=rbf;, score=0.725 total time=   0.1s\n",
      "[CV 5/5] END ........C=1, gamma=0.1, kernel=rbf;, score=0.724 total time=   0.1s\n",
      "[CV 1/5] END .....C=1, gamma=0.1, kernel=linear;, score=0.710 total time=   0.1s\n",
      "[CV 2/5] END .....C=1, gamma=0.1, kernel=linear;, score=0.680 total time=   0.0s\n",
      "[CV 3/5] END .....C=1, gamma=0.1, kernel=linear;, score=0.740 total time=   0.1s\n",
      "[CV 4/5] END .....C=1, gamma=0.1, kernel=linear;, score=0.740 total time=   0.0s\n",
      "[CV 5/5] END .....C=1, gamma=0.1, kernel=linear;, score=0.729 total time=   0.0s\n",
      "[CV 1/5] END .......C=1, gamma=0.1, kernel=poly;, score=0.750 total time=   0.1s\n",
      "[CV 2/5] END .......C=1, gamma=0.1, kernel=poly;, score=0.700 total time=   0.0s\n",
      "[CV 3/5] END .......C=1, gamma=0.1, kernel=poly;, score=0.690 total time=   0.1s\n",
      "[CV 4/5] END .......C=1, gamma=0.1, kernel=poly;, score=0.735 total time=   0.1s\n",
      "[CV 5/5] END .......C=1, gamma=0.1, kernel=poly;, score=0.714 total time=   0.1s\n",
      "[CV 1/5] END .......C=1, gamma=0.01, kernel=rbf;, score=0.730 total time=   0.0s\n",
      "[CV 2/5] END .......C=1, gamma=0.01, kernel=rbf;, score=0.665 total time=   0.0s\n",
      "[CV 3/5] END .......C=1, gamma=0.01, kernel=rbf;, score=0.735 total time=   0.0s\n",
      "[CV 4/5] END .......C=1, gamma=0.01, kernel=rbf;, score=0.725 total time=   0.0s\n",
      "[CV 5/5] END .......C=1, gamma=0.01, kernel=rbf;, score=0.683 total time=   0.0s\n",
      "[CV 1/5] END ....C=1, gamma=0.01, kernel=linear;, score=0.710 total time=   0.0s\n",
      "[CV 2/5] END ....C=1, gamma=0.01, kernel=linear;, score=0.680 total time=   0.0s\n",
      "[CV 3/5] END ....C=1, gamma=0.01, kernel=linear;, score=0.740 total time=   0.0s\n",
      "[CV 4/5] END ....C=1, gamma=0.01, kernel=linear;, score=0.740 total time=   0.0s\n",
      "[CV 5/5] END ....C=1, gamma=0.01, kernel=linear;, score=0.729 total time=   0.0s\n",
      "[CV 1/5] END ......C=1, gamma=0.01, kernel=poly;, score=0.385 total time=   0.1s\n",
      "[CV 2/5] END ......C=1, gamma=0.01, kernel=poly;, score=0.380 total time=   0.0s\n",
      "[CV 3/5] END ......C=1, gamma=0.01, kernel=poly;, score=0.380 total time=   0.1s\n",
      "[CV 4/5] END ......C=1, gamma=0.01, kernel=poly;, score=0.380 total time=   0.0s\n",
      "[CV 5/5] END ......C=1, gamma=0.01, kernel=poly;, score=0.382 total time=   0.1s\n",
      "[CV 1/5] END ......C=1, gamma=0.001, kernel=rbf;, score=0.675 total time=   0.1s\n",
      "[CV 2/5] END ......C=1, gamma=0.001, kernel=rbf;, score=0.650 total time=   0.1s\n",
      "[CV 3/5] END ......C=1, gamma=0.001, kernel=rbf;, score=0.685 total time=   0.1s\n",
      "[CV 4/5] END ......C=1, gamma=0.001, kernel=rbf;, score=0.675 total time=   0.0s\n",
      "[CV 5/5] END ......C=1, gamma=0.001, kernel=rbf;, score=0.673 total time=   0.1s\n",
      "[CV 1/5] END ...C=1, gamma=0.001, kernel=linear;, score=0.710 total time=   0.1s\n",
      "[CV 2/5] END ...C=1, gamma=0.001, kernel=linear;, score=0.680 total time=   0.0s\n",
      "[CV 3/5] END ...C=1, gamma=0.001, kernel=linear;, score=0.740 total time=   0.0s\n",
      "[CV 4/5] END ...C=1, gamma=0.001, kernel=linear;, score=0.740 total time=   0.0s\n",
      "[CV 5/5] END ...C=1, gamma=0.001, kernel=linear;, score=0.729 total time=   0.0s\n",
      "[CV 1/5] END .....C=1, gamma=0.001, kernel=poly;, score=0.385 total time=   0.0s\n",
      "[CV 2/5] END .....C=1, gamma=0.001, kernel=poly;, score=0.385 total time=   0.0s\n",
      "[CV 3/5] END .....C=1, gamma=0.001, kernel=poly;, score=0.380 total time=   0.0s\n",
      "[CV 4/5] END .....C=1, gamma=0.001, kernel=poly;, score=0.380 total time=   0.0s\n",
      "[CV 5/5] END .....C=1, gamma=0.001, kernel=poly;, score=0.382 total time=   0.0s\n",
      "[CV 1/5] END .....C=1, gamma=0.0001, kernel=rbf;, score=0.385 total time=   0.0s\n",
      "[CV 2/5] END .....C=1, gamma=0.0001, kernel=rbf;, score=0.385 total time=   0.0s\n",
      "[CV 3/5] END .....C=1, gamma=0.0001, kernel=rbf;, score=0.380 total time=   0.0s\n",
      "[CV 4/5] END .....C=1, gamma=0.0001, kernel=rbf;, score=0.380 total time=   0.0s\n",
      "[CV 5/5] END .....C=1, gamma=0.0001, kernel=rbf;, score=0.382 total time=   0.0s\n",
      "[CV 1/5] END ..C=1, gamma=0.0001, kernel=linear;, score=0.710 total time=   0.0s\n",
      "[CV 2/5] END ..C=1, gamma=0.0001, kernel=linear;, score=0.680 total time=   0.0s\n",
      "[CV 3/5] END ..C=1, gamma=0.0001, kernel=linear;, score=0.740 total time=   0.0s\n",
      "[CV 4/5] END ..C=1, gamma=0.0001, kernel=linear;, score=0.740 total time=   0.1s\n",
      "[CV 5/5] END ..C=1, gamma=0.0001, kernel=linear;, score=0.729 total time=   0.0s\n",
      "[CV 1/5] END ....C=1, gamma=0.0001, kernel=poly;, score=0.385 total time=   0.1s\n",
      "[CV 2/5] END ....C=1, gamma=0.0001, kernel=poly;, score=0.385 total time=   0.1s\n",
      "[CV 3/5] END ....C=1, gamma=0.0001, kernel=poly;, score=0.380 total time=   0.1s\n",
      "[CV 4/5] END ....C=1, gamma=0.0001, kernel=poly;, score=0.380 total time=   0.0s\n",
      "[CV 5/5] END ....C=1, gamma=0.0001, kernel=poly;, score=0.382 total time=   0.0s\n",
      "[CV 1/5] END .........C=10, gamma=1, kernel=rbf;, score=0.480 total time=   0.1s\n",
      "[CV 2/5] END .........C=10, gamma=1, kernel=rbf;, score=0.430 total time=   0.1s\n",
      "[CV 3/5] END .........C=10, gamma=1, kernel=rbf;, score=0.460 total time=   0.1s\n",
      "[CV 4/5] END .........C=10, gamma=1, kernel=rbf;, score=0.500 total time=   0.1s\n",
      "[CV 5/5] END .........C=10, gamma=1, kernel=rbf;, score=0.462 total time=   0.1s\n",
      "[CV 1/5] END ......C=10, gamma=1, kernel=linear;, score=0.650 total time=   0.1s\n",
      "[CV 2/5] END ......C=10, gamma=1, kernel=linear;, score=0.635 total time=   0.1s\n",
      "[CV 3/5] END ......C=10, gamma=1, kernel=linear;, score=0.670 total time=   0.1s\n",
      "[CV 4/5] END ......C=10, gamma=1, kernel=linear;, score=0.700 total time=   0.1s\n",
      "[CV 5/5] END ......C=10, gamma=1, kernel=linear;, score=0.693 total time=   0.1s\n",
      "[CV 1/5] END ........C=10, gamma=1, kernel=poly;, score=0.730 total time=   0.1s\n",
      "[CV 2/5] END ........C=10, gamma=1, kernel=poly;, score=0.640 total time=   0.1s\n",
      "[CV 3/5] END ........C=10, gamma=1, kernel=poly;, score=0.665 total time=   0.1s\n",
      "[CV 4/5] END ........C=10, gamma=1, kernel=poly;, score=0.730 total time=   0.1s\n",
      "[CV 5/5] END ........C=10, gamma=1, kernel=poly;, score=0.704 total time=   0.1s\n",
      "[CV 1/5] END .......C=10, gamma=0.1, kernel=rbf;, score=0.715 total time=   0.1s\n",
      "[CV 2/5] END .......C=10, gamma=0.1, kernel=rbf;, score=0.675 total time=   0.1s\n",
      "[CV 3/5] END .......C=10, gamma=0.1, kernel=rbf;, score=0.690 total time=   0.1s\n",
      "[CV 4/5] END .......C=10, gamma=0.1, kernel=rbf;, score=0.700 total time=   0.1s\n",
      "[CV 5/5] END .......C=10, gamma=0.1, kernel=rbf;, score=0.709 total time=   0.1s\n",
      "[CV 1/5] END ....C=10, gamma=0.1, kernel=linear;, score=0.650 total time=   0.1s\n",
      "[CV 2/5] END ....C=10, gamma=0.1, kernel=linear;, score=0.635 total time=   0.1s\n",
      "[CV 3/5] END ....C=10, gamma=0.1, kernel=linear;, score=0.670 total time=   0.1s\n",
      "[CV 4/5] END ....C=10, gamma=0.1, kernel=linear;, score=0.700 total time=   0.1s\n",
      "[CV 5/5] END ....C=10, gamma=0.1, kernel=linear;, score=0.693 total time=   0.1s\n",
      "[CV 1/5] END ......C=10, gamma=0.1, kernel=poly;, score=0.730 total time=   0.1s\n",
      "[CV 2/5] END ......C=10, gamma=0.1, kernel=poly;, score=0.640 total time=   0.1s\n",
      "[CV 3/5] END ......C=10, gamma=0.1, kernel=poly;, score=0.665 total time=   0.1s\n",
      "[CV 4/5] END ......C=10, gamma=0.1, kernel=poly;, score=0.730 total time=   0.1s\n",
      "[CV 5/5] END ......C=10, gamma=0.1, kernel=poly;, score=0.704 total time=   0.1s\n",
      "[CV 1/5] END ......C=10, gamma=0.01, kernel=rbf;, score=0.745 total time=   0.0s\n",
      "[CV 2/5] END ......C=10, gamma=0.01, kernel=rbf;, score=0.700 total time=   0.0s\n",
      "[CV 3/5] END ......C=10, gamma=0.01, kernel=rbf;, score=0.750 total time=   0.0s\n",
      "[CV 4/5] END ......C=10, gamma=0.01, kernel=rbf;, score=0.745 total time=   0.0s\n",
      "[CV 5/5] END ......C=10, gamma=0.01, kernel=rbf;, score=0.739 total time=   0.0s\n",
      "[CV 1/5] END ...C=10, gamma=0.01, kernel=linear;, score=0.650 total time=   0.1s\n",
      "[CV 2/5] END ...C=10, gamma=0.01, kernel=linear;, score=0.635 total time=   0.1s\n",
      "[CV 3/5] END ...C=10, gamma=0.01, kernel=linear;, score=0.670 total time=   0.1s\n",
      "[CV 4/5] END ...C=10, gamma=0.01, kernel=linear;, score=0.700 total time=   0.1s\n",
      "[CV 5/5] END ...C=10, gamma=0.01, kernel=linear;, score=0.693 total time=   0.1s\n",
      "[CV 1/5] END .....C=10, gamma=0.01, kernel=poly;, score=0.570 total time=   0.1s\n",
      "[CV 2/5] END .....C=10, gamma=0.01, kernel=poly;, score=0.660 total time=   0.1s\n",
      "[CV 3/5] END .....C=10, gamma=0.01, kernel=poly;, score=0.640 total time=   0.1s\n",
      "[CV 4/5] END .....C=10, gamma=0.01, kernel=poly;, score=0.600 total time=   0.1s\n",
      "[CV 5/5] END .....C=10, gamma=0.01, kernel=poly;, score=0.648 total time=   0.1s\n",
      "[CV 1/5] END .....C=10, gamma=0.001, kernel=rbf;, score=0.725 total time=   0.0s\n",
      "[CV 2/5] END .....C=10, gamma=0.001, kernel=rbf;, score=0.660 total time=   0.0s\n",
      "[CV 3/5] END .....C=10, gamma=0.001, kernel=rbf;, score=0.740 total time=   0.0s\n",
      "[CV 4/5] END .....C=10, gamma=0.001, kernel=rbf;, score=0.690 total time=   0.0s\n",
      "[CV 5/5] END .....C=10, gamma=0.001, kernel=rbf;, score=0.683 total time=   0.0s\n",
      "[CV 1/5] END ..C=10, gamma=0.001, kernel=linear;, score=0.650 total time=   0.1s\n",
      "[CV 2/5] END ..C=10, gamma=0.001, kernel=linear;, score=0.635 total time=   0.1s\n",
      "[CV 3/5] END ..C=10, gamma=0.001, kernel=linear;, score=0.670 total time=   0.1s\n",
      "[CV 4/5] END ..C=10, gamma=0.001, kernel=linear;, score=0.700 total time=   0.1s\n",
      "[CV 5/5] END ..C=10, gamma=0.001, kernel=linear;, score=0.693 total time=   0.1s\n",
      "[CV 1/5] END ....C=10, gamma=0.001, kernel=poly;, score=0.385 total time=   0.0s\n",
      "[CV 2/5] END ....C=10, gamma=0.001, kernel=poly;, score=0.385 total time=   0.1s\n",
      "[CV 3/5] END ....C=10, gamma=0.001, kernel=poly;, score=0.380 total time=   0.1s\n",
      "[CV 4/5] END ....C=10, gamma=0.001, kernel=poly;, score=0.380 total time=   0.1s\n",
      "[CV 5/5] END ....C=10, gamma=0.001, kernel=poly;, score=0.382 total time=   0.0s\n",
      "[CV 1/5] END ....C=10, gamma=0.0001, kernel=rbf;, score=0.675 total time=   0.1s\n",
      "[CV 2/5] END ....C=10, gamma=0.0001, kernel=rbf;, score=0.650 total time=   0.1s\n",
      "[CV 3/5] END ....C=10, gamma=0.0001, kernel=rbf;, score=0.685 total time=   0.0s\n",
      "[CV 4/5] END ....C=10, gamma=0.0001, kernel=rbf;, score=0.675 total time=   0.0s\n",
      "[CV 5/5] END ....C=10, gamma=0.0001, kernel=rbf;, score=0.673 total time=   0.0s\n",
      "[CV 1/5] END .C=10, gamma=0.0001, kernel=linear;, score=0.650 total time=   0.1s\n",
      "[CV 2/5] END .C=10, gamma=0.0001, kernel=linear;, score=0.635 total time=   0.1s\n",
      "[CV 3/5] END .C=10, gamma=0.0001, kernel=linear;, score=0.670 total time=   0.1s\n",
      "[CV 4/5] END .C=10, gamma=0.0001, kernel=linear;, score=0.700 total time=   0.1s\n",
      "[CV 5/5] END .C=10, gamma=0.0001, kernel=linear;, score=0.693 total time=   0.1s\n",
      "[CV 1/5] END ...C=10, gamma=0.0001, kernel=poly;, score=0.385 total time=   0.0s\n",
      "[CV 2/5] END ...C=10, gamma=0.0001, kernel=poly;, score=0.385 total time=   0.0s\n",
      "[CV 3/5] END ...C=10, gamma=0.0001, kernel=poly;, score=0.380 total time=   0.1s\n",
      "[CV 4/5] END ...C=10, gamma=0.0001, kernel=poly;, score=0.380 total time=   0.1s\n",
      "[CV 5/5] END ...C=10, gamma=0.0001, kernel=poly;, score=0.382 total time=   0.1s\n",
      "[CV 1/5] END ........C=100, gamma=1, kernel=rbf;, score=0.480 total time=   0.1s\n",
      "[CV 2/5] END ........C=100, gamma=1, kernel=rbf;, score=0.430 total time=   0.1s\n",
      "[CV 3/5] END ........C=100, gamma=1, kernel=rbf;, score=0.460 total time=   0.1s\n",
      "[CV 4/5] END ........C=100, gamma=1, kernel=rbf;, score=0.500 total time=   0.1s\n",
      "[CV 5/5] END ........C=100, gamma=1, kernel=rbf;, score=0.462 total time=   0.1s\n",
      "[CV 1/5] END .....C=100, gamma=1, kernel=linear;, score=0.610 total time=   0.3s\n",
      "[CV 2/5] END .....C=100, gamma=1, kernel=linear;, score=0.620 total time=   0.2s\n",
      "[CV 3/5] END .....C=100, gamma=1, kernel=linear;, score=0.625 total time=   0.2s\n",
      "[CV 4/5] END .....C=100, gamma=1, kernel=linear;, score=0.630 total time=   0.1s\n",
      "[CV 5/5] END .....C=100, gamma=1, kernel=linear;, score=0.608 total time=   0.1s\n",
      "[CV 1/5] END .......C=100, gamma=1, kernel=poly;, score=0.730 total time=   0.1s\n",
      "[CV 2/5] END .......C=100, gamma=1, kernel=poly;, score=0.640 total time=   0.1s\n",
      "[CV 3/5] END .......C=100, gamma=1, kernel=poly;, score=0.665 total time=   0.1s\n",
      "[CV 4/5] END .......C=100, gamma=1, kernel=poly;, score=0.730 total time=   0.1s\n",
      "[CV 5/5] END .......C=100, gamma=1, kernel=poly;, score=0.704 total time=   0.1s\n",
      "[CV 1/5] END ......C=100, gamma=0.1, kernel=rbf;, score=0.715 total time=   0.1s\n",
      "[CV 2/5] END ......C=100, gamma=0.1, kernel=rbf;, score=0.670 total time=   0.1s\n",
      "[CV 3/5] END ......C=100, gamma=0.1, kernel=rbf;, score=0.690 total time=   0.1s\n",
      "[CV 4/5] END ......C=100, gamma=0.1, kernel=rbf;, score=0.700 total time=   0.1s\n",
      "[CV 5/5] END ......C=100, gamma=0.1, kernel=rbf;, score=0.704 total time=   0.1s\n",
      "[CV 1/5] END ...C=100, gamma=0.1, kernel=linear;, score=0.610 total time=   0.3s\n",
      "[CV 2/5] END ...C=100, gamma=0.1, kernel=linear;, score=0.620 total time=   0.1s\n",
      "[CV 3/5] END ...C=100, gamma=0.1, kernel=linear;, score=0.625 total time=   0.2s\n",
      "[CV 4/5] END ...C=100, gamma=0.1, kernel=linear;, score=0.630 total time=   0.1s\n",
      "[CV 5/5] END ...C=100, gamma=0.1, kernel=linear;, score=0.608 total time=   0.1s\n",
      "[CV 1/5] END .....C=100, gamma=0.1, kernel=poly;, score=0.730 total time=   0.1s\n",
      "[CV 2/5] END .....C=100, gamma=0.1, kernel=poly;, score=0.640 total time=   0.1s\n",
      "[CV 3/5] END .....C=100, gamma=0.1, kernel=poly;, score=0.665 total time=   0.1s\n",
      "[CV 4/5] END .....C=100, gamma=0.1, kernel=poly;, score=0.730 total time=   0.1s\n",
      "[CV 5/5] END .....C=100, gamma=0.1, kernel=poly;, score=0.704 total time=   0.1s\n",
      "[CV 1/5] END .....C=100, gamma=0.01, kernel=rbf;, score=0.700 total time=   0.0s\n",
      "[CV 2/5] END .....C=100, gamma=0.01, kernel=rbf;, score=0.670 total time=   0.0s\n",
      "[CV 3/5] END .....C=100, gamma=0.01, kernel=rbf;, score=0.700 total time=   0.0s\n",
      "[CV 4/5] END .....C=100, gamma=0.01, kernel=rbf;, score=0.705 total time=   0.0s\n",
      "[CV 5/5] END .....C=100, gamma=0.01, kernel=rbf;, score=0.724 total time=   0.0s\n",
      "[CV 1/5] END ..C=100, gamma=0.01, kernel=linear;, score=0.610 total time=   0.3s\n",
      "[CV 2/5] END ..C=100, gamma=0.01, kernel=linear;, score=0.620 total time=   0.1s\n",
      "[CV 3/5] END ..C=100, gamma=0.01, kernel=linear;, score=0.625 total time=   0.2s\n",
      "[CV 4/5] END ..C=100, gamma=0.01, kernel=linear;, score=0.630 total time=   0.2s\n",
      "[CV 5/5] END ..C=100, gamma=0.01, kernel=linear;, score=0.608 total time=   0.1s\n",
      "[CV 1/5] END ....C=100, gamma=0.01, kernel=poly;, score=0.700 total time=   0.0s\n",
      "[CV 2/5] END ....C=100, gamma=0.01, kernel=poly;, score=0.675 total time=   0.0s\n",
      "[CV 3/5] END ....C=100, gamma=0.01, kernel=poly;, score=0.705 total time=   0.0s\n",
      "[CV 4/5] END ....C=100, gamma=0.01, kernel=poly;, score=0.720 total time=   0.0s\n",
      "[CV 5/5] END ....C=100, gamma=0.01, kernel=poly;, score=0.688 total time=   0.0s\n",
      "[CV 1/5] END ....C=100, gamma=0.001, kernel=rbf;, score=0.745 total time=   0.0s\n",
      "[CV 2/5] END ....C=100, gamma=0.001, kernel=rbf;, score=0.705 total time=   0.0s\n",
      "[CV 3/5] END ....C=100, gamma=0.001, kernel=rbf;, score=0.750 total time=   0.0s\n",
      "[CV 4/5] END ....C=100, gamma=0.001, kernel=rbf;, score=0.750 total time=   0.0s\n",
      "[CV 5/5] END ....C=100, gamma=0.001, kernel=rbf;, score=0.734 total time=   0.0s\n",
      "[CV 1/5] END .C=100, gamma=0.001, kernel=linear;, score=0.610 total time=   0.3s\n",
      "[CV 2/5] END .C=100, gamma=0.001, kernel=linear;, score=0.620 total time=   0.2s\n",
      "[CV 3/5] END .C=100, gamma=0.001, kernel=linear;, score=0.625 total time=   0.2s\n",
      "[CV 4/5] END .C=100, gamma=0.001, kernel=linear;, score=0.630 total time=   0.1s\n",
      "[CV 5/5] END .C=100, gamma=0.001, kernel=linear;, score=0.608 total time=   0.1s\n",
      "[CV 1/5] END ...C=100, gamma=0.001, kernel=poly;, score=0.385 total time=   0.0s\n",
      "[CV 2/5] END ...C=100, gamma=0.001, kernel=poly;, score=0.380 total time=   0.0s\n",
      "[CV 3/5] END ...C=100, gamma=0.001, kernel=poly;, score=0.380 total time=   0.0s\n",
      "[CV 4/5] END ...C=100, gamma=0.001, kernel=poly;, score=0.380 total time=   0.0s\n",
      "[CV 5/5] END ...C=100, gamma=0.001, kernel=poly;, score=0.382 total time=   0.0s\n",
      "[CV 1/5] END ...C=100, gamma=0.0001, kernel=rbf;, score=0.725 total time=   0.0s\n",
      "[CV 2/5] END ...C=100, gamma=0.0001, kernel=rbf;, score=0.660 total time=   0.0s\n",
      "[CV 3/5] END ...C=100, gamma=0.0001, kernel=rbf;, score=0.730 total time=   0.0s\n",
      "[CV 4/5] END ...C=100, gamma=0.0001, kernel=rbf;, score=0.690 total time=   0.1s\n",
      "[CV 5/5] END ...C=100, gamma=0.0001, kernel=rbf;, score=0.683 total time=   0.1s\n",
      "[CV 1/5] END C=100, gamma=0.0001, kernel=linear;, score=0.610 total time=   0.3s\n",
      "[CV 2/5] END C=100, gamma=0.0001, kernel=linear;, score=0.620 total time=   0.1s\n",
      "[CV 3/5] END C=100, gamma=0.0001, kernel=linear;, score=0.625 total time=   0.2s\n",
      "[CV 4/5] END C=100, gamma=0.0001, kernel=linear;, score=0.630 total time=   0.1s\n",
      "[CV 5/5] END C=100, gamma=0.0001, kernel=linear;, score=0.608 total time=   0.1s\n",
      "[CV 1/5] END ..C=100, gamma=0.0001, kernel=poly;, score=0.385 total time=   0.0s\n",
      "[CV 2/5] END ..C=100, gamma=0.0001, kernel=poly;, score=0.385 total time=   0.1s\n",
      "[CV 3/5] END ..C=100, gamma=0.0001, kernel=poly;, score=0.380 total time=   0.1s\n",
      "[CV 4/5] END ..C=100, gamma=0.0001, kernel=poly;, score=0.380 total time=   0.1s\n",
      "[CV 5/5] END ..C=100, gamma=0.0001, kernel=poly;, score=0.382 total time=   0.1s\n",
      "[CV 1/5] END .......C=1000, gamma=1, kernel=rbf;, score=0.480 total time=   0.1s\n",
      "[CV 2/5] END .......C=1000, gamma=1, kernel=rbf;, score=0.430 total time=   0.1s\n",
      "[CV 3/5] END .......C=1000, gamma=1, kernel=rbf;, score=0.460 total time=   0.1s\n",
      "[CV 4/5] END .......C=1000, gamma=1, kernel=rbf;, score=0.500 total time=   0.1s\n",
      "[CV 5/5] END .......C=1000, gamma=1, kernel=rbf;, score=0.462 total time=   0.1s\n",
      "[CV 1/5] END ....C=1000, gamma=1, kernel=linear;, score=0.615 total time=   0.7s\n",
      "[CV 2/5] END ....C=1000, gamma=1, kernel=linear;, score=0.565 total time=   0.7s\n",
      "[CV 3/5] END ....C=1000, gamma=1, kernel=linear;, score=0.625 total time=   1.2s\n",
      "[CV 4/5] END ....C=1000, gamma=1, kernel=linear;, score=0.615 total time=   0.3s\n",
      "[CV 5/5] END ....C=1000, gamma=1, kernel=linear;, score=0.588 total time=   0.6s\n",
      "[CV 1/5] END ......C=1000, gamma=1, kernel=poly;, score=0.730 total time=   0.1s\n",
      "[CV 2/5] END ......C=1000, gamma=1, kernel=poly;, score=0.640 total time=   0.1s\n",
      "[CV 3/5] END ......C=1000, gamma=1, kernel=poly;, score=0.665 total time=   0.1s\n",
      "[CV 4/5] END ......C=1000, gamma=1, kernel=poly;, score=0.730 total time=   0.1s\n",
      "[CV 5/5] END ......C=1000, gamma=1, kernel=poly;, score=0.704 total time=   0.1s\n",
      "[CV 1/5] END .....C=1000, gamma=0.1, kernel=rbf;, score=0.715 total time=   0.1s\n",
      "[CV 2/5] END .....C=1000, gamma=0.1, kernel=rbf;, score=0.670 total time=   0.1s\n",
      "[CV 3/5] END .....C=1000, gamma=0.1, kernel=rbf;, score=0.690 total time=   0.1s\n",
      "[CV 4/5] END .....C=1000, gamma=0.1, kernel=rbf;, score=0.700 total time=   0.1s\n",
      "[CV 5/5] END .....C=1000, gamma=0.1, kernel=rbf;, score=0.704 total time=   0.1s\n",
      "[CV 1/5] END ..C=1000, gamma=0.1, kernel=linear;, score=0.615 total time=   0.6s\n",
      "[CV 2/5] END ..C=1000, gamma=0.1, kernel=linear;, score=0.565 total time=   0.7s\n",
      "[CV 3/5] END ..C=1000, gamma=0.1, kernel=linear;, score=0.625 total time=   1.1s\n",
      "[CV 4/5] END ..C=1000, gamma=0.1, kernel=linear;, score=0.615 total time=   0.3s\n",
      "[CV 5/5] END ..C=1000, gamma=0.1, kernel=linear;, score=0.588 total time=   0.6s\n",
      "[CV 1/5] END ....C=1000, gamma=0.1, kernel=poly;, score=0.730 total time=   0.1s\n",
      "[CV 2/5] END ....C=1000, gamma=0.1, kernel=poly;, score=0.640 total time=   0.1s\n",
      "[CV 3/5] END ....C=1000, gamma=0.1, kernel=poly;, score=0.665 total time=   0.1s\n",
      "[CV 4/5] END ....C=1000, gamma=0.1, kernel=poly;, score=0.730 total time=   0.1s\n",
      "[CV 5/5] END ....C=1000, gamma=0.1, kernel=poly;, score=0.704 total time=   0.1s\n",
      "[CV 1/5] END ....C=1000, gamma=0.01, kernel=rbf;, score=0.660 total time=   0.0s\n",
      "[CV 2/5] END ....C=1000, gamma=0.01, kernel=rbf;, score=0.620 total time=   0.0s\n",
      "[CV 3/5] END ....C=1000, gamma=0.01, kernel=rbf;, score=0.695 total time=   0.0s\n",
      "[CV 4/5] END ....C=1000, gamma=0.01, kernel=rbf;, score=0.685 total time=   0.0s\n",
      "[CV 5/5] END ....C=1000, gamma=0.01, kernel=rbf;, score=0.719 total time=   0.0s\n",
      "[CV 1/5] END .C=1000, gamma=0.01, kernel=linear;, score=0.615 total time=   0.7s\n",
      "[CV 2/5] END .C=1000, gamma=0.01, kernel=linear;, score=0.565 total time=   0.7s\n",
      "[CV 3/5] END .C=1000, gamma=0.01, kernel=linear;, score=0.625 total time=   1.2s\n",
      "[CV 4/5] END .C=1000, gamma=0.01, kernel=linear;, score=0.615 total time=   0.3s\n",
      "[CV 5/5] END .C=1000, gamma=0.01, kernel=linear;, score=0.588 total time=   0.5s\n",
      "[CV 1/5] END ...C=1000, gamma=0.01, kernel=poly;, score=0.750 total time=   0.1s\n",
      "[CV 2/5] END ...C=1000, gamma=0.01, kernel=poly;, score=0.700 total time=   0.0s\n",
      "[CV 3/5] END ...C=1000, gamma=0.01, kernel=poly;, score=0.690 total time=   0.1s\n",
      "[CV 4/5] END ...C=1000, gamma=0.01, kernel=poly;, score=0.735 total time=   0.1s\n",
      "[CV 5/5] END ...C=1000, gamma=0.01, kernel=poly;, score=0.714 total time=   0.1s\n",
      "[CV 1/5] END ...C=1000, gamma=0.001, kernel=rbf;, score=0.690 total time=   0.0s\n",
      "[CV 2/5] END ...C=1000, gamma=0.001, kernel=rbf;, score=0.670 total time=   0.0s\n",
      "[CV 3/5] END ...C=1000, gamma=0.001, kernel=rbf;, score=0.735 total time=   0.0s\n",
      "[CV 4/5] END ...C=1000, gamma=0.001, kernel=rbf;, score=0.705 total time=   0.0s\n",
      "[CV 5/5] END ...C=1000, gamma=0.001, kernel=rbf;, score=0.719 total time=   0.0s\n",
      "[CV 1/5] END C=1000, gamma=0.001, kernel=linear;, score=0.615 total time=   0.7s\n",
      "[CV 2/5] END C=1000, gamma=0.001, kernel=linear;, score=0.565 total time=   0.7s\n",
      "[CV 3/5] END C=1000, gamma=0.001, kernel=linear;, score=0.625 total time=   1.2s\n",
      "[CV 4/5] END C=1000, gamma=0.001, kernel=linear;, score=0.615 total time=   0.5s\n",
      "[CV 5/5] END C=1000, gamma=0.001, kernel=linear;, score=0.588 total time=   0.5s\n",
      "[CV 1/5] END ..C=1000, gamma=0.001, kernel=poly;, score=0.385 total time=   0.1s\n",
      "[CV 2/5] END ..C=1000, gamma=0.001, kernel=poly;, score=0.380 total time=   0.0s\n",
      "[CV 3/5] END ..C=1000, gamma=0.001, kernel=poly;, score=0.380 total time=   0.1s\n",
      "[CV 4/5] END ..C=1000, gamma=0.001, kernel=poly;, score=0.380 total time=   0.0s\n",
      "[CV 5/5] END ..C=1000, gamma=0.001, kernel=poly;, score=0.382 total time=   0.1s\n",
      "[CV 1/5] END ..C=1000, gamma=0.0001, kernel=rbf;, score=0.745 total time=   0.0s\n",
      "[CV 2/5] END ..C=1000, gamma=0.0001, kernel=rbf;, score=0.690 total time=   0.0s\n",
      "[CV 3/5] END ..C=1000, gamma=0.0001, kernel=rbf;, score=0.760 total time=   0.0s\n",
      "[CV 4/5] END ..C=1000, gamma=0.0001, kernel=rbf;, score=0.745 total time=   0.0s\n",
      "[CV 5/5] END ..C=1000, gamma=0.0001, kernel=rbf;, score=0.724 total time=   0.0s\n",
      "[CV 1/5] END C=1000, gamma=0.0001, kernel=linear;, score=0.615 total time=   0.7s\n",
      "[CV 2/5] END C=1000, gamma=0.0001, kernel=linear;, score=0.565 total time=   0.7s\n",
      "[CV 3/5] END C=1000, gamma=0.0001, kernel=linear;, score=0.625 total time=   1.2s\n",
      "[CV 4/5] END C=1000, gamma=0.0001, kernel=linear;, score=0.615 total time=   0.3s\n",
      "[CV 5/5] END C=1000, gamma=0.0001, kernel=linear;, score=0.588 total time=   0.6s\n",
      "[CV 1/5] END .C=1000, gamma=0.0001, kernel=poly;, score=0.385 total time=   0.0s\n",
      "[CV 2/5] END .C=1000, gamma=0.0001, kernel=poly;, score=0.385 total time=   0.0s\n",
      "[CV 3/5] END .C=1000, gamma=0.0001, kernel=poly;, score=0.380 total time=   0.0s\n",
      "[CV 4/5] END .C=1000, gamma=0.0001, kernel=poly;, score=0.380 total time=   0.0s\n",
      "[CV 5/5] END .C=1000, gamma=0.0001, kernel=poly;, score=0.382 total time=   0.0s\n",
      "Fitting 5 folds for each of 75 candidates, totalling 375 fits\n",
      "[CV 1/5] END ........C=0.1, gamma=1, kernel=rbf;, score=0.924 total time=   0.0s\n",
      "[CV 2/5] END ........C=0.1, gamma=1, kernel=rbf;, score=0.904 total time=   0.0s\n",
      "[CV 3/5] END ........C=0.1, gamma=1, kernel=rbf;, score=0.928 total time=   0.0s\n",
      "[CV 4/5] END ........C=0.1, gamma=1, kernel=rbf;, score=0.933 total time=   0.1s\n",
      "[CV 5/5] END ........C=0.1, gamma=1, kernel=rbf;, score=0.928 total time=   0.1s\n",
      "[CV 1/5] END .....C=0.1, gamma=1, kernel=linear;, score=0.963 total time=   0.0s\n",
      "[CV 2/5] END .....C=0.1, gamma=1, kernel=linear;, score=0.921 total time=   0.0s\n",
      "[CV 3/5] END .....C=0.1, gamma=1, kernel=linear;, score=0.962 total time=   0.0s\n",
      "[CV 4/5] END .....C=0.1, gamma=1, kernel=linear;, score=0.950 total time=   0.0s\n",
      "[CV 5/5] END .....C=0.1, gamma=1, kernel=linear;, score=0.962 total time=   0.0s\n",
      "[CV 1/5] END .......C=0.1, gamma=1, kernel=poly;, score=0.940 total time=   0.1s\n",
      "[CV 2/5] END .......C=0.1, gamma=1, kernel=poly;, score=0.890 total time=   0.0s\n",
      "[CV 3/5] END .......C=0.1, gamma=1, kernel=poly;, score=0.921 total time=   0.0s\n",
      "[CV 4/5] END .......C=0.1, gamma=1, kernel=poly;, score=0.951 total time=   0.0s\n",
      "[CV 5/5] END .......C=0.1, gamma=1, kernel=poly;, score=0.944 total time=   0.0s\n",
      "[CV 1/5] END ......C=0.1, gamma=0.1, kernel=rbf;, score=0.949 total time=   0.0s\n",
      "[CV 2/5] END ......C=0.1, gamma=0.1, kernel=rbf;, score=0.940 total time=   0.0s\n",
      "[CV 3/5] END ......C=0.1, gamma=0.1, kernel=rbf;, score=0.965 total time=   0.0s\n",
      "[CV 4/5] END ......C=0.1, gamma=0.1, kernel=rbf;, score=0.933 total time=   0.0s\n",
      "[CV 5/5] END ......C=0.1, gamma=0.1, kernel=rbf;, score=0.965 total time=   0.0s\n",
      "[CV 1/5] END ...C=0.1, gamma=0.1, kernel=linear;, score=0.963 total time=   0.0s\n",
      "[CV 2/5] END ...C=0.1, gamma=0.1, kernel=linear;, score=0.921 total time=   0.0s\n",
      "[CV 3/5] END ...C=0.1, gamma=0.1, kernel=linear;, score=0.962 total time=   0.0s\n",
      "[CV 4/5] END ...C=0.1, gamma=0.1, kernel=linear;, score=0.950 total time=   0.0s\n",
      "[CV 5/5] END ...C=0.1, gamma=0.1, kernel=linear;, score=0.962 total time=   0.0s\n",
      "[CV 1/5] END .....C=0.1, gamma=0.1, kernel=poly;, score=0.936 total time=   0.0s\n",
      "[CV 2/5] END .....C=0.1, gamma=0.1, kernel=poly;, score=0.898 total time=   0.0s\n",
      "[CV 3/5] END .....C=0.1, gamma=0.1, kernel=poly;, score=0.948 total time=   0.0s\n",
      "[CV 4/5] END .....C=0.1, gamma=0.1, kernel=poly;, score=0.958 total time=   0.0s\n",
      "[CV 5/5] END .....C=0.1, gamma=0.1, kernel=poly;, score=0.932 total time=   0.0s\n",
      "[CV 1/5] END .....C=0.1, gamma=0.01, kernel=rbf;, score=0.952 total time=   0.0s\n",
      "[CV 2/5] END .....C=0.1, gamma=0.01, kernel=rbf;, score=0.945 total time=   0.0s\n",
      "[CV 3/5] END .....C=0.1, gamma=0.01, kernel=rbf;, score=0.970 total time=   0.0s\n",
      "[CV 4/5] END .....C=0.1, gamma=0.01, kernel=rbf;, score=0.957 total time=   0.1s\n",
      "[CV 5/5] END .....C=0.1, gamma=0.01, kernel=rbf;, score=0.957 total time=   0.1s\n",
      "[CV 1/5] END ..C=0.1, gamma=0.01, kernel=linear;, score=0.963 total time=   0.0s\n",
      "[CV 2/5] END ..C=0.1, gamma=0.01, kernel=linear;, score=0.921 total time=   0.1s\n",
      "[CV 3/5] END ..C=0.1, gamma=0.01, kernel=linear;, score=0.962 total time=   0.0s\n",
      "[CV 4/5] END ..C=0.1, gamma=0.01, kernel=linear;, score=0.950 total time=   0.0s\n",
      "[CV 5/5] END ..C=0.1, gamma=0.01, kernel=linear;, score=0.962 total time=   0.0s\n",
      "[CV 1/5] END ....C=0.1, gamma=0.01, kernel=poly;, score=0.944 total time=   0.0s\n",
      "[CV 2/5] END ....C=0.1, gamma=0.01, kernel=poly;, score=0.902 total time=   0.0s\n",
      "[CV 3/5] END ....C=0.1, gamma=0.01, kernel=poly;, score=0.942 total time=   0.0s\n",
      "[CV 4/5] END ....C=0.1, gamma=0.01, kernel=poly;, score=0.958 total time=   0.0s\n",
      "[CV 5/5] END ....C=0.1, gamma=0.01, kernel=poly;, score=0.935 total time=   0.0s\n",
      "[CV 1/5] END ....C=0.1, gamma=0.001, kernel=rbf;, score=0.952 total time=   0.0s\n",
      "[CV 2/5] END ....C=0.1, gamma=0.001, kernel=rbf;, score=0.946 total time=   0.0s\n",
      "[CV 3/5] END ....C=0.1, gamma=0.001, kernel=rbf;, score=0.966 total time=   0.0s\n",
      "[CV 4/5] END ....C=0.1, gamma=0.001, kernel=rbf;, score=0.956 total time=   0.0s\n",
      "[CV 5/5] END ....C=0.1, gamma=0.001, kernel=rbf;, score=0.953 total time=   0.0s\n",
      "[CV 1/5] END .C=0.1, gamma=0.001, kernel=linear;, score=0.963 total time=   0.0s\n",
      "[CV 2/5] END .C=0.1, gamma=0.001, kernel=linear;, score=0.921 total time=   0.0s\n",
      "[CV 3/5] END .C=0.1, gamma=0.001, kernel=linear;, score=0.962 total time=   0.0s\n",
      "[CV 4/5] END .C=0.1, gamma=0.001, kernel=linear;, score=0.950 total time=   0.0s\n",
      "[CV 5/5] END .C=0.1, gamma=0.001, kernel=linear;, score=0.962 total time=   0.0s\n",
      "[CV 1/5] END ...C=0.1, gamma=0.001, kernel=poly;, score=0.943 total time=   0.0s\n",
      "[CV 2/5] END ...C=0.1, gamma=0.001, kernel=poly;, score=0.900 total time=   0.0s\n",
      "[CV 3/5] END ...C=0.1, gamma=0.001, kernel=poly;, score=0.941 total time=   0.0s\n",
      "[CV 4/5] END ...C=0.1, gamma=0.001, kernel=poly;, score=0.950 total time=   0.0s\n",
      "[CV 5/5] END ...C=0.1, gamma=0.001, kernel=poly;, score=0.932 total time=   0.0s\n",
      "[CV 1/5] END ...C=0.1, gamma=0.0001, kernel=rbf;, score=0.952 total time=   0.0s\n",
      "[CV 2/5] END ...C=0.1, gamma=0.0001, kernel=rbf;, score=0.946 total time=   0.1s\n",
      "[CV 3/5] END ...C=0.1, gamma=0.0001, kernel=rbf;, score=0.965 total time=   0.1s\n",
      "[CV 4/5] END ...C=0.1, gamma=0.0001, kernel=rbf;, score=0.956 total time=   0.1s\n",
      "[CV 5/5] END ...C=0.1, gamma=0.0001, kernel=rbf;, score=0.954 total time=   0.0s\n",
      "[CV 1/5] END C=0.1, gamma=0.0001, kernel=linear;, score=0.963 total time=   0.0s\n",
      "[CV 2/5] END C=0.1, gamma=0.0001, kernel=linear;, score=0.921 total time=   0.0s\n",
      "[CV 3/5] END C=0.1, gamma=0.0001, kernel=linear;, score=0.962 total time=   0.0s\n",
      "[CV 4/5] END C=0.1, gamma=0.0001, kernel=linear;, score=0.950 total time=   0.0s\n",
      "[CV 5/5] END C=0.1, gamma=0.0001, kernel=linear;, score=0.962 total time=   0.0s\n",
      "[CV 1/5] END ..C=0.1, gamma=0.0001, kernel=poly;, score=0.943 total time=   0.0s\n",
      "[CV 2/5] END ..C=0.1, gamma=0.0001, kernel=poly;, score=0.900 total time=   0.0s\n",
      "[CV 3/5] END ..C=0.1, gamma=0.0001, kernel=poly;, score=0.941 total time=   0.0s\n",
      "[CV 4/5] END ..C=0.1, gamma=0.0001, kernel=poly;, score=0.950 total time=   0.0s\n",
      "[CV 5/5] END ..C=0.1, gamma=0.0001, kernel=poly;, score=0.932 total time=   0.0s\n",
      "[CV 1/5] END ..........C=1, gamma=1, kernel=rbf;, score=0.922 total time=   0.0s\n",
      "[CV 2/5] END ..........C=1, gamma=1, kernel=rbf;, score=0.904 total time=   0.0s\n",
      "[CV 3/5] END ..........C=1, gamma=1, kernel=rbf;, score=0.928 total time=   0.0s\n",
      "[CV 4/5] END ..........C=1, gamma=1, kernel=rbf;, score=0.933 total time=   0.0s\n",
      "[CV 5/5] END ..........C=1, gamma=1, kernel=rbf;, score=0.928 total time=   0.0s\n",
      "[CV 1/5] END .......C=1, gamma=1, kernel=linear;, score=0.953 total time=   0.0s\n",
      "[CV 2/5] END .......C=1, gamma=1, kernel=linear;, score=0.918 total time=   0.0s\n",
      "[CV 3/5] END .......C=1, gamma=1, kernel=linear;, score=0.961 total time=   0.0s\n",
      "[CV 4/5] END .......C=1, gamma=1, kernel=linear;, score=0.949 total time=   0.0s\n",
      "[CV 5/5] END .......C=1, gamma=1, kernel=linear;, score=0.959 total time=   0.0s\n",
      "[CV 1/5] END .........C=1, gamma=1, kernel=poly;, score=0.940 total time=   0.1s\n",
      "[CV 2/5] END .........C=1, gamma=1, kernel=poly;, score=0.890 total time=   0.0s\n",
      "[CV 3/5] END .........C=1, gamma=1, kernel=poly;, score=0.921 total time=   0.1s\n",
      "[CV 4/5] END .........C=1, gamma=1, kernel=poly;, score=0.951 total time=   0.1s\n",
      "[CV 5/5] END .........C=1, gamma=1, kernel=poly;, score=0.944 total time=   0.0s\n",
      "[CV 1/5] END ........C=1, gamma=0.1, kernel=rbf;, score=0.956 total time=   0.0s\n",
      "[CV 2/5] END ........C=1, gamma=0.1, kernel=rbf;, score=0.930 total time=   0.0s\n",
      "[CV 3/5] END ........C=1, gamma=0.1, kernel=rbf;, score=0.966 total time=   0.0s\n",
      "[CV 4/5] END ........C=1, gamma=0.1, kernel=rbf;, score=0.931 total time=   0.0s\n",
      "[CV 5/5] END ........C=1, gamma=0.1, kernel=rbf;, score=0.963 total time=   0.0s\n",
      "[CV 1/5] END .....C=1, gamma=0.1, kernel=linear;, score=0.953 total time=   0.0s\n",
      "[CV 2/5] END .....C=1, gamma=0.1, kernel=linear;, score=0.918 total time=   0.0s\n",
      "[CV 3/5] END .....C=1, gamma=0.1, kernel=linear;, score=0.961 total time=   0.0s\n",
      "[CV 4/5] END .....C=1, gamma=0.1, kernel=linear;, score=0.949 total time=   0.0s\n",
      "[CV 5/5] END .....C=1, gamma=0.1, kernel=linear;, score=0.959 total time=   0.0s\n",
      "[CV 1/5] END .......C=1, gamma=0.1, kernel=poly;, score=0.943 total time=   0.0s\n",
      "[CV 2/5] END .......C=1, gamma=0.1, kernel=poly;, score=0.892 total time=   0.0s\n",
      "[CV 3/5] END .......C=1, gamma=0.1, kernel=poly;, score=0.926 total time=   0.0s\n",
      "[CV 4/5] END .......C=1, gamma=0.1, kernel=poly;, score=0.943 total time=   0.0s\n",
      "[CV 5/5] END .......C=1, gamma=0.1, kernel=poly;, score=0.938 total time=   0.0s\n",
      "[CV 1/5] END .......C=1, gamma=0.01, kernel=rbf;, score=0.955 total time=   0.0s\n",
      "[CV 2/5] END .......C=1, gamma=0.01, kernel=rbf;, score=0.936 total time=   0.0s\n",
      "[CV 3/5] END .......C=1, gamma=0.01, kernel=rbf;, score=0.972 total time=   0.0s\n",
      "[CV 4/5] END .......C=1, gamma=0.01, kernel=rbf;, score=0.933 total time=   0.0s\n",
      "[CV 5/5] END .......C=1, gamma=0.01, kernel=rbf;, score=0.967 total time=   0.0s\n",
      "[CV 1/5] END ....C=1, gamma=0.01, kernel=linear;, score=0.953 total time=   0.0s\n",
      "[CV 2/5] END ....C=1, gamma=0.01, kernel=linear;, score=0.918 total time=   0.0s\n",
      "[CV 3/5] END ....C=1, gamma=0.01, kernel=linear;, score=0.961 total time=   0.0s\n",
      "[CV 4/5] END ....C=1, gamma=0.01, kernel=linear;, score=0.949 total time=   0.0s\n",
      "[CV 5/5] END ....C=1, gamma=0.01, kernel=linear;, score=0.959 total time=   0.0s\n",
      "[CV 1/5] END ......C=1, gamma=0.01, kernel=poly;, score=0.943 total time=   0.1s\n",
      "[CV 2/5] END ......C=1, gamma=0.01, kernel=poly;, score=0.901 total time=   0.0s\n",
      "[CV 3/5] END ......C=1, gamma=0.01, kernel=poly;, score=0.941 total time=   0.1s\n",
      "[CV 4/5] END ......C=1, gamma=0.01, kernel=poly;, score=0.958 total time=   0.0s\n",
      "[CV 5/5] END ......C=1, gamma=0.01, kernel=poly;, score=0.935 total time=   0.1s\n",
      "[CV 1/5] END ......C=1, gamma=0.001, kernel=rbf;, score=0.953 total time=   0.0s\n",
      "[CV 2/5] END ......C=1, gamma=0.001, kernel=rbf;, score=0.947 total time=   0.0s\n",
      "[CV 3/5] END ......C=1, gamma=0.001, kernel=rbf;, score=0.968 total time=   0.0s\n",
      "[CV 4/5] END ......C=1, gamma=0.001, kernel=rbf;, score=0.958 total time=   0.0s\n",
      "[CV 5/5] END ......C=1, gamma=0.001, kernel=rbf;, score=0.959 total time=   0.0s\n",
      "[CV 1/5] END ...C=1, gamma=0.001, kernel=linear;, score=0.953 total time=   0.0s\n",
      "[CV 2/5] END ...C=1, gamma=0.001, kernel=linear;, score=0.918 total time=   0.0s\n",
      "[CV 3/5] END ...C=1, gamma=0.001, kernel=linear;, score=0.961 total time=   0.0s\n",
      "[CV 4/5] END ...C=1, gamma=0.001, kernel=linear;, score=0.949 total time=   0.0s\n",
      "[CV 5/5] END ...C=1, gamma=0.001, kernel=linear;, score=0.959 total time=   0.0s\n",
      "[CV 1/5] END .....C=1, gamma=0.001, kernel=poly;, score=0.943 total time=   0.0s\n",
      "[CV 2/5] END .....C=1, gamma=0.001, kernel=poly;, score=0.900 total time=   0.0s\n",
      "[CV 3/5] END .....C=1, gamma=0.001, kernel=poly;, score=0.941 total time=   0.0s\n",
      "[CV 4/5] END .....C=1, gamma=0.001, kernel=poly;, score=0.950 total time=   0.0s\n",
      "[CV 5/5] END .....C=1, gamma=0.001, kernel=poly;, score=0.932 total time=   0.0s\n",
      "[CV 1/5] END .....C=1, gamma=0.0001, kernel=rbf;, score=0.952 total time=   0.0s\n",
      "[CV 2/5] END .....C=1, gamma=0.0001, kernel=rbf;, score=0.946 total time=   0.0s\n",
      "[CV 3/5] END .....C=1, gamma=0.0001, kernel=rbf;, score=0.966 total time=   0.0s\n",
      "[CV 4/5] END .....C=1, gamma=0.0001, kernel=rbf;, score=0.956 total time=   0.0s\n",
      "[CV 5/5] END .....C=1, gamma=0.0001, kernel=rbf;, score=0.953 total time=   0.0s\n",
      "[CV 1/5] END ..C=1, gamma=0.0001, kernel=linear;, score=0.953 total time=   0.0s\n",
      "[CV 2/5] END ..C=1, gamma=0.0001, kernel=linear;, score=0.918 total time=   0.0s\n",
      "[CV 3/5] END ..C=1, gamma=0.0001, kernel=linear;, score=0.961 total time=   0.0s\n",
      "[CV 4/5] END ..C=1, gamma=0.0001, kernel=linear;, score=0.949 total time=   0.0s\n",
      "[CV 5/5] END ..C=1, gamma=0.0001, kernel=linear;, score=0.959 total time=   0.0s\n",
      "[CV 1/5] END ....C=1, gamma=0.0001, kernel=poly;, score=0.943 total time=   0.1s\n",
      "[CV 2/5] END ....C=1, gamma=0.0001, kernel=poly;, score=0.900 total time=   0.1s\n",
      "[CV 3/5] END ....C=1, gamma=0.0001, kernel=poly;, score=0.941 total time=   0.1s\n",
      "[CV 4/5] END ....C=1, gamma=0.0001, kernel=poly;, score=0.950 total time=   0.0s\n",
      "[CV 5/5] END ....C=1, gamma=0.0001, kernel=poly;, score=0.932 total time=   0.0s\n",
      "[CV 1/5] END .........C=10, gamma=1, kernel=rbf;, score=0.921 total time=   0.0s\n",
      "[CV 2/5] END .........C=10, gamma=1, kernel=rbf;, score=0.904 total time=   0.0s\n",
      "[CV 3/5] END .........C=10, gamma=1, kernel=rbf;, score=0.928 total time=   0.0s\n",
      "[CV 4/5] END .........C=10, gamma=1, kernel=rbf;, score=0.933 total time=   0.0s\n",
      "[CV 5/5] END .........C=10, gamma=1, kernel=rbf;, score=0.928 total time=   0.0s\n",
      "[CV 1/5] END ......C=10, gamma=1, kernel=linear;, score=0.932 total time=   0.0s\n",
      "[CV 2/5] END ......C=10, gamma=1, kernel=linear;, score=0.895 total time=   0.0s\n",
      "[CV 3/5] END ......C=10, gamma=1, kernel=linear;, score=0.950 total time=   0.0s\n",
      "[CV 4/5] END ......C=10, gamma=1, kernel=linear;, score=0.948 total time=   0.0s\n",
      "[CV 5/5] END ......C=10, gamma=1, kernel=linear;, score=0.956 total time=   0.0s\n",
      "[CV 1/5] END ........C=10, gamma=1, kernel=poly;, score=0.940 total time=   0.0s\n",
      "[CV 2/5] END ........C=10, gamma=1, kernel=poly;, score=0.890 total time=   0.0s\n",
      "[CV 3/5] END ........C=10, gamma=1, kernel=poly;, score=0.921 total time=   0.0s\n",
      "[CV 4/5] END ........C=10, gamma=1, kernel=poly;, score=0.951 total time=   0.0s\n",
      "[CV 5/5] END ........C=10, gamma=1, kernel=poly;, score=0.944 total time=   0.0s\n",
      "[CV 1/5] END .......C=10, gamma=0.1, kernel=rbf;, score=0.958 total time=   0.0s\n",
      "[CV 2/5] END .......C=10, gamma=0.1, kernel=rbf;, score=0.925 total time=   0.0s\n",
      "[CV 3/5] END .......C=10, gamma=0.1, kernel=rbf;, score=0.958 total time=   0.0s\n",
      "[CV 4/5] END .......C=10, gamma=0.1, kernel=rbf;, score=0.938 total time=   0.0s\n",
      "[CV 5/5] END .......C=10, gamma=0.1, kernel=rbf;, score=0.965 total time=   0.0s\n",
      "[CV 1/5] END ....C=10, gamma=0.1, kernel=linear;, score=0.932 total time=   0.0s\n",
      "[CV 2/5] END ....C=10, gamma=0.1, kernel=linear;, score=0.895 total time=   0.0s\n",
      "[CV 3/5] END ....C=10, gamma=0.1, kernel=linear;, score=0.950 total time=   0.0s\n",
      "[CV 4/5] END ....C=10, gamma=0.1, kernel=linear;, score=0.948 total time=   0.0s\n",
      "[CV 5/5] END ....C=10, gamma=0.1, kernel=linear;, score=0.956 total time=   0.0s\n",
      "[CV 1/5] END ......C=10, gamma=0.1, kernel=poly;, score=0.940 total time=   0.0s\n",
      "[CV 2/5] END ......C=10, gamma=0.1, kernel=poly;, score=0.890 total time=   0.0s\n",
      "[CV 3/5] END ......C=10, gamma=0.1, kernel=poly;, score=0.921 total time=   0.0s\n",
      "[CV 4/5] END ......C=10, gamma=0.1, kernel=poly;, score=0.951 total time=   0.0s\n",
      "[CV 5/5] END ......C=10, gamma=0.1, kernel=poly;, score=0.944 total time=   0.0s\n",
      "[CV 1/5] END ......C=10, gamma=0.01, kernel=rbf;, score=0.959 total time=   0.0s\n",
      "[CV 2/5] END ......C=10, gamma=0.01, kernel=rbf;, score=0.930 total time=   0.0s\n",
      "[CV 3/5] END ......C=10, gamma=0.01, kernel=rbf;, score=0.967 total time=   0.0s\n",
      "[CV 4/5] END ......C=10, gamma=0.01, kernel=rbf;, score=0.949 total time=   0.0s\n",
      "[CV 5/5] END ......C=10, gamma=0.01, kernel=rbf;, score=0.963 total time=   0.0s\n",
      "[CV 1/5] END ...C=10, gamma=0.01, kernel=linear;, score=0.932 total time=   0.0s\n",
      "[CV 2/5] END ...C=10, gamma=0.01, kernel=linear;, score=0.895 total time=   0.0s\n",
      "[CV 3/5] END ...C=10, gamma=0.01, kernel=linear;, score=0.950 total time=   0.0s\n",
      "[CV 4/5] END ...C=10, gamma=0.01, kernel=linear;, score=0.948 total time=   0.0s\n",
      "[CV 5/5] END ...C=10, gamma=0.01, kernel=linear;, score=0.956 total time=   0.0s\n",
      "[CV 1/5] END .....C=10, gamma=0.01, kernel=poly;, score=0.943 total time=   0.0s\n",
      "[CV 2/5] END .....C=10, gamma=0.01, kernel=poly;, score=0.901 total time=   0.0s\n",
      "[CV 3/5] END .....C=10, gamma=0.01, kernel=poly;, score=0.941 total time=   0.0s\n",
      "[CV 4/5] END .....C=10, gamma=0.01, kernel=poly;, score=0.958 total time=   0.0s\n",
      "[CV 5/5] END .....C=10, gamma=0.01, kernel=poly;, score=0.935 total time=   0.0s\n",
      "[CV 1/5] END .....C=10, gamma=0.001, kernel=rbf;, score=0.961 total time=   0.0s\n",
      "[CV 2/5] END .....C=10, gamma=0.001, kernel=rbf;, score=0.931 total time=   0.0s\n",
      "[CV 3/5] END .....C=10, gamma=0.001, kernel=rbf;, score=0.975 total time=   0.0s\n",
      "[CV 4/5] END .....C=10, gamma=0.001, kernel=rbf;, score=0.946 total time=   0.0s\n",
      "[CV 5/5] END .....C=10, gamma=0.001, kernel=rbf;, score=0.969 total time=   0.0s\n",
      "[CV 1/5] END ..C=10, gamma=0.001, kernel=linear;, score=0.932 total time=   0.0s\n",
      "[CV 2/5] END ..C=10, gamma=0.001, kernel=linear;, score=0.895 total time=   0.0s\n",
      "[CV 3/5] END ..C=10, gamma=0.001, kernel=linear;, score=0.950 total time=   0.0s\n",
      "[CV 4/5] END ..C=10, gamma=0.001, kernel=linear;, score=0.948 total time=   0.0s\n",
      "[CV 5/5] END ..C=10, gamma=0.001, kernel=linear;, score=0.956 total time=   0.0s\n",
      "[CV 1/5] END ....C=10, gamma=0.001, kernel=poly;, score=0.942 total time=   0.0s\n",
      "[CV 2/5] END ....C=10, gamma=0.001, kernel=poly;, score=0.904 total time=   0.0s\n",
      "[CV 3/5] END ....C=10, gamma=0.001, kernel=poly;, score=0.939 total time=   0.0s\n",
      "[CV 4/5] END ....C=10, gamma=0.001, kernel=poly;, score=0.953 total time=   0.0s\n",
      "[CV 5/5] END ....C=10, gamma=0.001, kernel=poly;, score=0.933 total time=   0.0s\n",
      "[CV 1/5] END ....C=10, gamma=0.0001, kernel=rbf;, score=0.952 total time=   0.0s\n",
      "[CV 2/5] END ....C=10, gamma=0.0001, kernel=rbf;, score=0.946 total time=   0.0s\n",
      "[CV 3/5] END ....C=10, gamma=0.0001, kernel=rbf;, score=0.967 total time=   0.0s\n",
      "[CV 4/5] END ....C=10, gamma=0.0001, kernel=rbf;, score=0.959 total time=   0.0s\n",
      "[CV 5/5] END ....C=10, gamma=0.0001, kernel=rbf;, score=0.959 total time=   0.0s\n",
      "[CV 1/5] END .C=10, gamma=0.0001, kernel=linear;, score=0.932 total time=   0.0s\n",
      "[CV 2/5] END .C=10, gamma=0.0001, kernel=linear;, score=0.895 total time=   0.0s\n",
      "[CV 3/5] END .C=10, gamma=0.0001, kernel=linear;, score=0.950 total time=   0.1s\n",
      "[CV 4/5] END .C=10, gamma=0.0001, kernel=linear;, score=0.948 total time=   0.0s\n",
      "[CV 5/5] END .C=10, gamma=0.0001, kernel=linear;, score=0.956 total time=   0.0s\n",
      "[CV 1/5] END ...C=10, gamma=0.0001, kernel=poly;, score=0.943 total time=   0.0s\n",
      "[CV 2/5] END ...C=10, gamma=0.0001, kernel=poly;, score=0.900 total time=   0.0s\n",
      "[CV 3/5] END ...C=10, gamma=0.0001, kernel=poly;, score=0.941 total time=   0.0s\n",
      "[CV 4/5] END ...C=10, gamma=0.0001, kernel=poly;, score=0.950 total time=   0.0s\n",
      "[CV 5/5] END ...C=10, gamma=0.0001, kernel=poly;, score=0.932 total time=   0.0s\n",
      "[CV 1/5] END ........C=100, gamma=1, kernel=rbf;, score=0.921 total time=   0.0s\n",
      "[CV 2/5] END ........C=100, gamma=1, kernel=rbf;, score=0.904 total time=   0.0s\n",
      "[CV 3/5] END ........C=100, gamma=1, kernel=rbf;, score=0.928 total time=   0.0s\n",
      "[CV 4/5] END ........C=100, gamma=1, kernel=rbf;, score=0.933 total time=   0.0s\n",
      "[CV 5/5] END ........C=100, gamma=1, kernel=rbf;, score=0.928 total time=   0.0s\n",
      "[CV 1/5] END .....C=100, gamma=1, kernel=linear;, score=0.900 total time=   0.1s\n",
      "[CV 2/5] END .....C=100, gamma=1, kernel=linear;, score=0.880 total time=   0.0s\n",
      "[CV 3/5] END .....C=100, gamma=1, kernel=linear;, score=0.939 total time=   0.1s\n",
      "[CV 4/5] END .....C=100, gamma=1, kernel=linear;, score=0.944 total time=   0.1s\n",
      "[CV 5/5] END .....C=100, gamma=1, kernel=linear;, score=0.948 total time=   0.1s\n",
      "[CV 1/5] END .......C=100, gamma=1, kernel=poly;, score=0.940 total time=   0.1s\n",
      "[CV 2/5] END .......C=100, gamma=1, kernel=poly;, score=0.890 total time=   0.0s\n",
      "[CV 3/5] END .......C=100, gamma=1, kernel=poly;, score=0.921 total time=   0.0s\n",
      "[CV 4/5] END .......C=100, gamma=1, kernel=poly;, score=0.951 total time=   0.1s\n",
      "[CV 5/5] END .......C=100, gamma=1, kernel=poly;, score=0.944 total time=   0.0s\n",
      "[CV 1/5] END ......C=100, gamma=0.1, kernel=rbf;, score=0.958 total time=   0.0s\n",
      "[CV 2/5] END ......C=100, gamma=0.1, kernel=rbf;, score=0.925 total time=   0.0s\n",
      "[CV 3/5] END ......C=100, gamma=0.1, kernel=rbf;, score=0.958 total time=   0.0s\n",
      "[CV 4/5] END ......C=100, gamma=0.1, kernel=rbf;, score=0.938 total time=   0.0s\n",
      "[CV 5/5] END ......C=100, gamma=0.1, kernel=rbf;, score=0.965 total time=   0.0s\n",
      "[CV 1/5] END ...C=100, gamma=0.1, kernel=linear;, score=0.900 total time=   0.1s\n",
      "[CV 2/5] END ...C=100, gamma=0.1, kernel=linear;, score=0.880 total time=   0.0s\n",
      "[CV 3/5] END ...C=100, gamma=0.1, kernel=linear;, score=0.939 total time=   0.1s\n",
      "[CV 4/5] END ...C=100, gamma=0.1, kernel=linear;, score=0.944 total time=   0.1s\n",
      "[CV 5/5] END ...C=100, gamma=0.1, kernel=linear;, score=0.948 total time=   0.0s\n",
      "[CV 1/5] END .....C=100, gamma=0.1, kernel=poly;, score=0.940 total time=   0.0s\n",
      "[CV 2/5] END .....C=100, gamma=0.1, kernel=poly;, score=0.890 total time=   0.0s\n",
      "[CV 3/5] END .....C=100, gamma=0.1, kernel=poly;, score=0.921 total time=   0.0s\n",
      "[CV 4/5] END .....C=100, gamma=0.1, kernel=poly;, score=0.951 total time=   0.0s\n",
      "[CV 5/5] END .....C=100, gamma=0.1, kernel=poly;, score=0.944 total time=   0.0s\n",
      "[CV 1/5] END .....C=100, gamma=0.01, kernel=rbf;, score=0.952 total time=   0.1s\n",
      "[CV 2/5] END .....C=100, gamma=0.01, kernel=rbf;, score=0.913 total time=   0.0s\n",
      "[CV 3/5] END .....C=100, gamma=0.01, kernel=rbf;, score=0.969 total time=   0.0s\n",
      "[CV 4/5] END .....C=100, gamma=0.01, kernel=rbf;, score=0.945 total time=   0.0s\n",
      "[CV 5/5] END .....C=100, gamma=0.01, kernel=rbf;, score=0.964 total time=   0.0s\n",
      "[CV 1/5] END ..C=100, gamma=0.01, kernel=linear;, score=0.900 total time=   0.1s\n",
      "[CV 2/5] END ..C=100, gamma=0.01, kernel=linear;, score=0.880 total time=   0.0s\n",
      "[CV 3/5] END ..C=100, gamma=0.01, kernel=linear;, score=0.939 total time=   0.1s\n",
      "[CV 4/5] END ..C=100, gamma=0.01, kernel=linear;, score=0.944 total time=   0.1s\n",
      "[CV 5/5] END ..C=100, gamma=0.01, kernel=linear;, score=0.948 total time=   0.0s\n",
      "[CV 1/5] END ....C=100, gamma=0.01, kernel=poly;, score=0.936 total time=   0.0s\n",
      "[CV 2/5] END ....C=100, gamma=0.01, kernel=poly;, score=0.898 total time=   0.0s\n",
      "[CV 3/5] END ....C=100, gamma=0.01, kernel=poly;, score=0.948 total time=   0.0s\n",
      "[CV 4/5] END ....C=100, gamma=0.01, kernel=poly;, score=0.958 total time=   0.0s\n",
      "[CV 5/5] END ....C=100, gamma=0.01, kernel=poly;, score=0.932 total time=   0.0s\n",
      "[CV 1/5] END ....C=100, gamma=0.001, kernel=rbf;, score=0.963 total time=   0.0s\n",
      "[CV 2/5] END ....C=100, gamma=0.001, kernel=rbf;, score=0.927 total time=   0.0s\n",
      "[CV 3/5] END ....C=100, gamma=0.001, kernel=rbf;, score=0.960 total time=   0.0s\n",
      "[CV 4/5] END ....C=100, gamma=0.001, kernel=rbf;, score=0.956 total time=   0.0s\n",
      "[CV 5/5] END ....C=100, gamma=0.001, kernel=rbf;, score=0.964 total time=   0.0s\n",
      "[CV 1/5] END .C=100, gamma=0.001, kernel=linear;, score=0.900 total time=   0.1s\n",
      "[CV 2/5] END .C=100, gamma=0.001, kernel=linear;, score=0.880 total time=   0.1s\n",
      "[CV 3/5] END .C=100, gamma=0.001, kernel=linear;, score=0.939 total time=   0.1s\n",
      "[CV 4/5] END .C=100, gamma=0.001, kernel=linear;, score=0.944 total time=   0.1s\n",
      "[CV 5/5] END .C=100, gamma=0.001, kernel=linear;, score=0.948 total time=   0.0s\n",
      "[CV 1/5] END ...C=100, gamma=0.001, kernel=poly;, score=0.944 total time=   0.0s\n",
      "[CV 2/5] END ...C=100, gamma=0.001, kernel=poly;, score=0.902 total time=   0.0s\n",
      "[CV 3/5] END ...C=100, gamma=0.001, kernel=poly;, score=0.942 total time=   0.0s\n",
      "[CV 4/5] END ...C=100, gamma=0.001, kernel=poly;, score=0.958 total time=   0.0s\n",
      "[CV 5/5] END ...C=100, gamma=0.001, kernel=poly;, score=0.935 total time=   0.0s\n",
      "[CV 1/5] END ...C=100, gamma=0.0001, kernel=rbf;, score=0.964 total time=   0.0s\n",
      "[CV 2/5] END ...C=100, gamma=0.0001, kernel=rbf;, score=0.924 total time=   0.0s\n",
      "[CV 3/5] END ...C=100, gamma=0.0001, kernel=rbf;, score=0.971 total time=   0.0s\n",
      "[CV 4/5] END ...C=100, gamma=0.0001, kernel=rbf;, score=0.952 total time=   0.0s\n",
      "[CV 5/5] END ...C=100, gamma=0.0001, kernel=rbf;, score=0.967 total time=   0.0s\n",
      "[CV 1/5] END C=100, gamma=0.0001, kernel=linear;, score=0.900 total time=   0.1s\n",
      "[CV 2/5] END C=100, gamma=0.0001, kernel=linear;, score=0.880 total time=   0.0s\n",
      "[CV 3/5] END C=100, gamma=0.0001, kernel=linear;, score=0.939 total time=   0.1s\n",
      "[CV 4/5] END C=100, gamma=0.0001, kernel=linear;, score=0.944 total time=   0.1s\n",
      "[CV 5/5] END C=100, gamma=0.0001, kernel=linear;, score=0.948 total time=   0.1s\n",
      "[CV 1/5] END ..C=100, gamma=0.0001, kernel=poly;, score=0.943 total time=   0.1s\n",
      "[CV 2/5] END ..C=100, gamma=0.0001, kernel=poly;, score=0.900 total time=   0.1s\n",
      "[CV 3/5] END ..C=100, gamma=0.0001, kernel=poly;, score=0.941 total time=   0.0s\n",
      "[CV 4/5] END ..C=100, gamma=0.0001, kernel=poly;, score=0.950 total time=   0.0s\n",
      "[CV 5/5] END ..C=100, gamma=0.0001, kernel=poly;, score=0.932 total time=   0.0s\n",
      "[CV 1/5] END .......C=1000, gamma=1, kernel=rbf;, score=0.921 total time=   0.0s\n",
      "[CV 2/5] END .......C=1000, gamma=1, kernel=rbf;, score=0.904 total time=   0.0s\n",
      "[CV 3/5] END .......C=1000, gamma=1, kernel=rbf;, score=0.928 total time=   0.0s\n",
      "[CV 4/5] END .......C=1000, gamma=1, kernel=rbf;, score=0.933 total time=   0.0s\n",
      "[CV 5/5] END .......C=1000, gamma=1, kernel=rbf;, score=0.928 total time=   0.0s\n",
      "[CV 1/5] END ....C=1000, gamma=1, kernel=linear;, score=0.896 total time=   0.1s\n",
      "[CV 2/5] END ....C=1000, gamma=1, kernel=linear;, score=0.828 total time=   0.1s\n",
      "[CV 3/5] END ....C=1000, gamma=1, kernel=linear;, score=0.885 total time=   0.2s\n",
      "[CV 4/5] END ....C=1000, gamma=1, kernel=linear;, score=0.931 total time=   0.4s\n",
      "[CV 5/5] END ....C=1000, gamma=1, kernel=linear;, score=0.942 total time=   0.1s\n",
      "[CV 1/5] END ......C=1000, gamma=1, kernel=poly;, score=0.940 total time=   0.0s\n",
      "[CV 2/5] END ......C=1000, gamma=1, kernel=poly;, score=0.890 total time=   0.0s\n",
      "[CV 3/5] END ......C=1000, gamma=1, kernel=poly;, score=0.921 total time=   0.0s\n",
      "[CV 4/5] END ......C=1000, gamma=1, kernel=poly;, score=0.951 total time=   0.0s\n",
      "[CV 5/5] END ......C=1000, gamma=1, kernel=poly;, score=0.944 total time=   0.0s\n",
      "[CV 1/5] END .....C=1000, gamma=0.1, kernel=rbf;, score=0.958 total time=   0.0s\n",
      "[CV 2/5] END .....C=1000, gamma=0.1, kernel=rbf;, score=0.925 total time=   0.0s\n",
      "[CV 3/5] END .....C=1000, gamma=0.1, kernel=rbf;, score=0.958 total time=   0.0s\n",
      "[CV 4/5] END .....C=1000, gamma=0.1, kernel=rbf;, score=0.938 total time=   0.0s\n",
      "[CV 5/5] END .....C=1000, gamma=0.1, kernel=rbf;, score=0.965 total time=   0.0s\n",
      "[CV 1/5] END ..C=1000, gamma=0.1, kernel=linear;, score=0.896 total time=   0.2s\n",
      "[CV 2/5] END ..C=1000, gamma=0.1, kernel=linear;, score=0.828 total time=   0.2s\n",
      "[CV 3/5] END ..C=1000, gamma=0.1, kernel=linear;, score=0.885 total time=   0.1s\n",
      "[CV 4/5] END ..C=1000, gamma=0.1, kernel=linear;, score=0.931 total time=   0.3s\n",
      "[CV 5/5] END ..C=1000, gamma=0.1, kernel=linear;, score=0.942 total time=   0.1s\n",
      "[CV 1/5] END ....C=1000, gamma=0.1, kernel=poly;, score=0.940 total time=   0.1s\n",
      "[CV 2/5] END ....C=1000, gamma=0.1, kernel=poly;, score=0.890 total time=   0.0s\n",
      "[CV 3/5] END ....C=1000, gamma=0.1, kernel=poly;, score=0.921 total time=   0.1s\n",
      "[CV 4/5] END ....C=1000, gamma=0.1, kernel=poly;, score=0.951 total time=   0.1s\n",
      "[CV 5/5] END ....C=1000, gamma=0.1, kernel=poly;, score=0.944 total time=   0.1s\n",
      "[CV 1/5] END ....C=1000, gamma=0.01, kernel=rbf;, score=0.944 total time=   0.0s\n",
      "[CV 2/5] END ....C=1000, gamma=0.01, kernel=rbf;, score=0.904 total time=   0.0s\n",
      "[CV 3/5] END ....C=1000, gamma=0.01, kernel=rbf;, score=0.967 total time=   0.0s\n",
      "[CV 4/5] END ....C=1000, gamma=0.01, kernel=rbf;, score=0.942 total time=   0.0s\n",
      "[CV 5/5] END ....C=1000, gamma=0.01, kernel=rbf;, score=0.964 total time=   0.0s\n",
      "[CV 1/5] END .C=1000, gamma=0.01, kernel=linear;, score=0.896 total time=   0.1s\n",
      "[CV 2/5] END .C=1000, gamma=0.01, kernel=linear;, score=0.828 total time=   0.1s\n",
      "[CV 3/5] END .C=1000, gamma=0.01, kernel=linear;, score=0.885 total time=   0.1s\n",
      "[CV 4/5] END .C=1000, gamma=0.01, kernel=linear;, score=0.931 total time=   0.4s\n",
      "[CV 5/5] END .C=1000, gamma=0.01, kernel=linear;, score=0.942 total time=   0.1s\n",
      "[CV 1/5] END ...C=1000, gamma=0.01, kernel=poly;, score=0.943 total time=   0.0s\n",
      "[CV 2/5] END ...C=1000, gamma=0.01, kernel=poly;, score=0.892 total time=   0.0s\n",
      "[CV 3/5] END ...C=1000, gamma=0.01, kernel=poly;, score=0.926 total time=   0.0s\n",
      "[CV 4/5] END ...C=1000, gamma=0.01, kernel=poly;, score=0.943 total time=   0.0s\n",
      "[CV 5/5] END ...C=1000, gamma=0.01, kernel=poly;, score=0.938 total time=   0.0s\n",
      "[CV 1/5] END ...C=1000, gamma=0.001, kernel=rbf;, score=0.947 total time=   0.0s\n",
      "[CV 2/5] END ...C=1000, gamma=0.001, kernel=rbf;, score=0.918 total time=   0.0s\n",
      "[CV 3/5] END ...C=1000, gamma=0.001, kernel=rbf;, score=0.966 total time=   0.0s\n",
      "[CV 4/5] END ...C=1000, gamma=0.001, kernel=rbf;, score=0.956 total time=   0.0s\n",
      "[CV 5/5] END ...C=1000, gamma=0.001, kernel=rbf;, score=0.966 total time=   0.0s\n",
      "[CV 1/5] END C=1000, gamma=0.001, kernel=linear;, score=0.896 total time=   0.1s\n",
      "[CV 2/5] END C=1000, gamma=0.001, kernel=linear;, score=0.828 total time=   0.1s\n",
      "[CV 3/5] END C=1000, gamma=0.001, kernel=linear;, score=0.885 total time=   0.1s\n",
      "[CV 4/5] END C=1000, gamma=0.001, kernel=linear;, score=0.931 total time=   0.3s\n",
      "[CV 5/5] END C=1000, gamma=0.001, kernel=linear;, score=0.942 total time=   0.2s\n",
      "[CV 1/5] END ..C=1000, gamma=0.001, kernel=poly;, score=0.943 total time=   0.0s\n",
      "[CV 2/5] END ..C=1000, gamma=0.001, kernel=poly;, score=0.901 total time=   0.0s\n",
      "[CV 3/5] END ..C=1000, gamma=0.001, kernel=poly;, score=0.941 total time=   0.0s\n",
      "[CV 4/5] END ..C=1000, gamma=0.001, kernel=poly;, score=0.958 total time=   0.0s\n",
      "[CV 5/5] END ..C=1000, gamma=0.001, kernel=poly;, score=0.935 total time=   0.0s\n",
      "[CV 1/5] END ..C=1000, gamma=0.0001, kernel=rbf;, score=0.963 total time=   0.0s\n",
      "[CV 2/5] END ..C=1000, gamma=0.0001, kernel=rbf;, score=0.921 total time=   0.0s\n",
      "[CV 3/5] END ..C=1000, gamma=0.0001, kernel=rbf;, score=0.961 total time=   0.0s\n",
      "[CV 4/5] END ..C=1000, gamma=0.0001, kernel=rbf;, score=0.951 total time=   0.0s\n",
      "[CV 5/5] END ..C=1000, gamma=0.0001, kernel=rbf;, score=0.962 total time=   0.0s\n",
      "[CV 1/5] END C=1000, gamma=0.0001, kernel=linear;, score=0.896 total time=   0.1s\n",
      "[CV 2/5] END C=1000, gamma=0.0001, kernel=linear;, score=0.828 total time=   0.1s\n",
      "[CV 3/5] END C=1000, gamma=0.0001, kernel=linear;, score=0.885 total time=   0.1s\n",
      "[CV 4/5] END C=1000, gamma=0.0001, kernel=linear;, score=0.931 total time=   0.4s\n",
      "[CV 5/5] END C=1000, gamma=0.0001, kernel=linear;, score=0.942 total time=   0.1s\n",
      "[CV 1/5] END .C=1000, gamma=0.0001, kernel=poly;, score=0.943 total time=   0.0s\n",
      "[CV 2/5] END .C=1000, gamma=0.0001, kernel=poly;, score=0.900 total time=   0.0s\n",
      "[CV 3/5] END .C=1000, gamma=0.0001, kernel=poly;, score=0.941 total time=   0.0s\n",
      "[CV 4/5] END .C=1000, gamma=0.0001, kernel=poly;, score=0.950 total time=   0.0s\n",
      "[CV 5/5] END .C=1000, gamma=0.0001, kernel=poly;, score=0.932 total time=   0.0s\n"
     ]
    },
    {
     "data": {
      "text/html": [
       "<style>#sk-container-id-2 {color: black;background-color: white;}#sk-container-id-2 pre{padding: 0;}#sk-container-id-2 div.sk-toggleable {background-color: white;}#sk-container-id-2 label.sk-toggleable__label {cursor: pointer;display: block;width: 100%;margin-bottom: 0;padding: 0.3em;box-sizing: border-box;text-align: center;}#sk-container-id-2 label.sk-toggleable__label-arrow:before {content: \"▸\";float: left;margin-right: 0.25em;color: #696969;}#sk-container-id-2 label.sk-toggleable__label-arrow:hover:before {color: black;}#sk-container-id-2 div.sk-estimator:hover label.sk-toggleable__label-arrow:before {color: black;}#sk-container-id-2 div.sk-toggleable__content {max-height: 0;max-width: 0;overflow: hidden;text-align: left;background-color: #f0f8ff;}#sk-container-id-2 div.sk-toggleable__content pre {margin: 0.2em;color: black;border-radius: 0.25em;background-color: #f0f8ff;}#sk-container-id-2 input.sk-toggleable__control:checked~div.sk-toggleable__content {max-height: 200px;max-width: 100%;overflow: auto;}#sk-container-id-2 input.sk-toggleable__control:checked~label.sk-toggleable__label-arrow:before {content: \"▾\";}#sk-container-id-2 div.sk-estimator input.sk-toggleable__control:checked~label.sk-toggleable__label {background-color: #d4ebff;}#sk-container-id-2 div.sk-label input.sk-toggleable__control:checked~label.sk-toggleable__label {background-color: #d4ebff;}#sk-container-id-2 input.sk-hidden--visually {border: 0;clip: rect(1px 1px 1px 1px);clip: rect(1px, 1px, 1px, 1px);height: 1px;margin: -1px;overflow: hidden;padding: 0;position: absolute;width: 1px;}#sk-container-id-2 div.sk-estimator {font-family: monospace;background-color: #f0f8ff;border: 1px dotted black;border-radius: 0.25em;box-sizing: border-box;margin-bottom: 0.5em;}#sk-container-id-2 div.sk-estimator:hover {background-color: #d4ebff;}#sk-container-id-2 div.sk-parallel-item::after {content: \"\";width: 100%;border-bottom: 1px solid gray;flex-grow: 1;}#sk-container-id-2 div.sk-label:hover label.sk-toggleable__label {background-color: #d4ebff;}#sk-container-id-2 div.sk-serial::before {content: \"\";position: absolute;border-left: 1px solid gray;box-sizing: border-box;top: 0;bottom: 0;left: 50%;z-index: 0;}#sk-container-id-2 div.sk-serial {display: flex;flex-direction: column;align-items: center;background-color: white;padding-right: 0.2em;padding-left: 0.2em;position: relative;}#sk-container-id-2 div.sk-item {position: relative;z-index: 1;}#sk-container-id-2 div.sk-parallel {display: flex;align-items: stretch;justify-content: center;background-color: white;position: relative;}#sk-container-id-2 div.sk-item::before, #sk-container-id-2 div.sk-parallel-item::before {content: \"\";position: absolute;border-left: 1px solid gray;box-sizing: border-box;top: 0;bottom: 0;left: 50%;z-index: -1;}#sk-container-id-2 div.sk-parallel-item {display: flex;flex-direction: column;z-index: 1;position: relative;background-color: white;}#sk-container-id-2 div.sk-parallel-item:first-child::after {align-self: flex-end;width: 50%;}#sk-container-id-2 div.sk-parallel-item:last-child::after {align-self: flex-start;width: 50%;}#sk-container-id-2 div.sk-parallel-item:only-child::after {width: 0;}#sk-container-id-2 div.sk-dashed-wrapped {border: 1px dashed gray;margin: 0 0.4em 0.5em 0.4em;box-sizing: border-box;padding-bottom: 0.4em;background-color: white;}#sk-container-id-2 div.sk-label label {font-family: monospace;font-weight: bold;display: inline-block;line-height: 1.2em;}#sk-container-id-2 div.sk-label-container {text-align: center;}#sk-container-id-2 div.sk-container {/* jupyter's `normalize.less` sets `[hidden] { display: none; }` but bootstrap.min.css set `[hidden] { display: none !important; }` so we also need the `!important` here to be able to override the default hidden behavior on the sphinx rendered scikit-learn.org. See: https://github.com/scikit-learn/scikit-learn/issues/21755 */display: inline-block !important;position: relative;}#sk-container-id-2 div.sk-text-repr-fallback {display: none;}</style><div id=\"sk-container-id-2\" class=\"sk-top-container\"><div class=\"sk-text-repr-fallback\"><pre>GridSearchCV(estimator=SVC(random_state=3),\n",
       "             param_grid={&#x27;C&#x27;: [0.1, 1, 10, 100, 1000],\n",
       "                         &#x27;gamma&#x27;: [1, 0.1, 0.01, 0.001, 0.0001],\n",
       "                         &#x27;kernel&#x27;: [&#x27;rbf&#x27;, &#x27;linear&#x27;, &#x27;poly&#x27;]},\n",
       "             scoring=&#x27;roc_auc&#x27;, verbose=3)</pre><b>In a Jupyter environment, please rerun this cell to show the HTML representation or trust the notebook. <br />On GitHub, the HTML representation is unable to render, please try loading this page with nbviewer.org.</b></div><div class=\"sk-container\" hidden><div class=\"sk-item sk-dashed-wrapped\"><div class=\"sk-label-container\"><div class=\"sk-label sk-toggleable\"><input class=\"sk-toggleable__control sk-hidden--visually\" id=\"sk-estimator-id-4\" type=\"checkbox\" ><label for=\"sk-estimator-id-4\" class=\"sk-toggleable__label sk-toggleable__label-arrow\">GridSearchCV</label><div class=\"sk-toggleable__content\"><pre>GridSearchCV(estimator=SVC(random_state=3),\n",
       "             param_grid={&#x27;C&#x27;: [0.1, 1, 10, 100, 1000],\n",
       "                         &#x27;gamma&#x27;: [1, 0.1, 0.01, 0.001, 0.0001],\n",
       "                         &#x27;kernel&#x27;: [&#x27;rbf&#x27;, &#x27;linear&#x27;, &#x27;poly&#x27;]},\n",
       "             scoring=&#x27;roc_auc&#x27;, verbose=3)</pre></div></div></div><div class=\"sk-parallel\"><div class=\"sk-parallel-item\"><div class=\"sk-item\"><div class=\"sk-label-container\"><div class=\"sk-label sk-toggleable\"><input class=\"sk-toggleable__control sk-hidden--visually\" id=\"sk-estimator-id-5\" type=\"checkbox\" ><label for=\"sk-estimator-id-5\" class=\"sk-toggleable__label sk-toggleable__label-arrow\">estimator: SVC</label><div class=\"sk-toggleable__content\"><pre>SVC(random_state=3)</pre></div></div></div><div class=\"sk-serial\"><div class=\"sk-item\"><div class=\"sk-estimator sk-toggleable\"><input class=\"sk-toggleable__control sk-hidden--visually\" id=\"sk-estimator-id-6\" type=\"checkbox\" ><label for=\"sk-estimator-id-6\" class=\"sk-toggleable__label sk-toggleable__label-arrow\">SVC</label><div class=\"sk-toggleable__content\"><pre>SVC(random_state=3)</pre></div></div></div></div></div></div></div></div></div></div>"
      ],
      "text/plain": [
       "GridSearchCV(estimator=SVC(random_state=3),\n",
       "             param_grid={'C': [0.1, 1, 10, 100, 1000],\n",
       "                         'gamma': [1, 0.1, 0.01, 0.001, 0.0001],\n",
       "                         'kernel': ['rbf', 'linear', 'poly']},\n",
       "             scoring='roc_auc', verbose=3)"
      ]
     },
     "execution_count": 64,
     "metadata": {},
     "output_type": "execute_result"
    }
   ],
   "source": [
    "grid.fit(X_train, y_train)\n",
    "grid2.fit(X_train_c, y_train_c)"
   ]
  },
  {
   "cell_type": "code",
   "execution_count": 65,
   "metadata": {},
   "outputs": [
    {
     "name": "stdout",
     "output_type": "stream",
     "text": [
      "{'C': 100, 'gamma': 0.001, 'kernel': 'rbf'}\n",
      "{'C': 1, 'gamma': 0.001, 'kernel': 'rbf'}\n"
     ]
    }
   ],
   "source": [
    "print(grid.best_params_)\n",
    "print(grid2.best_params_)"
   ]
  },
  {
   "cell_type": "code",
   "execution_count": 66,
   "metadata": {},
   "outputs": [
    {
     "name": "stdout",
     "output_type": "stream",
     "text": [
      "0.7559055118110236\n",
      "0.9251968503937008\n"
     ]
    }
   ],
   "source": [
    "vector = SVC(C = 100, gamma= 0.001, kernel='rbf', probability=True, random_state=3)\n",
    "vector.fit(X_train, y_train)\n",
    "SVMprediction = vector.predict(X_test)\n",
    "\n",
    "vector_c = SVC(C = 100, gamma = 0.001, kernel='rbf', probability=True, random_state=3)\n",
    "vector_c.fit(X_train_c, y_train_c)\n",
    "SVMprediction_c = vector_c.predict(X_test_c)\n",
    "\n",
    "SVMscore = accuracy_score(y_test, SVMprediction)\n",
    "SVMscore_c = accuracy_score(y_test_c, SVMprediction_c)\n",
    "\n",
    "print(SVMscore)\n",
    "print(SVMscore_c)"
   ]
  },
  {
   "cell_type": "code",
   "execution_count": 67,
   "metadata": {},
   "outputs": [
    {
     "data": {
      "text/plain": [
       "Text(0.5, 1.0, 'SVM Emergency Performance')"
      ]
     },
     "execution_count": 67,
     "metadata": {},
     "output_type": "execute_result"
    },
    {
     "data": {
      "image/png": "[encoded data removed]",
      "text/plain": [
       "<Figure size 640x480 with 2 Axes>"
      ]
     },
     "metadata": {},
     "output_type": "display_data"
    }
   ],
   "source": [
    "cm1 = confusion_matrix(y_test_c, SVMprediction_c, labels = vector_c.classes_)\n",
    "disp = ConfusionMatrixDisplay(confusion_matrix=cm1)\n",
    "disp.plot()\n",
    "plt.title(\"SVM Emergency Performance\")"
   ]
  },
  {
   "cell_type": "code",
   "execution_count": 68,
   "metadata": {},
   "outputs": [
    {
     "data": {
      "text/plain": [
       "Text(0.5, 1.0, 'Forest Emergency Performance')"
      ]
     },
     "execution_count": 68,
     "metadata": {},
     "output_type": "execute_result"
    },
    {
     "data": {
      "image/png": "[encoded data removed]",
      "text/plain": [
       "<Figure size 640x480 with 2 Axes>"
      ]
     },
     "metadata": {},
     "output_type": "display_data"
    }
   ],
   "source": [
    "cm2 = confusion_matrix(y_test_c, forest_prediction_c, labels = forest_c.classes_)\n",
    "disp = ConfusionMatrixDisplay(confusion_matrix=cm2)\n",
    "disp.plot()\n",
    "plt.title(\"Forest Emergency Performance\")\n"
   ]
  },
  {
   "cell_type": "code",
   "execution_count": 69,
   "metadata": {},
   "outputs": [
    {
     "data": {
      "text/plain": [
       "Text(0.5, 1.0, 'Nurse Emergency Performance')"
      ]
     },
     "execution_count": 69,
     "metadata": {},
     "output_type": "execute_result"
    },
    {
     "data": {
      "image/png": "[encoded data removed]",
      "text/plain": [
       "<Figure size 640x480 with 2 Axes>"
      ]
     },
     "metadata": {},
     "output_type": "display_data"
    }
   ],
   "source": [
    "cm3 = confusion_matrix(human_compare['CAT_EXPERT'], human_compare['CAT_RN'], labels = [0, 1])\n",
    "disp = ConfusionMatrixDisplay(confusion_matrix=cm3, display_labels=[0, 1])\n",
    "disp.plot()\n",
    "plt.title(\"Nurse Emergency Performance\")"
   ]
  },
  {
   "cell_type": "code",
   "execution_count": 70,
   "metadata": {},
   "outputs": [
    {
     "data": {
      "text/plain": [
       "Index(['KTAS_RN', 'KTAS_expert', 'CAT_RN', 'CAT_EXPERT'], dtype='object')"
      ]
     },
     "execution_count": 70,
     "metadata": {},
     "output_type": "execute_result"
    }
   ],
   "source": [
    "human_compare.columns"
   ]
  },
  {
   "cell_type": "code",
   "execution_count": 71,
   "metadata": {},
   "outputs": [
    {
     "data": {
      "text/plain": [
       "26"
      ]
     },
     "execution_count": 71,
     "metadata": {},
     "output_type": "execute_result"
    }
   ],
   "source": [
    "len(human_compare[human_compare['KTAS_expert'] == 1])"
   ]
  },
  {
   "cell_type": "code",
   "execution_count": 72,
   "metadata": {},
   "outputs": [
    {
     "data": {
      "text/plain": [
       "Text(0.5, 1.0, 'Nurse Emergency Performance')"
      ]
     },
     "execution_count": 72,
     "metadata": {},
     "output_type": "execute_result"
    },
    {
     "data": {
      "image/png": "[encoded data removed]",
      "text/plain": [
       "<Figure size 640x480 with 2 Axes>"
      ]
     },
     "metadata": {},
     "output_type": "display_data"
    }
   ],
   "source": [
    "cm4 = confusion_matrix(human_compare['KTAS_expert'], human_compare['KTAS_RN'], labels = [1, 2, 3, 4, 5])\n",
    "disp = ConfusionMatrixDisplay(confusion_matrix=cm4, display_labels=[1, 2, 3, 4, 5])\n",
    "disp.plot()\n",
    "plt.title(\"Nurse Emergency Performance\")"
   ]
  },
  {
   "cell_type": "code",
   "execution_count": 73,
   "metadata": {},
   "outputs": [
    {
     "data": {
      "text/plain": [
       "Text(0.5, 1.0, 'Forest Emergency Performance')"
      ]
     },
     "execution_count": 73,
     "metadata": {},
     "output_type": "execute_result"
    },
    {
     "data": {
      "image/png": "[encoded data removed]",
      "text/plain": [
       "<Figure size 640x480 with 2 Axes>"
      ]
     },
     "metadata": {},
     "output_type": "display_data"
    }
   ],
   "source": [
    "cm5 = confusion_matrix(y_test, forest_prediction)\n",
    "disp = ConfusionMatrixDisplay(confusion_matrix=cm5, display_labels=[1, 2, 3, 4, 5])\n",
    "disp.plot()\n",
    "plt.title(\"Forest Emergency Performance\")"
   ]
  },
  {
   "cell_type": "code",
   "execution_count": 74,
   "metadata": {},
   "outputs": [],
   "source": [
    "rf_roc = forest_c.predict_proba(X_test_c)\n",
    "rf_roc = rf_roc[:,1]\n",
    "rf_auc_score = roc_auc_score(y_test_c, rf_roc)\n",
    "rf_fpr, rf_tpr, _ = roc_curve(y_test_c, rf_roc)"
   ]
  },
  {
   "cell_type": "code",
   "execution_count": 75,
   "metadata": {},
   "outputs": [],
   "source": [
    "r_line = [0 for _ in range (len(y_test_c))]\n",
    "r_auc_score = roc_auc_score(y_test_c, r_line)\n",
    "r_fpr, r_tpr, _ = roc_curve(y_test_c, r_line)"
   ]
  },
  {
   "cell_type": "code",
   "execution_count": 76,
   "metadata": {},
   "outputs": [],
   "source": [
    "SM_roc_c = vector_c.predict_proba(X_test_c.toarray())[:, 1]\n",
    "SM_auc_score = roc_auc_score(y_test_c, SM_roc_c)\n",
    "SM_fpr, SM_tpr, _ = roc_curve(y_test_c, SM_roc_c)"
   ]
  },
  {
   "cell_type": "code",
   "execution_count": 77,
   "metadata": {},
   "outputs": [
    {
     "data": {
      "image/png": "[encoded data removed]",
      "text/plain": [
       "<Figure size 640x480 with 1 Axes>"
      ]
     },
     "metadata": {},
     "output_type": "display_data"
    }
   ],
   "source": [
    "plt.plot(rf_fpr, rf_tpr, label = \"Random Forest - AUROC = %0.3f\" % rf_auc_score)\n",
    "plt.plot(r_fpr, r_tpr, label = \"Random Prediction - AUROC = %0.3f\" % r_auc_score)\n",
    "plt.plot(SM_fpr, SM_tpr, label = \"Support Vector Machine - AUROC = %0.3f\" % SM_auc_score, color= 'red')\n",
    "plt.legend()\n",
    "plt.title('ROC Curve for ML Models in Triage Prediction')\n",
    "plt.xlabel(\"False Positive Rate\")\n",
    "plt.ylabel(\"True Positive Rate\")\n",
    "plt.show()"
   ]
  },
  {
   "cell_type": "code",
   "execution_count": 78,
   "metadata": {},
   "outputs": [],
   "source": [
    "from sklearn.metrics import precision_recall_fscore_support\n",
    "from sklearn.metrics import balanced_accuracy_score"
   ]
  },
  {
   "cell_type": "code",
   "execution_count": 79,
   "metadata": {},
   "outputs": [],
   "source": [
    "nurse_metrics = precision_recall_fscore_support(human_compare['CAT_EXPERT'], human_compare['CAT_RN'])\n",
    "nurse_ba = balanced_accuracy_score(human_compare['CAT_EXPERT'], human_compare['CAT_RN'])"
   ]
  },
  {
   "cell_type": "code",
   "execution_count": 80,
   "metadata": {},
   "outputs": [],
   "source": [
    "forest_metrics = precision_recall_fscore_support(y_test_c, forest_prediction_c)\n",
    "forest_ba = balanced_accuracy_score(y_test_c, forest_prediction_c)\n",
    "svm_metrics = precision_recall_fscore_support(y_test_c, SVMprediction_c)\n",
    "svm_ba = balanced_accuracy_score(y_test_c, SVMprediction_c)"
   ]
  },
  {
   "cell_type": "code",
   "execution_count": 81,
   "metadata": {},
   "outputs": [
    {
     "name": "stdout",
     "output_type": "stream",
     "text": [
      "(array([0.86734694, 0.9646539 ]), array([0.95505618, 0.89358799]), array([0.90909091, 0.92776204]), array([534, 733]))\n"
     ]
    }
   ],
   "source": [
    "print(nurse_metrics)"
   ]
  },
  {
   "cell_type": "code",
   "execution_count": 82,
   "metadata": {},
   "outputs": [
    {
     "name": "stdout",
     "output_type": "stream",
     "text": [
      "(array([0.85585586, 0.97202797]), array([0.95959596, 0.89677419]), array([0.9047619 , 0.93288591]), array([ 99, 155]))\n"
     ]
    }
   ],
   "source": [
    "print(forest_metrics)"
   ]
  },
  {
   "cell_type": "code",
   "execution_count": 83,
   "metadata": {},
   "outputs": [
    {
     "data": {
      "text/plain": [
       "Text(0.5, 1.0, 'Nurse Emergency Performance')"
      ]
     },
     "execution_count": 83,
     "metadata": {},
     "output_type": "execute_result"
    },
    {
     "data": {
      "image/png": "[encoded data removed]",
      "text/plain": [
       "<Figure size 640x480 with 2 Axes>"
      ]
     },
     "metadata": {},
     "output_type": "display_data"
    },
    {
     "data": {
      "image/png": "[encoded data removed]",
      "text/plain": [
       "<Figure size 640x480 with 2 Axes>"
      ]
     },
     "metadata": {},
     "output_type": "display_data"
    }
   ],
   "source": [
    "cm2 = confusion_matrix(y_test_c, forest_prediction_c, labels = forest_c.classes_)\n",
    "disp = ConfusionMatrixDisplay(confusion_matrix=cm2)\n",
    "disp.plot()\n",
    "plt.title(\"Forest Emergency Performance\")\n",
    "\n",
    "cm3 = confusion_matrix(human_compare['CAT_EXPERT'], human_compare['CAT_RN'], labels = [0, 1])\n",
    "disp = ConfusionMatrixDisplay(confusion_matrix=cm3, display_labels=[0, 1])\n",
    "disp.plot()\n",
    "plt.title(\"Nurse Emergency Performance\")"
   ]
  },
  {
   "cell_type": "code",
   "execution_count": 84,
   "metadata": {},
   "outputs": [],
   "source": [
    "prec = [round(nurse_metrics[0][1], 3),round(forest_metrics[0][1], 3), round(svm_metrics[0][1], 3)]\n",
    "rec = [round(nurse_metrics[1][1],3),round(forest_metrics[1][1],3), round(svm_metrics[1][1], 3)]\n",
    "f1 = [round(nurse_ba,3),round(forest_ba,3), round(svm_ba, 3)]"
   ]
  },
  {
   "cell_type": "code",
   "execution_count": 85,
   "metadata": {},
   "outputs": [],
   "source": [
    "index = ['nurse', 'forest', 'SVM']\n",
    "data = {'index': index,\n",
    "        'precision': prec,\n",
    "        'recall': rec,\n",
    "        'balanced accuracy': f1}"
   ]
  },
  {
   "cell_type": "code",
   "execution_count": 86,
   "metadata": {},
   "outputs": [],
   "source": [
    "metrics_df = pd.DataFrame(data)"
   ]
  },
  {
   "cell_type": "code",
   "execution_count": 87,
   "metadata": {},
   "outputs": [
    {
     "data": {
      "text/html": [
       "<div>\n",
       "<style scoped>\n",
       "    .dataframe tbody tr th:only-of-type {\n",
       "        vertical-align: middle;\n",
       "    }\n",
       "\n",
       "    .dataframe tbody tr th {\n",
       "        vertical-align: top;\n",
       "    }\n",
       "\n",
       "    .dataframe thead th {\n",
       "        text-align: right;\n",
       "    }\n",
       "</style>\n",
       "<table border=\"1\" class=\"dataframe\">\n",
       "  <thead>\n",
       "    <tr style=\"text-align: right;\">\n",
       "      <th></th>\n",
       "      <th>index</th>\n",
       "      <th>precision</th>\n",
       "      <th>recall</th>\n",
       "      <th>balanced accuracy</th>\n",
       "    </tr>\n",
       "  </thead>\n",
       "  <tbody>\n",
       "    <tr>\n",
       "      <th>0</th>\n",
       "      <td>nurse</td>\n",
       "      <td>0.965</td>\n",
       "      <td>0.894</td>\n",
       "      <td>0.924</td>\n",
       "    </tr>\n",
       "    <tr>\n",
       "      <th>1</th>\n",
       "      <td>forest</td>\n",
       "      <td>0.972</td>\n",
       "      <td>0.897</td>\n",
       "      <td>0.928</td>\n",
       "    </tr>\n",
       "    <tr>\n",
       "      <th>2</th>\n",
       "      <td>SVM</td>\n",
       "      <td>0.986</td>\n",
       "      <td>0.890</td>\n",
       "      <td>0.935</td>\n",
       "    </tr>\n",
       "  </tbody>\n",
       "</table>\n",
       "</div>"
      ],
      "text/plain": [
       "    index  precision  recall  balanced accuracy\n",
       "0   nurse      0.965   0.894              0.924\n",
       "1  forest      0.972   0.897              0.928\n",
       "2     SVM      0.986   0.890              0.935"
      ]
     },
     "execution_count": 87,
     "metadata": {},
     "output_type": "execute_result"
    }
   ],
   "source": [
    "metrics_df"
   ]
  },
  {
   "cell_type": "code",
   "execution_count": 88,
   "metadata": {},
   "outputs": [],
   "source": [
    "\n",
    "\n",
    "nurse_multi = balanced_accuracy_score(human_compare['KTAS_expert'], human_compare['KTAS_RN'])\n",
    "\n",
    "forest_multi = balanced_accuracy_score(y_test, forest_prediction)\n",
    "\n",
    "SVM_multi = balanced_accuracy_score(y_test, SVMprediction)"
   ]
  },
  {
   "cell_type": "code",
   "execution_count": 89,
   "metadata": {},
   "outputs": [
    {
     "name": "stdout",
     "output_type": "stream",
     "text": [
      "Nurse Multinomial Classification Balanced Accuracy Score: 0.797\n"
     ]
    }
   ],
   "source": [
    "print(\"Nurse Multinomial Classification Balanced Accuracy Score: \" + str(round(nurse_multi, 3)))"
   ]
  },
  {
   "cell_type": "code",
   "execution_count": 90,
   "metadata": {},
   "outputs": [
    {
     "name": "stdout",
     "output_type": "stream",
     "text": [
      "Forest Multinomial Classification Balanced Accuracy Score: 0.546\n"
     ]
    }
   ],
   "source": [
    "print(\"Forest Multinomial Classification Balanced Accuracy Score: \" + str(round(forest_multi, 3)))"
   ]
  },
  {
   "cell_type": "code",
   "execution_count": 91,
   "metadata": {},
   "outputs": [
    {
     "name": "stdout",
     "output_type": "stream",
     "text": [
      "SVM Multinomial Classification Balanced Accuracy Score: 0.524\n"
     ]
    }
   ],
   "source": [
    "print(\"SVM Multinomial Classification Balanced Accuracy Score: \" + str(round(SVM_multi, 3)))"
   ]
  },
  {
   "cell_type": "code",
   "execution_count": null,
   "metadata": {},
   "outputs": [],
   "source": []
  }
 ],
 "metadata": {
  "kernelspec": {
   "display_name": "Python 3",
   "language": "python",
   "name": "python3"
  },
  "language_info": {
   "codemirror_mode": {
    "name": "ipython",
    "version": 3
   },
   "file_extension": ".py",
   "mimetype": "text/x-python",
   "name": "python",
   "nbconvert_exporter": "python",
   "pygments_lexer": "ipython3",
   "version": "3.9.6"
  },
  "orig_nbformat": 4
 },
 "nbformat": 4,
 "nbformat_minor": 2
}
